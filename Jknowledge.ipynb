{
  "nbformat": 4,
  "nbformat_minor": 0,
  "metadata": {
    "colab": {
      "name": "Untitled62.ipynb",
      "provenance": [],
      "authorship_tag": "ABX9TyM9VM5JdP9FMoMgix2eyNK5",
      "include_colab_link": true
    },
    "kernelspec": {
      "name": "python3",
      "display_name": "Python 3"
    },
    "language_info": {
      "name": "python"
    }
  },
  "cells": [
    {
      "cell_type": "markdown",
      "metadata": {
        "id": "view-in-github",
        "colab_type": "text"
      },
      "source": [
        "<a href=\"https://colab.research.google.com/github/thanadolch/KKU_data_mining/blob/master/Jknowledge.ipynb\" target=\"_parent\"><img src=\"https://colab.research.google.com/assets/colab-badge.svg\" alt=\"Open In Colab\"/></a>"
      ]
    },
    {
      "cell_type": "code",
      "metadata": {
        "colab": {
          "base_uri": "https://localhost:8080/"
        },
        "id": "X96ySAK-NE1k",
        "outputId": "207c3465-f223-4791-a0aa-539a704abb3d"
      },
      "source": [
        "from google.colab import drive\n",
        "drive.mount('/content/drive')"
      ],
      "execution_count": null,
      "outputs": [
        {
          "output_type": "stream",
          "name": "stdout",
          "text": [
            "Drive already mounted at /content/drive; to attempt to forcibly remount, call drive.mount(\"/content/drive\", force_remount=True).\n"
          ]
        }
      ]
    },
    {
      "cell_type": "code",
      "metadata": {
        "id": "GUp3wnjdRaDW"
      },
      "source": [
        "import os\n",
        "import pandas as pd\n",
        "import numpy as np\n",
        "import matplotlib.pyplot as plt\n",
        "from datetime import datetime\n",
        "from datetime import time"
      ],
      "execution_count": null,
      "outputs": []
    },
    {
      "cell_type": "code",
      "metadata": {
        "id": "OoD2RCqeVqJJ"
      },
      "source": [
        "path = '/content/drive/My Drive/Jknowledge'"
      ],
      "execution_count": null,
      "outputs": []
    },
    {
      "cell_type": "code",
      "metadata": {
        "id": "uir-Sc1PVe3O"
      },
      "source": [
        "first_data = pd.read_excel(os.path.join(path,'All_corse_study.xlsx'))"
      ],
      "execution_count": null,
      "outputs": []
    },
    {
      "cell_type": "code",
      "metadata": {
        "id": "GKSqUf52VyI7"
      },
      "source": [
        "listed = set(list(first_data['โรงเรียนอยู่จังหวัดอะไร']))"
      ],
      "execution_count": null,
      "outputs": []
    },
    {
      "cell_type": "code",
      "metadata": {
        "colab": {
          "base_uri": "https://localhost:8080/"
        },
        "id": "pUrMkiTWV_x_",
        "outputId": "63fa5a4f-c6d2-425f-d937-48b7ba121812"
      },
      "source": [
        "listed"
      ],
      "execution_count": null,
      "outputs": [
        {
          "output_type": "execute_result",
          "data": {
            "text/plain": [
              "{'  นครราชสีมา',\n",
              " ' ปัตตานี',\n",
              " ' อุดรธานี',\n",
              " '.',\n",
              " '0656417769',\n",
              " 'Kalasin',\n",
              " 'กทม',\n",
              " 'กทม.',\n",
              " 'กระบี่',\n",
              " 'กรุงเทพ',\n",
              " 'กรุงเทพมหานคร',\n",
              " 'กรุงเทพมหานคร ',\n",
              " 'กรุงเทพมหานคร\\u200b',\n",
              " 'กรุงเทพฯ',\n",
              " 'กรุงเทพฯ\\u200b',\n",
              " 'กรุงเทพ\\u200bมหานคร\\u200b',\n",
              " 'กรุงเพทมหานคร',\n",
              " 'กรุงเพพมหานคร',\n",
              " 'กรุวเทพมหานคร',\n",
              " 'กาญจนบุรี',\n",
              " 'กาญจนบุรี\\u200b',\n",
              " 'กาฬสินธุ์',\n",
              " 'กาฬสินธุ์\\u200b',\n",
              " 'กาฬสินธ์',\n",
              " 'กำเเพงเพชร',\n",
              " 'กำเเพง\\u200bเพชร\\u200b',\n",
              " 'กำแพงเพชร',\n",
              " 'กำแพงเพชร ',\n",
              " 'กำแพงเพชร\\u200b',\n",
              " 'ขอนเเก่น',\n",
              " 'ขอนแก่น',\n",
              " 'ขอนแก่น ',\n",
              " 'ขอนแก่น\\u200b',\n",
              " 'ขอนแด่น',\n",
              " 'ขอบแก่น',\n",
              " 'จ.ขอนแก่น',\n",
              " 'จ.ชัยภูมิ',\n",
              " 'จ.นคปฐม',\n",
              " 'จ.นครศรีธรรมราช',\n",
              " 'จ.นราธิวาส',\n",
              " 'จ.น่าน',\n",
              " 'จ.ปัตตานี',\n",
              " 'จ.มหาสารคาม',\n",
              " 'จ.ยะลา',\n",
              " 'จ.ระยอง',\n",
              " 'จ.ลำพูน',\n",
              " 'จ.สกลนคร',\n",
              " 'จ.หนองบัวลำภู',\n",
              " 'จ.อุดรธานี',\n",
              " 'จ.อุบลราชธานี',\n",
              " 'จ.เชียงใหม่',\n",
              " 'จ.เลย',\n",
              " 'จ.แพร่',\n",
              " 'จังหปัตตานี',\n",
              " 'จังหวัด กาฬสินธุ์',\n",
              " 'จังหวัด ตรัง',\n",
              " 'จังหวัด นราธิวาส',\n",
              " 'จังหวัด ปัตตานี',\n",
              " 'จังหวัด พัทลุง',\n",
              " 'จังหวัด ร้อยเอ็ด',\n",
              " 'จังหวัด สุรินทร์',\n",
              " 'จังหวัดกระบี่',\n",
              " 'จังหวัดกรุงเทพมหานคร',\n",
              " 'จังหวัดกาญจนบุรี',\n",
              " 'จังหวัดกาฬสินธุ์',\n",
              " 'จังหวัดขอนแก่น',\n",
              " 'จังหวัดชัยนาท',\n",
              " 'จังหวัดชัยภมิ',\n",
              " 'จังหวัดชัยภูมิ',\n",
              " 'จังหวัดตรัง',\n",
              " 'จังหวัดตราด',\n",
              " 'จังหวัดตาก',\n",
              " 'จังหวัดนครราชสีมา',\n",
              " 'จังหวัดนครศรีธรรมราช',\n",
              " 'จังหวัดนราธิวาส',\n",
              " 'จังหวัดน่าน',\n",
              " 'จังหวัดน่าน ',\n",
              " 'จังหวัดบุรีรัมย์',\n",
              " 'จังหวัดปราจีนบุรี',\n",
              " 'จังหวัดปัตตานี',\n",
              " 'จังหวัดพระนครศรีอยุธยา',\n",
              " 'จังหวัดพัทลุง',\n",
              " 'จังหวัดพิษณุโลก',\n",
              " 'จังหวัดมหาสารคาม',\n",
              " 'จังหวัดมุกดาหาร',\n",
              " 'จังหวัดยะลา',\n",
              " 'จังหวัดร้อยเอ็ด',\n",
              " 'จังหวัดลำพูน',\n",
              " 'จังหวัดศรีษะเกษ อ.เบญจลักษ์ 33110',\n",
              " 'จังหวัดศรีสะเกษ',\n",
              " 'จังหวัดสกลนคร',\n",
              " 'จังหวัดสงขลา',\n",
              " 'จังหวัดสตูล',\n",
              " 'จังหวัดสมุทรปราการ',\n",
              " 'จังหวัดสุพรรณบุรี',\n",
              " 'จังหวัดสุรินทร์',\n",
              " 'จังหวัดหนองคาย',\n",
              " 'จังหวัดหนองบัวลำภู',\n",
              " 'จังหวัดอุดรธานี',\n",
              " 'จังหวัดอุบลราชธานี',\n",
              " 'จังหวัดเชียงราย',\n",
              " 'จังหวัดเชียงใหม่',\n",
              " 'จังหวัดเลย',\n",
              " 'จังหวัดแพร่',\n",
              " 'จังหวัด\\u200b ปัตตานี\\u200b',\n",
              " 'จังหวัด\\u200bกาญจนบุรี\\u200b',\n",
              " 'จังหวัด\\u200bนครศรีธรรมราช\\u200b',\n",
              " 'จังหวัด\\u200bอุบลราชธานี\\u200b',\n",
              " 'จันทบุรี',\n",
              " 'จันทบุรี\\u200b',\n",
              " 'ฉะเชิงเทรา',\n",
              " 'ชลบุรี',\n",
              " 'ชลบุรี่',\n",
              " 'ชัยนาท',\n",
              " 'ชัยภูมิ',\n",
              " 'ชัยภูมิ\\u200b',\n",
              " 'ชุมพร',\n",
              " 'ชุมพร ',\n",
              " 'ต.ลี้ อ.ลี้ จ.ลำพูน',\n",
              " 'ตรัง',\n",
              " 'ตราด',\n",
              " 'ตาก',\n",
              " 'นครนายก',\n",
              " 'นครปฐม',\n",
              " 'นครปฐม\\u200b',\n",
              " 'นครพนม',\n",
              " 'นครพนม\\u200b',\n",
              " 'นครราชสีมา',\n",
              " 'นครราชสีมา\\u200b',\n",
              " 'นครศรีธรรมราช',\n",
              " 'นครศรีธรรมราช\\u200b',\n",
              " 'นครศรี\\u200bธรรมราช\\u200b',\n",
              " 'นครสวรรค์',\n",
              " 'นครสวรรค์\\u200b',\n",
              " 'นครสวรรรค์',\n",
              " 'นคร\\u200bศรี\\u200bธรรมราช\\u200b',\n",
              " 'นคร\\u200bศรี\\u200bธรรม\\u200bราช\\u200b',\n",
              " 'นนทบุรี',\n",
              " 'นนทบุรี\\u200b',\n",
              " 'นราธวาส',\n",
              " 'นราธิวาส',\n",
              " 'นราธิวาส\\u200b',\n",
              " 'น่าน',\n",
              " 'บึงกาฬ',\n",
              " 'บึงกาฬ\\u200b',\n",
              " 'บุรีรัมย์',\n",
              " 'บุรีรัมย์\\u200b',\n",
              " 'บุรีรีมย์',\n",
              " 'ปทุมธานี',\n",
              " 'ปทุมธานี ',\n",
              " 'ปทุมธานี\\u200b',\n",
              " 'ประจวบคีรีขันธ์',\n",
              " 'ปราจิณราษฎรอำรุง',\n",
              " 'ปราจีนบุรี',\n",
              " 'ปัตตาน',\n",
              " 'ปัตตานี',\n",
              " 'ปัตตานี ',\n",
              " 'ปัตตานี\\u200b',\n",
              " 'พระธาตุหนองสามหมื่น',\n",
              " 'พระนครศรรอยุธยา',\n",
              " 'พระนครศรีอยุธยา',\n",
              " 'พระนครศรีอยุธยา\\u200b',\n",
              " 'พระ\\u200bนคร\\u200bศรี\\u200bอยุธยา\\u200b',\n",
              " 'พะเยา',\n",
              " 'พังงา',\n",
              " 'พัทลุง',\n",
              " 'พัทลุง\\u200b',\n",
              " 'พิจิตร',\n",
              " 'พิษณุโลก',\n",
              " 'ภูเก็ต',\n",
              " 'ภูเก็ต\\u200b',\n",
              " 'มหาสารคาม',\n",
              " 'มหาสารคาม\\u200b',\n",
              " 'มุกดาหาร',\n",
              " 'ยะลา',\n",
              " 'ยโสธร',\n",
              " 'ยโสธร\\u200b',\n",
              " 'ระนอง',\n",
              " 'ระยอง',\n",
              " 'ราชบุรี',\n",
              " 'ราชบุรี ',\n",
              " 'ร้อนเอ็ด',\n",
              " 'ร้อยเอ็ด',\n",
              " 'ร้อยเอ็ด\\u200b',\n",
              " 'ลพบุรี',\n",
              " 'ลพบุรี\\u200b',\n",
              " 'ลำปาง',\n",
              " 'ลำปาว',\n",
              " 'ลำพูน',\n",
              " 'ลำพูน\\u200b',\n",
              " 'ศรีสะเกษ',\n",
              " 'ศรีสะเกษ\\u200b',\n",
              " 'ศรีเกษ',\n",
              " 'สกลนคร',\n",
              " 'สกล\\u200bนคร\\u200b',\n",
              " 'สงขลา',\n",
              " 'สตูล',\n",
              " 'สมุทรปรากร',\n",
              " 'สมุทรปราการ',\n",
              " 'สมุทรปราการ\\u200b',\n",
              " 'สมุทรสาคร',\n",
              " 'สมุทร\\u200bปราการ',\n",
              " 'สมุทร\\u200bปราการ\\u200b',\n",
              " 'สระบุรี',\n",
              " 'สระเเก้ว',\n",
              " 'สระแก้ว',\n",
              " 'สายบุรี',\n",
              " 'สิงห',\n",
              " 'สิงห์บุรี',\n",
              " 'สุพรร',\n",
              " 'สุพรรณ',\n",
              " 'สุพรรณบุรี',\n",
              " 'สุพรรณบุรี\\u200b',\n",
              " 'สุร',\n",
              " 'สุราษฎร์ธานี',\n",
              " 'สุราษฎร์ธานี\\u200b',\n",
              " 'สุราษฎร์\\u200bธานี\\u200b',\n",
              " 'สุราษฏร์ธานี',\n",
              " 'สุรินทร์',\n",
              " 'สุรินทร์\\u200b',\n",
              " 'สุโขทัย',\n",
              " 'หนองคาย',\n",
              " 'หนองคาย ',\n",
              " 'หนองบัวลำภู',\n",
              " 'อ.เบญจลักษ์ จ.ศรีสะเกษ 33110',\n",
              " 'อยุธยา',\n",
              " 'อยุธยาครับ',\n",
              " 'อรัญประเทศ',\n",
              " 'อำนาจเจริญ',\n",
              " 'อำนา\\u200bจ\\u200bเจริญ\\u200b',\n",
              " 'อุดรธาน',\n",
              " 'อุดรธานี',\n",
              " 'อุตรดิตถ์',\n",
              " 'อุตรดิตถ์\\u200b',\n",
              " 'อุทัยธานี',\n",
              " 'อุทัยธานี\\u200b',\n",
              " 'อุบลรา',\n",
              " 'อุบลราชธานี',\n",
              " 'อุบลราชธานี\\u200b',\n",
              " 'อุบลราอุบลราชธานี',\n",
              " 'อ่างทอง',\n",
              " 'อ่างทอง\\u200b',\n",
              " 'เขียงใหม',\n",
              " 'เขียงใหม่',\n",
              " 'เชียงราย',\n",
              " 'เชียงใหม่',\n",
              " 'เพชรบุรี',\n",
              " 'เพชรบูรณ์',\n",
              " 'เพชรบูรณ์\\u200b',\n",
              " 'เลย',\n",
              " 'เเพร่',\n",
              " 'แพร่',\n",
              " 'แม่ฮ่องสอน',\n",
              " 'โรงเรียน ภูเขียว',\n",
              " 'โรงเรียนกรุงหยันวิทยาคาร',\n",
              " 'โรงเรียนพล',\n",
              " 'โรงเรียนวัฒนธรรมอิสลาม',\n",
              " 'โรงเรียนเทศบาล  ๖(วัดตันตยาภิรม) จ.ตรัง',\n",
              " 'โรงเรียนโคกสำโรงวิทยา'}"
            ]
          },
          "metadata": {},
          "execution_count": 77
        }
      ]
    },
    {
      "cell_type": "code",
      "metadata": {
        "id": "Y0wYWLWQWBTv"
      },
      "source": [
        "first_data['ประทับเวลา'] = pd.to_datetime(first_data['ประทับเวลา'],format ='%Y/%m/%d %H:%M:%S.%f',errors='coerce')"
      ],
      "execution_count": null,
      "outputs": []
    },
    {
      "cell_type": "code",
      "metadata": {
        "id": "Awbu0hlHlGUF"
      },
      "source": [
        "first_data['time'] = first_data['ประทับเวลา'].dt.time"
      ],
      "execution_count": null,
      "outputs": []
    },
    {
      "cell_type": "code",
      "metadata": {
        "colab": {
          "base_uri": "https://localhost:8080/",
          "height": 1000
        },
        "id": "jz1gse6Bl8ky",
        "outputId": "b11beec5-1a93-454c-c735-f84dcc822374"
      },
      "source": [
        "first_data.head()"
      ],
      "execution_count": null,
      "outputs": [
        {
          "output_type": "execute_result",
          "data": {
            "text/html": [
              "<div>\n",
              "<style scoped>\n",
              "    .dataframe tbody tr th:only-of-type {\n",
              "        vertical-align: middle;\n",
              "    }\n",
              "\n",
              "    .dataframe tbody tr th {\n",
              "        vertical-align: top;\n",
              "    }\n",
              "\n",
              "    .dataframe thead th {\n",
              "        text-align: right;\n",
              "    }\n",
              "</style>\n",
              "<table border=\"1\" class=\"dataframe\">\n",
              "  <thead>\n",
              "    <tr style=\"text-align: right;\">\n",
              "      <th></th>\n",
              "      <th>ประทับเวลา</th>\n",
              "      <th>ที่อยู่อีเมล</th>\n",
              "      <th>คำนำหน้า</th>\n",
              "      <th>ชื่อ-สกุล **ภาษาไทย**</th>\n",
              "      <th>โรงเรียน **ภาษาไทย** (พิมพ์คำว่าโรงเรียนนำหน้า) เช่น โรงเรียนเจโนเลจ</th>\n",
              "      <th>คำนำหน้า **ภาษาอังกฤษ**</th>\n",
              "      <th>ชื่อ-สกุล **ภาษาอังกฤษ**</th>\n",
              "      <th>โรงเรียน **ภาษาอังกฤษ** (โดยมีคำว่า School ต่อท้าย) เช่น Jknowledge School</th>\n",
              "      <th>ชื่อเล่น</th>\n",
              "      <th>ระดับชั้น</th>\n",
              "      <th>เบอร์โทรศัพท์</th>\n",
              "      <th>โรงเรียนอยู่จังหวัดอะไร</th>\n",
              "      <th>สาขาและมหาวิทยาลัยที่อยากเรียน</th>\n",
              "      <th>หากไม่แน่ใจว่ากรอกข้อมูลถูกต้องและครบถ้วนหรือไม่ ให้น้องๆกดย้อนกลับเพื่อตรวจสอบและแก้ไข ข้อมูลเพื่อความถูกต้องก่อนกดส่ง เพราะหากกรอกข้อมูลผิดพลาด ทางสถาบันขอสงวนสิทธิ์ในการแก้ไขข้อมูลทุกกรณี</th>\n",
              "      <th>Unnamed: 14</th>\n",
              "      <th>คอร์ส</th>\n",
              "      <th>time</th>\n",
              "    </tr>\n",
              "  </thead>\n",
              "  <tbody>\n",
              "    <tr>\n",
              "      <th>0</th>\n",
              "      <td>2021-07-26 13:53:09.391</td>\n",
              "      <td>Trakaukk@gmail.com</td>\n",
              "      <td>นางสาว</td>\n",
              "      <td>กนกพร แทรก​สุข​</td>\n",
              "      <td>โรงเรียน​ปากพนัง​</td>\n",
              "      <td>Miss</td>\n",
              "      <td>Kanokporn​ thraksuk​</td>\n",
              "      <td>Pakphanang​ School</td>\n",
              "      <td>แยม</td>\n",
              "      <td>ม.5</td>\n",
              "      <td>0987109760</td>\n",
              "      <td>นครศรีธรรมราช​</td>\n",
              "      <td>ศึกษา​ศาสตร์​ มหาวิทยาลัย​ศรีนครินทร์​วิโรฒ​</td>\n",
              "      <td>รับทราบ</td>\n",
              "      <td>NaN</td>\n",
              "      <td>ครู</td>\n",
              "      <td>13:53:09.391000</td>\n",
              "    </tr>\n",
              "    <tr>\n",
              "      <th>1</th>\n",
              "      <td>2021-07-26 13:56:57.774</td>\n",
              "      <td>natthannicha2003@gmail.com</td>\n",
              "      <td>นางสาว</td>\n",
              "      <td>ณัฏฐณิชา รอดเทียน</td>\n",
              "      <td>โรงเรียนนครสวรรค์</td>\n",
              "      <td>Miss</td>\n",
              "      <td>Nattanicha Rodthian</td>\n",
              "      <td>Nakhonsawan school</td>\n",
              "      <td>แอร์</td>\n",
              "      <td>ม.6</td>\n",
              "      <td>0918390476</td>\n",
              "      <td>นครสวรรค์</td>\n",
              "      <td>ศึกษาศาสตร์ มหาลัยเชียงใหม่</td>\n",
              "      <td>รับทราบ</td>\n",
              "      <td>NaN</td>\n",
              "      <td>ครู</td>\n",
              "      <td>13:56:57.774000</td>\n",
              "    </tr>\n",
              "    <tr>\n",
              "      <th>2</th>\n",
              "      <td>2021-07-26 15:45:23.012</td>\n",
              "      <td>nichabball@gmail.com</td>\n",
              "      <td>นางสาว</td>\n",
              "      <td>นิชาภรณ์ แมนสถิตย์</td>\n",
              "      <td>โรงเรียนอัสสัมชัญนครราชสีมา</td>\n",
              "      <td>Miss</td>\n",
              "      <td>Nichaporn Mansatit</td>\n",
              "      <td>Assumption College Nakhonratchasima</td>\n",
              "      <td>บอลลูน</td>\n",
              "      <td>ม.6</td>\n",
              "      <td>0933264244</td>\n",
              "      <td>นครราชสีมา</td>\n",
              "      <td>สาขาวิคณิตศาสตร์ศึกษามหาวิทยาลัยขอนแก่น</td>\n",
              "      <td>รับทราบ</td>\n",
              "      <td>NaN</td>\n",
              "      <td>ครู</td>\n",
              "      <td>15:45:23.012000</td>\n",
              "    </tr>\n",
              "    <tr>\n",
              "      <th>3</th>\n",
              "      <td>2021-07-26 15:50:23.971</td>\n",
              "      <td>kusananyeen@gmail.com</td>\n",
              "      <td>นางสาว</td>\n",
              "      <td>พิชญา คุสนั่น</td>\n",
              "      <td>โรงเรียนชุมพลโพนพิสัย</td>\n",
              "      <td>Miss</td>\n",
              "      <td>Phichaya kusanan</td>\n",
              "      <td>Chumpholphonphisai</td>\n",
              "      <td>จีนยีนส์</td>\n",
              "      <td>ม.6</td>\n",
              "      <td>0624972615</td>\n",
              "      <td>หนองคาย</td>\n",
              "      <td>ศึกษาศาสตร์มหาวิทยาลัยมหาสารคาม</td>\n",
              "      <td>รับทราบ</td>\n",
              "      <td>NaN</td>\n",
              "      <td>ครู</td>\n",
              "      <td>15:50:23.971000</td>\n",
              "    </tr>\n",
              "    <tr>\n",
              "      <th>4</th>\n",
              "      <td>2021-07-26 15:51:14.971</td>\n",
              "      <td>husnams2546@gmail.com</td>\n",
              "      <td>นางสาว</td>\n",
              "      <td>ฮุสนา หมะสะอะ</td>\n",
              "      <td>โรงเรียนจริยธรรมศึกษา มูลนิธิ</td>\n",
              "      <td>Miss</td>\n",
              "      <td>Husna Masa-a</td>\n",
              "      <td>Chariyathamsuksa Foundation School</td>\n",
              "      <td>นา</td>\n",
              "      <td>ม.6</td>\n",
              "      <td>0620690842</td>\n",
              "      <td>จังหวัดสงขลา</td>\n",
              "      <td>สาขาวิชาภาษาไทย มหาวิทยาลัยสงขลานครินทร์ วิทยา...</td>\n",
              "      <td>รับทราบ</td>\n",
              "      <td>NaN</td>\n",
              "      <td>ครู</td>\n",
              "      <td>15:51:14.971000</td>\n",
              "    </tr>\n",
              "  </tbody>\n",
              "</table>\n",
              "</div>"
            ],
            "text/plain": [
              "               ประทับเวลา                ที่อยู่อีเมล  ... คอร์ส             time\n",
              "0 2021-07-26 13:53:09.391          Trakaukk@gmail.com  ...   ครู  13:53:09.391000\n",
              "1 2021-07-26 13:56:57.774  natthannicha2003@gmail.com  ...   ครู  13:56:57.774000\n",
              "2 2021-07-26 15:45:23.012        nichabball@gmail.com  ...   ครู  15:45:23.012000\n",
              "3 2021-07-26 15:50:23.971       kusananyeen@gmail.com  ...   ครู  15:50:23.971000\n",
              "4 2021-07-26 15:51:14.971       husnams2546@gmail.com  ...   ครู  15:51:14.971000\n",
              "\n",
              "[5 rows x 17 columns]"
            ]
          },
          "metadata": {},
          "execution_count": 80
        }
      ]
    },
    {
      "cell_type": "code",
      "metadata": {
        "colab": {
          "base_uri": "https://localhost:8080/"
        },
        "id": "E5dTV26ll_N2",
        "outputId": "57e62de5-ea5e-4123-d427-53bec15003df"
      },
      "source": [
        "first_data_time0 = first_data[first_data['time'] < time(hour=1,minute=00,second=00)]\n",
        "first_data_time0['ช่วงเวลา'] = '00.00-01.00'"
      ],
      "execution_count": null,
      "outputs": [
        {
          "output_type": "stream",
          "name": "stderr",
          "text": [
            "/usr/local/lib/python3.7/dist-packages/ipykernel_launcher.py:2: SettingWithCopyWarning: \n",
            "A value is trying to be set on a copy of a slice from a DataFrame.\n",
            "Try using .loc[row_indexer,col_indexer] = value instead\n",
            "\n",
            "See the caveats in the documentation: https://pandas.pydata.org/pandas-docs/stable/user_guide/indexing.html#returning-a-view-versus-a-copy\n",
            "  \n"
          ]
        }
      ]
    },
    {
      "cell_type": "code",
      "metadata": {
        "colab": {
          "base_uri": "https://localhost:8080/"
        },
        "id": "_lTW9NtVoKZu",
        "outputId": "6096b099-e691-4829-93e3-f8b116aa6166"
      },
      "source": [
        "first_data_time1 = first_data[first_data['time'] >= time(hour=1,minute=00,second=00)]\n",
        "first_data_time01 = first_data_time1[first_data_time1['time'] < time(hour=2,minute=00,second=00)]\n",
        "first_data_time01['ช่วงเวลา'] = '01.00-02.00'"
      ],
      "execution_count": null,
      "outputs": [
        {
          "output_type": "stream",
          "name": "stderr",
          "text": [
            "/usr/local/lib/python3.7/dist-packages/ipykernel_launcher.py:3: SettingWithCopyWarning: \n",
            "A value is trying to be set on a copy of a slice from a DataFrame.\n",
            "Try using .loc[row_indexer,col_indexer] = value instead\n",
            "\n",
            "See the caveats in the documentation: https://pandas.pydata.org/pandas-docs/stable/user_guide/indexing.html#returning-a-view-versus-a-copy\n",
            "  This is separate from the ipykernel package so we can avoid doing imports until\n"
          ]
        }
      ]
    },
    {
      "cell_type": "code",
      "metadata": {
        "colab": {
          "base_uri": "https://localhost:8080/"
        },
        "id": "G8XRat48onNM",
        "outputId": "1f873af7-ecc9-440a-9486-abc14753413f"
      },
      "source": [
        "first_data_time2 = first_data[first_data['time'] >= time(hour=2,minute=00,second=00)]\n",
        "first_data_time02 = first_data_time2[first_data_time2['time'] < time(hour=3,minute=00,second=00)]\n",
        "first_data_time02['ช่วงเวลา'] = '02.00-03.00'"
      ],
      "execution_count": null,
      "outputs": [
        {
          "output_type": "stream",
          "name": "stderr",
          "text": [
            "/usr/local/lib/python3.7/dist-packages/ipykernel_launcher.py:3: SettingWithCopyWarning: \n",
            "A value is trying to be set on a copy of a slice from a DataFrame.\n",
            "Try using .loc[row_indexer,col_indexer] = value instead\n",
            "\n",
            "See the caveats in the documentation: https://pandas.pydata.org/pandas-docs/stable/user_guide/indexing.html#returning-a-view-versus-a-copy\n",
            "  This is separate from the ipykernel package so we can avoid doing imports until\n"
          ]
        }
      ]
    },
    {
      "cell_type": "code",
      "metadata": {
        "colab": {
          "base_uri": "https://localhost:8080/"
        },
        "id": "AM-MaA3xqMrT",
        "outputId": "b8463841-a8eb-42fe-b3da-e2fdbdbfddfa"
      },
      "source": [
        "first_data_time3 = first_data[first_data['time'] >= time(hour=3,minute=00,second=00)]\n",
        "first_data_time03 = first_data_time3[first_data_time3['time'] < time(hour=4,minute=00,second=00)]\n",
        "first_data_time03['ช่วงเวลา'] = '03.00-04.00'"
      ],
      "execution_count": null,
      "outputs": [
        {
          "output_type": "stream",
          "name": "stderr",
          "text": [
            "/usr/local/lib/python3.7/dist-packages/ipykernel_launcher.py:3: SettingWithCopyWarning: \n",
            "A value is trying to be set on a copy of a slice from a DataFrame.\n",
            "Try using .loc[row_indexer,col_indexer] = value instead\n",
            "\n",
            "See the caveats in the documentation: https://pandas.pydata.org/pandas-docs/stable/user_guide/indexing.html#returning-a-view-versus-a-copy\n",
            "  This is separate from the ipykernel package so we can avoid doing imports until\n"
          ]
        }
      ]
    },
    {
      "cell_type": "code",
      "metadata": {
        "colab": {
          "base_uri": "https://localhost:8080/"
        },
        "id": "9MdwAZRuqZGF",
        "outputId": "7607f177-d18a-4459-cc2e-2bf257b92e21"
      },
      "source": [
        "first_data_time4 = first_data[first_data['time'] >= time(hour=4,minute=00,second=00)]\n",
        "first_data_time04 = first_data_time4[first_data_time4['time'] < time(hour=5,minute=00,second=00)]\n",
        "first_data_time04['ช่วงเวลา'] = '04.00-05.00'"
      ],
      "execution_count": null,
      "outputs": [
        {
          "output_type": "stream",
          "name": "stderr",
          "text": [
            "/usr/local/lib/python3.7/dist-packages/ipykernel_launcher.py:3: SettingWithCopyWarning: \n",
            "A value is trying to be set on a copy of a slice from a DataFrame.\n",
            "Try using .loc[row_indexer,col_indexer] = value instead\n",
            "\n",
            "See the caveats in the documentation: https://pandas.pydata.org/pandas-docs/stable/user_guide/indexing.html#returning-a-view-versus-a-copy\n",
            "  This is separate from the ipykernel package so we can avoid doing imports until\n"
          ]
        }
      ]
    },
    {
      "cell_type": "code",
      "metadata": {
        "colab": {
          "base_uri": "https://localhost:8080/"
        },
        "id": "NlymMOgtqjKf",
        "outputId": "d7057012-97c3-48d0-846d-9b7e78558b0a"
      },
      "source": [
        "first_data_time5 = first_data[first_data['time'] >= time(hour=5,minute=00,second=00)]\n",
        "first_data_time05 = first_data_time5[first_data_time5['time'] < time(hour=6,minute=00,second=00)]\n",
        "first_data_time05['ช่วงเวลา'] = '05.00-06.00'"
      ],
      "execution_count": null,
      "outputs": [
        {
          "output_type": "stream",
          "name": "stderr",
          "text": [
            "/usr/local/lib/python3.7/dist-packages/ipykernel_launcher.py:3: SettingWithCopyWarning: \n",
            "A value is trying to be set on a copy of a slice from a DataFrame.\n",
            "Try using .loc[row_indexer,col_indexer] = value instead\n",
            "\n",
            "See the caveats in the documentation: https://pandas.pydata.org/pandas-docs/stable/user_guide/indexing.html#returning-a-view-versus-a-copy\n",
            "  This is separate from the ipykernel package so we can avoid doing imports until\n"
          ]
        }
      ]
    },
    {
      "cell_type": "code",
      "metadata": {
        "colab": {
          "base_uri": "https://localhost:8080/"
        },
        "id": "U0RCXljfqwur",
        "outputId": "acaaa506-9c36-40ec-ed3d-5fe62de2c821"
      },
      "source": [
        "first_data_time6 = first_data[first_data['time'] >= time(hour=6,minute=00,second=00)]\n",
        "first_data_time06 = first_data_time6[first_data_time6['time'] < time(hour=7,minute=00,second=00)]\n",
        "first_data_time06['ช่วงเวลา'] = '06.00-07.00'"
      ],
      "execution_count": null,
      "outputs": [
        {
          "output_type": "stream",
          "name": "stderr",
          "text": [
            "/usr/local/lib/python3.7/dist-packages/ipykernel_launcher.py:3: SettingWithCopyWarning: \n",
            "A value is trying to be set on a copy of a slice from a DataFrame.\n",
            "Try using .loc[row_indexer,col_indexer] = value instead\n",
            "\n",
            "See the caveats in the documentation: https://pandas.pydata.org/pandas-docs/stable/user_guide/indexing.html#returning-a-view-versus-a-copy\n",
            "  This is separate from the ipykernel package so we can avoid doing imports until\n"
          ]
        }
      ]
    },
    {
      "cell_type": "code",
      "metadata": {
        "colab": {
          "base_uri": "https://localhost:8080/"
        },
        "id": "OGxA1ejIq5Rd",
        "outputId": "f576f53e-d9f8-40c5-c140-6bf3226a629d"
      },
      "source": [
        "first_data_time7 = first_data[first_data['time'] >= time(hour=7,minute=00,second=00)]\n",
        "first_data_time07 = first_data_time7[first_data_time7['time'] < time(hour=8,minute=00,second=00)]\n",
        "first_data_time07['ช่วงเวลา'] = '07.00-08.00'"
      ],
      "execution_count": null,
      "outputs": [
        {
          "output_type": "stream",
          "name": "stderr",
          "text": [
            "/usr/local/lib/python3.7/dist-packages/ipykernel_launcher.py:3: SettingWithCopyWarning: \n",
            "A value is trying to be set on a copy of a slice from a DataFrame.\n",
            "Try using .loc[row_indexer,col_indexer] = value instead\n",
            "\n",
            "See the caveats in the documentation: https://pandas.pydata.org/pandas-docs/stable/user_guide/indexing.html#returning-a-view-versus-a-copy\n",
            "  This is separate from the ipykernel package so we can avoid doing imports until\n"
          ]
        }
      ]
    },
    {
      "cell_type": "code",
      "metadata": {
        "colab": {
          "base_uri": "https://localhost:8080/"
        },
        "id": "g7-9wTRnrDAJ",
        "outputId": "ffbaa9c3-1fcf-4f24-ec49-f08b469efa6c"
      },
      "source": [
        "first_data_time8 = first_data[first_data['time'] >= time(hour=8,minute=00,second=00)]\n",
        "first_data_time08 = first_data_time8[first_data_time8['time'] < time(hour=9,minute=00,second=00)]\n",
        "first_data_time08['ช่วงเวลา'] = '08.00-09.00'"
      ],
      "execution_count": null,
      "outputs": [
        {
          "output_type": "stream",
          "name": "stderr",
          "text": [
            "/usr/local/lib/python3.7/dist-packages/ipykernel_launcher.py:3: SettingWithCopyWarning: \n",
            "A value is trying to be set on a copy of a slice from a DataFrame.\n",
            "Try using .loc[row_indexer,col_indexer] = value instead\n",
            "\n",
            "See the caveats in the documentation: https://pandas.pydata.org/pandas-docs/stable/user_guide/indexing.html#returning-a-view-versus-a-copy\n",
            "  This is separate from the ipykernel package so we can avoid doing imports until\n"
          ]
        }
      ]
    },
    {
      "cell_type": "code",
      "metadata": {
        "colab": {
          "base_uri": "https://localhost:8080/"
        },
        "id": "IwbxpGjmrPWc",
        "outputId": "1fa6d16a-1c56-414f-b916-7c65774a3ce8"
      },
      "source": [
        "first_data_time9 = first_data[first_data['time'] >= time(hour=9,minute=00,second=00)]\n",
        "first_data_time09 = first_data_time9[first_data_time9['time'] < time(hour=10,minute=00,second=00)]\n",
        "first_data_time09['ช่วงเวลา'] = '09.00-10.00'"
      ],
      "execution_count": null,
      "outputs": [
        {
          "output_type": "stream",
          "name": "stderr",
          "text": [
            "/usr/local/lib/python3.7/dist-packages/ipykernel_launcher.py:3: SettingWithCopyWarning: \n",
            "A value is trying to be set on a copy of a slice from a DataFrame.\n",
            "Try using .loc[row_indexer,col_indexer] = value instead\n",
            "\n",
            "See the caveats in the documentation: https://pandas.pydata.org/pandas-docs/stable/user_guide/indexing.html#returning-a-view-versus-a-copy\n",
            "  This is separate from the ipykernel package so we can avoid doing imports until\n"
          ]
        }
      ]
    },
    {
      "cell_type": "code",
      "metadata": {
        "colab": {
          "base_uri": "https://localhost:8080/"
        },
        "id": "Ohm-vbIBracW",
        "outputId": "fb620b9d-19aa-4a3c-9975-95a3b49ffdc7"
      },
      "source": [
        "first_data_timex = first_data[first_data['time'] >= time(hour=10,minute=00,second=00)]\n",
        "first_data_time10 = first_data_timex[first_data_timex['time'] < time(hour=11,minute=00,second=00)]\n",
        "first_data_time10['ช่วงเวลา'] = '10.00-11.00'"
      ],
      "execution_count": null,
      "outputs": [
        {
          "output_type": "stream",
          "name": "stderr",
          "text": [
            "/usr/local/lib/python3.7/dist-packages/ipykernel_launcher.py:3: SettingWithCopyWarning: \n",
            "A value is trying to be set on a copy of a slice from a DataFrame.\n",
            "Try using .loc[row_indexer,col_indexer] = value instead\n",
            "\n",
            "See the caveats in the documentation: https://pandas.pydata.org/pandas-docs/stable/user_guide/indexing.html#returning-a-view-versus-a-copy\n",
            "  This is separate from the ipykernel package so we can avoid doing imports until\n"
          ]
        }
      ]
    },
    {
      "cell_type": "code",
      "metadata": {
        "colab": {
          "base_uri": "https://localhost:8080/"
        },
        "id": "8pVlFUY9rrwt",
        "outputId": "203b7b9d-9f4d-4d3d-eca5-919f1c9303d6"
      },
      "source": [
        "first_data_timexi = first_data[first_data['time'] >= time(hour=11,minute=00,second=00)]\n",
        "first_data_time11 = first_data_timexi[first_data_timexi['time'] < time(hour=12,minute=00,second=00)]\n",
        "first_data_time11['ช่วงเวลา'] = '11.00-12.00'"
      ],
      "execution_count": null,
      "outputs": [
        {
          "output_type": "stream",
          "name": "stderr",
          "text": [
            "/usr/local/lib/python3.7/dist-packages/ipykernel_launcher.py:3: SettingWithCopyWarning: \n",
            "A value is trying to be set on a copy of a slice from a DataFrame.\n",
            "Try using .loc[row_indexer,col_indexer] = value instead\n",
            "\n",
            "See the caveats in the documentation: https://pandas.pydata.org/pandas-docs/stable/user_guide/indexing.html#returning-a-view-versus-a-copy\n",
            "  This is separate from the ipykernel package so we can avoid doing imports until\n"
          ]
        }
      ]
    },
    {
      "cell_type": "code",
      "metadata": {
        "colab": {
          "base_uri": "https://localhost:8080/"
        },
        "id": "pm8ihqRSr3dt",
        "outputId": "d1116da3-53d1-434e-9d1f-f629c48f2dec"
      },
      "source": [
        "first_data_timexii = first_data[first_data['time'] >= time(hour=12,minute=00,second=00)]\n",
        "first_data_time12 = first_data_timexii[first_data_timexii['time'] < time(hour=13,minute=00,second=00)]\n",
        "first_data_time12['ช่วงเวลา'] = '12.00-13.00'"
      ],
      "execution_count": null,
      "outputs": [
        {
          "output_type": "stream",
          "name": "stderr",
          "text": [
            "/usr/local/lib/python3.7/dist-packages/ipykernel_launcher.py:3: SettingWithCopyWarning: \n",
            "A value is trying to be set on a copy of a slice from a DataFrame.\n",
            "Try using .loc[row_indexer,col_indexer] = value instead\n",
            "\n",
            "See the caveats in the documentation: https://pandas.pydata.org/pandas-docs/stable/user_guide/indexing.html#returning-a-view-versus-a-copy\n",
            "  This is separate from the ipykernel package so we can avoid doing imports until\n"
          ]
        }
      ]
    },
    {
      "cell_type": "code",
      "metadata": {
        "colab": {
          "base_uri": "https://localhost:8080/"
        },
        "id": "trVH5D7isBQS",
        "outputId": "472ae539-3e77-4750-fea0-14aa2cc7dcd4"
      },
      "source": [
        "first_data_timexiii = first_data[first_data['time'] >= time(hour=13,minute=00,second=00)]\n",
        "first_data_time13 = first_data_timexiii[first_data_timexiii['time'] < time(hour=14,minute=00,second=00)]\n",
        "first_data_time13['ช่วงเวลา'] = '13.00-14.00'"
      ],
      "execution_count": null,
      "outputs": [
        {
          "output_type": "stream",
          "name": "stderr",
          "text": [
            "/usr/local/lib/python3.7/dist-packages/ipykernel_launcher.py:3: SettingWithCopyWarning: \n",
            "A value is trying to be set on a copy of a slice from a DataFrame.\n",
            "Try using .loc[row_indexer,col_indexer] = value instead\n",
            "\n",
            "See the caveats in the documentation: https://pandas.pydata.org/pandas-docs/stable/user_guide/indexing.html#returning-a-view-versus-a-copy\n",
            "  This is separate from the ipykernel package so we can avoid doing imports until\n"
          ]
        }
      ]
    },
    {
      "cell_type": "code",
      "metadata": {
        "colab": {
          "base_uri": "https://localhost:8080/"
        },
        "id": "np0Rsm2NsKHn",
        "outputId": "4e4b3963-7cab-486c-e014-08421f2998ba"
      },
      "source": [
        "first_data_timexiv = first_data[first_data['time'] >= time(hour=14,minute=00,second=00)]\n",
        "first_data_time14 = first_data_timexiv[first_data_timexiv['time'] < time(hour=15,minute=00,second=00)]\n",
        "first_data_time14['ช่วงเวลา'] = '14.00-15.00'"
      ],
      "execution_count": null,
      "outputs": [
        {
          "output_type": "stream",
          "name": "stderr",
          "text": [
            "/usr/local/lib/python3.7/dist-packages/ipykernel_launcher.py:3: SettingWithCopyWarning: \n",
            "A value is trying to be set on a copy of a slice from a DataFrame.\n",
            "Try using .loc[row_indexer,col_indexer] = value instead\n",
            "\n",
            "See the caveats in the documentation: https://pandas.pydata.org/pandas-docs/stable/user_guide/indexing.html#returning-a-view-versus-a-copy\n",
            "  This is separate from the ipykernel package so we can avoid doing imports until\n"
          ]
        }
      ]
    },
    {
      "cell_type": "code",
      "metadata": {
        "colab": {
          "base_uri": "https://localhost:8080/"
        },
        "id": "cA3ydyx9sSks",
        "outputId": "53ed89e2-2822-41a6-fa37-ea4c98c1d9d1"
      },
      "source": [
        "first_data_timexv = first_data[first_data['time'] >= time(hour=15,minute=00,second=00)]\n",
        "first_data_time15 = first_data_timexv[first_data_timexv['time'] < time(hour=16,minute=00,second=00)]\n",
        "first_data_time15['ช่วงเวลา'] = '15.00-16.00'"
      ],
      "execution_count": null,
      "outputs": [
        {
          "output_type": "stream",
          "name": "stderr",
          "text": [
            "/usr/local/lib/python3.7/dist-packages/ipykernel_launcher.py:3: SettingWithCopyWarning: \n",
            "A value is trying to be set on a copy of a slice from a DataFrame.\n",
            "Try using .loc[row_indexer,col_indexer] = value instead\n",
            "\n",
            "See the caveats in the documentation: https://pandas.pydata.org/pandas-docs/stable/user_guide/indexing.html#returning-a-view-versus-a-copy\n",
            "  This is separate from the ipykernel package so we can avoid doing imports until\n"
          ]
        }
      ]
    },
    {
      "cell_type": "code",
      "metadata": {
        "colab": {
          "base_uri": "https://localhost:8080/"
        },
        "id": "3NBrLcU4sem7",
        "outputId": "07b0e351-1602-4513-cb01-bfb959025f1b"
      },
      "source": [
        "first_data_timexvi = first_data[first_data['time'] >= time(hour=16,minute=00,second=00)]\n",
        "first_data_time16 = first_data_timexvi[first_data_timexvi['time'] < time(hour=17,minute=00,second=00)]\n",
        "first_data_time16['ช่วงเวลา'] = '16.00-17.00'"
      ],
      "execution_count": null,
      "outputs": [
        {
          "output_type": "stream",
          "name": "stderr",
          "text": [
            "/usr/local/lib/python3.7/dist-packages/ipykernel_launcher.py:3: SettingWithCopyWarning: \n",
            "A value is trying to be set on a copy of a slice from a DataFrame.\n",
            "Try using .loc[row_indexer,col_indexer] = value instead\n",
            "\n",
            "See the caveats in the documentation: https://pandas.pydata.org/pandas-docs/stable/user_guide/indexing.html#returning-a-view-versus-a-copy\n",
            "  This is separate from the ipykernel package so we can avoid doing imports until\n"
          ]
        }
      ]
    },
    {
      "cell_type": "code",
      "metadata": {
        "colab": {
          "base_uri": "https://localhost:8080/"
        },
        "id": "idYBE4XpsmOU",
        "outputId": "d0990172-819a-4a3c-d7d0-4b9310c5229a"
      },
      "source": [
        "first_data_timexvii = first_data[first_data['time'] >= time(hour=17,minute=00,second=00)]\n",
        "first_data_time17 = first_data_timexvii[first_data_timexvii['time'] < time(hour=18,minute=00,second=00)]\n",
        "first_data_time17['ช่วงเวลา'] = '17.00-18.00'"
      ],
      "execution_count": null,
      "outputs": [
        {
          "output_type": "stream",
          "name": "stderr",
          "text": [
            "/usr/local/lib/python3.7/dist-packages/ipykernel_launcher.py:3: SettingWithCopyWarning: \n",
            "A value is trying to be set on a copy of a slice from a DataFrame.\n",
            "Try using .loc[row_indexer,col_indexer] = value instead\n",
            "\n",
            "See the caveats in the documentation: https://pandas.pydata.org/pandas-docs/stable/user_guide/indexing.html#returning-a-view-versus-a-copy\n",
            "  This is separate from the ipykernel package so we can avoid doing imports until\n"
          ]
        }
      ]
    },
    {
      "cell_type": "code",
      "metadata": {
        "colab": {
          "base_uri": "https://localhost:8080/"
        },
        "id": "9NavkNn5sw0b",
        "outputId": "bbbfdc6b-c51c-4b32-9174-7772923dadcc"
      },
      "source": [
        "first_data_timexviii = first_data[first_data['time'] >= time(hour=18,minute=00,second=00)]\n",
        "first_data_time18 = first_data_timexviii[first_data_timexviii['time'] < time(hour=19,minute=00,second=00)]\n",
        "first_data_time18['ช่วงเวลา'] = '18.00-19.00'"
      ],
      "execution_count": null,
      "outputs": [
        {
          "output_type": "stream",
          "name": "stderr",
          "text": [
            "/usr/local/lib/python3.7/dist-packages/ipykernel_launcher.py:3: SettingWithCopyWarning: \n",
            "A value is trying to be set on a copy of a slice from a DataFrame.\n",
            "Try using .loc[row_indexer,col_indexer] = value instead\n",
            "\n",
            "See the caveats in the documentation: https://pandas.pydata.org/pandas-docs/stable/user_guide/indexing.html#returning-a-view-versus-a-copy\n",
            "  This is separate from the ipykernel package so we can avoid doing imports until\n"
          ]
        }
      ]
    },
    {
      "cell_type": "code",
      "metadata": {
        "colab": {
          "base_uri": "https://localhost:8080/"
        },
        "id": "UIkZ8vBns8TS",
        "outputId": "e42cb147-0621-47f9-a62a-d95899f26eb9"
      },
      "source": [
        "first_data_timexviiii = first_data[first_data['time'] >= time(hour=19,minute=00,second=00)]\n",
        "first_data_time19 = first_data_timexviiii[first_data_timexviiii['time'] < time(hour=20,minute=00,second=00)]\n",
        "first_data_time19['ช่วงเวลา'] = '19.00-20.00'"
      ],
      "execution_count": null,
      "outputs": [
        {
          "output_type": "stream",
          "name": "stderr",
          "text": [
            "/usr/local/lib/python3.7/dist-packages/ipykernel_launcher.py:3: SettingWithCopyWarning: \n",
            "A value is trying to be set on a copy of a slice from a DataFrame.\n",
            "Try using .loc[row_indexer,col_indexer] = value instead\n",
            "\n",
            "See the caveats in the documentation: https://pandas.pydata.org/pandas-docs/stable/user_guide/indexing.html#returning-a-view-versus-a-copy\n",
            "  This is separate from the ipykernel package so we can avoid doing imports until\n"
          ]
        }
      ]
    },
    {
      "cell_type": "code",
      "metadata": {
        "colab": {
          "base_uri": "https://localhost:8080/"
        },
        "id": "HK-fdYMJtNSZ",
        "outputId": "971c7ea6-05de-4089-91ed-0e2ffd4141ce"
      },
      "source": [
        "first_data_timexx = first_data[first_data['time'] >= time(hour=20,minute=00,second=00)]\n",
        "first_data_time20 = first_data_timexx[first_data_timexx['time'] < time(hour=21,minute=00,second=00)]\n",
        "first_data_time20['ช่วงเวลา'] = '20.00-21.00'"
      ],
      "execution_count": null,
      "outputs": [
        {
          "output_type": "stream",
          "name": "stderr",
          "text": [
            "/usr/local/lib/python3.7/dist-packages/ipykernel_launcher.py:3: SettingWithCopyWarning: \n",
            "A value is trying to be set on a copy of a slice from a DataFrame.\n",
            "Try using .loc[row_indexer,col_indexer] = value instead\n",
            "\n",
            "See the caveats in the documentation: https://pandas.pydata.org/pandas-docs/stable/user_guide/indexing.html#returning-a-view-versus-a-copy\n",
            "  This is separate from the ipykernel package so we can avoid doing imports until\n"
          ]
        }
      ]
    },
    {
      "cell_type": "code",
      "metadata": {
        "colab": {
          "base_uri": "https://localhost:8080/"
        },
        "id": "Tru6IQLKtqiV",
        "outputId": "663ed3b1-f88a-44f6-bf9b-30a8ed0799fe"
      },
      "source": [
        "first_data_timexxi = first_data[first_data['time'] >= time(hour=21,minute=00,second=00)]\n",
        "first_data_time21 = first_data_timexxi[first_data_timexxi['time'] < time(hour=22,minute=00,second=00)]\n",
        "first_data_time21['ช่วงเวลา'] = '21.00-22.00'"
      ],
      "execution_count": null,
      "outputs": [
        {
          "output_type": "stream",
          "name": "stderr",
          "text": [
            "/usr/local/lib/python3.7/dist-packages/ipykernel_launcher.py:3: SettingWithCopyWarning: \n",
            "A value is trying to be set on a copy of a slice from a DataFrame.\n",
            "Try using .loc[row_indexer,col_indexer] = value instead\n",
            "\n",
            "See the caveats in the documentation: https://pandas.pydata.org/pandas-docs/stable/user_guide/indexing.html#returning-a-view-versus-a-copy\n",
            "  This is separate from the ipykernel package so we can avoid doing imports until\n"
          ]
        }
      ]
    },
    {
      "cell_type": "code",
      "metadata": {
        "colab": {
          "base_uri": "https://localhost:8080/"
        },
        "id": "G9pCMxXKtz_C",
        "outputId": "edbb79ca-b2b7-4798-d721-c2b5cc112326"
      },
      "source": [
        "first_data_timexxii = first_data[first_data['time'] >= time(hour=22,minute=00,second=00)]\n",
        "first_data_time22 = first_data_timexxii[first_data_timexxii['time'] < time(hour=23,minute=00,second=00)]\n",
        "first_data_time22['ช่วงเวลา'] = '22.00-23.00'"
      ],
      "execution_count": null,
      "outputs": [
        {
          "output_type": "stream",
          "name": "stderr",
          "text": [
            "/usr/local/lib/python3.7/dist-packages/ipykernel_launcher.py:3: SettingWithCopyWarning: \n",
            "A value is trying to be set on a copy of a slice from a DataFrame.\n",
            "Try using .loc[row_indexer,col_indexer] = value instead\n",
            "\n",
            "See the caveats in the documentation: https://pandas.pydata.org/pandas-docs/stable/user_guide/indexing.html#returning-a-view-versus-a-copy\n",
            "  This is separate from the ipykernel package so we can avoid doing imports until\n"
          ]
        }
      ]
    },
    {
      "cell_type": "code",
      "metadata": {
        "colab": {
          "base_uri": "https://localhost:8080/"
        },
        "id": "Jw31bFARt_yY",
        "outputId": "1a89d7c1-7e90-459b-a6ef-f24956a9479c"
      },
      "source": [
        "first_data_time23 = first_data[first_data['time'] >= time(hour=23,minute=00,second=00)]\n",
        "first_data_time23['ช่วงเวลา'] = '23.00-00.00'"
      ],
      "execution_count": null,
      "outputs": [
        {
          "output_type": "stream",
          "name": "stderr",
          "text": [
            "/usr/local/lib/python3.7/dist-packages/ipykernel_launcher.py:2: SettingWithCopyWarning: \n",
            "A value is trying to be set on a copy of a slice from a DataFrame.\n",
            "Try using .loc[row_indexer,col_indexer] = value instead\n",
            "\n",
            "See the caveats in the documentation: https://pandas.pydata.org/pandas-docs/stable/user_guide/indexing.html#returning-a-view-versus-a-copy\n",
            "  \n"
          ]
        }
      ]
    },
    {
      "cell_type": "code",
      "metadata": {
        "id": "grRaTKULuPX4"
      },
      "source": [
        "table_combi = pd.concat([first_data_time0,first_data_time01,first_data_time02,first_data_time03,first_data_time04,first_data_time05,first_data_time06,first_data_time07,first_data_time08,first_data_time09,first_data_time10,first_data_time11,first_data_time12,first_data_time13,first_data_time14,first_data_time15,first_data_time16,first_data_time17,first_data_time18,first_data_time19,first_data_time20,first_data_time21,first_data_time22,first_data_time23])"
      ],
      "execution_count": null,
      "outputs": []
    },
    {
      "cell_type": "code",
      "metadata": {
        "colab": {
          "base_uri": "https://localhost:8080/",
          "height": 1000
        },
        "id": "OgjWt8GnvDbh",
        "outputId": "c72fdcca-b95d-4c1d-af3a-d14d0c664ef3"
      },
      "source": [
        "table_combi"
      ],
      "execution_count": null,
      "outputs": [
        {
          "output_type": "execute_result",
          "data": {
            "text/html": [
              "<div>\n",
              "<style scoped>\n",
              "    .dataframe tbody tr th:only-of-type {\n",
              "        vertical-align: middle;\n",
              "    }\n",
              "\n",
              "    .dataframe tbody tr th {\n",
              "        vertical-align: top;\n",
              "    }\n",
              "\n",
              "    .dataframe thead th {\n",
              "        text-align: right;\n",
              "    }\n",
              "</style>\n",
              "<table border=\"1\" class=\"dataframe\">\n",
              "  <thead>\n",
              "    <tr style=\"text-align: right;\">\n",
              "      <th></th>\n",
              "      <th>ประทับเวลา</th>\n",
              "      <th>ที่อยู่อีเมล</th>\n",
              "      <th>คำนำหน้า</th>\n",
              "      <th>ชื่อ-สกุล **ภาษาไทย**</th>\n",
              "      <th>โรงเรียน **ภาษาไทย** (พิมพ์คำว่าโรงเรียนนำหน้า) เช่น โรงเรียนเจโนเลจ</th>\n",
              "      <th>คำนำหน้า **ภาษาอังกฤษ**</th>\n",
              "      <th>ชื่อ-สกุล **ภาษาอังกฤษ**</th>\n",
              "      <th>โรงเรียน **ภาษาอังกฤษ** (โดยมีคำว่า School ต่อท้าย) เช่น Jknowledge School</th>\n",
              "      <th>ชื่อเล่น</th>\n",
              "      <th>ระดับชั้น</th>\n",
              "      <th>เบอร์โทรศัพท์</th>\n",
              "      <th>โรงเรียนอยู่จังหวัดอะไร</th>\n",
              "      <th>สาขาและมหาวิทยาลัยที่อยากเรียน</th>\n",
              "      <th>หากไม่แน่ใจว่ากรอกข้อมูลถูกต้องและครบถ้วนหรือไม่ ให้น้องๆกดย้อนกลับเพื่อตรวจสอบและแก้ไข ข้อมูลเพื่อความถูกต้องก่อนกดส่ง เพราะหากกรอกข้อมูลผิดพลาด ทางสถาบันขอสงวนสิทธิ์ในการแก้ไขข้อมูลทุกกรณี</th>\n",
              "      <th>Unnamed: 14</th>\n",
              "      <th>คอร์ส</th>\n",
              "      <th>time</th>\n",
              "      <th>ช่วงเวลา</th>\n",
              "    </tr>\n",
              "  </thead>\n",
              "  <tbody>\n",
              "    <tr>\n",
              "      <th>70</th>\n",
              "      <td>2021-07-27 00:01:47.441</td>\n",
              "      <td>namthip25462003@gmail.com</td>\n",
              "      <td>นางสาว</td>\n",
              "      <td>น้ำทิพย์ คล้ายสมบัติ</td>\n",
              "      <td>โรงเรียนชะรัดชนูปถัมภ์</td>\n",
              "      <td>Mr.</td>\n",
              "      <td>Namthip Khlaisombut</td>\n",
              "      <td>Charadchanupatham school</td>\n",
              "      <td>แผ่นฟิล์ม</td>\n",
              "      <td>ม.6</td>\n",
              "      <td>0980285816</td>\n",
              "      <td>พัทลุง</td>\n",
              "      <td>เอกอังกฤษ มหาวิทยาลัยทักษิณสงขลา</td>\n",
              "      <td>รับทราบ</td>\n",
              "      <td>NaN</td>\n",
              "      <td>ครู</td>\n",
              "      <td>00:01:47.441000</td>\n",
              "      <td>00.00-01.00</td>\n",
              "    </tr>\n",
              "    <tr>\n",
              "      <th>151</th>\n",
              "      <td>2021-07-28 00:38:29.791</td>\n",
              "      <td>05127@langu.ac.th</td>\n",
              "      <td>นางสาว</td>\n",
              "      <td>นัญมีย์ หลีขาว</td>\n",
              "      <td>โรงเรียนละงูพิทยาคม</td>\n",
              "      <td>Miss</td>\n",
              "      <td>Nanyamee Leekhao</td>\n",
              "      <td>Langupitthayakom School</td>\n",
              "      <td>มีย์</td>\n",
              "      <td>ม.6</td>\n",
              "      <td>0994091020</td>\n",
              "      <td>สตูล</td>\n",
              "      <td>เอกภาษาไทย มหาวิทยาลัยราชภัฏสงขลา</td>\n",
              "      <td>รับทราบ</td>\n",
              "      <td>NaN</td>\n",
              "      <td>ครู</td>\n",
              "      <td>00:38:29.791000</td>\n",
              "      <td>00.00-01.00</td>\n",
              "    </tr>\n",
              "    <tr>\n",
              "      <th>152</th>\n",
              "      <td>2021-07-28 00:50:00.438</td>\n",
              "      <td>suphatrachna@gmail.com</td>\n",
              "      <td>นางสาว</td>\n",
              "      <td>สุพัตรา ชนะ</td>\n",
              "      <td>โรงเรียหนองกี่พิทยาคม</td>\n",
              "      <td>Miss</td>\n",
              "      <td>Suphattra Chana</td>\n",
              "      <td>Nongkipittayakom school</td>\n",
              "      <td>สวย</td>\n",
              "      <td>ม.6</td>\n",
              "      <td>0645273049</td>\n",
              "      <td>บุรีรัมย์</td>\n",
              "      <td>ภาษาอังกฤษ มหาวิทยาลัย ขอนแก่น</td>\n",
              "      <td>รับทราบ</td>\n",
              "      <td>NaN</td>\n",
              "      <td>ครู</td>\n",
              "      <td>00:50:00.438000</td>\n",
              "      <td>00.00-01.00</td>\n",
              "    </tr>\n",
              "    <tr>\n",
              "      <th>153</th>\n",
              "      <td>2021-07-28 00:54:04.435</td>\n",
              "      <td>wnchp1802@gmail.com</td>\n",
              "      <td>นางสาว</td>\n",
              "      <td>วนัชพร ปิ่นหมวด</td>\n",
              "      <td>โรงเรียนพรุพีพิทยาคม</td>\n",
              "      <td>Miss</td>\n",
              "      <td>Wanatchaphon Pinmuad</td>\n",
              "      <td>Phruphipittayakom School</td>\n",
              "      <td>ปลา</td>\n",
              "      <td>ม.6</td>\n",
              "      <td>0642203731</td>\n",
              "      <td>สุราษฎร์ธานี</td>\n",
              "      <td>วิทยาศาสตร์ทั่วไป มหาวิทยาลัยสงขลานครินทร์</td>\n",
              "      <td>รับทราบ</td>\n",
              "      <td>NaN</td>\n",
              "      <td>ครู</td>\n",
              "      <td>00:54:04.435000</td>\n",
              "      <td>00.00-01.00</td>\n",
              "    </tr>\n",
              "    <tr>\n",
              "      <th>737</th>\n",
              "      <td>2021-07-30 00:15:35.559</td>\n",
              "      <td>apinya5878@gmail.com</td>\n",
              "      <td>นางสาว</td>\n",
              "      <td>อภิญญา ยิ้มแก้ว</td>\n",
              "      <td>โรงเรียนหารเทารังสีประชาสรรค์</td>\n",
              "      <td>Miss</td>\n",
              "      <td>Apinya Yimkaew</td>\n",
              "      <td>Harnthaorangsiprachasan School</td>\n",
              "      <td>บีม</td>\n",
              "      <td>ม.6</td>\n",
              "      <td>0634158990</td>\n",
              "      <td>พัทลุง</td>\n",
              "      <td>ศึกษาศาสตร์ มหาวิทยาลัยศรีนครินทรวิโรฒ</td>\n",
              "      <td>รับทราบ</td>\n",
              "      <td>NaN</td>\n",
              "      <td>ครู</td>\n",
              "      <td>00:15:35.559000</td>\n",
              "      <td>00.00-01.00</td>\n",
              "    </tr>\n",
              "    <tr>\n",
              "      <th>...</th>\n",
              "      <td>...</td>\n",
              "      <td>...</td>\n",
              "      <td>...</td>\n",
              "      <td>...</td>\n",
              "      <td>...</td>\n",
              "      <td>...</td>\n",
              "      <td>...</td>\n",
              "      <td>...</td>\n",
              "      <td>...</td>\n",
              "      <td>...</td>\n",
              "      <td>...</td>\n",
              "      <td>...</td>\n",
              "      <td>...</td>\n",
              "      <td>...</td>\n",
              "      <td>...</td>\n",
              "      <td>...</td>\n",
              "      <td>...</td>\n",
              "      <td>...</td>\n",
              "    </tr>\n",
              "    <tr>\n",
              "      <th>3935</th>\n",
              "      <td>2021-09-19 23:09:29.715</td>\n",
              "      <td>bwaaxas1@gmail.com</td>\n",
              "      <td>นางสาว</td>\n",
              "      <td>ปรียาภรณ์ กุหลาบ</td>\n",
              "      <td>โรงเรียนสระบุรีวิทยาคม</td>\n",
              "      <td>Miss</td>\n",
              "      <td>Preyaporn Kularb</td>\n",
              "      <td>Saraburiwitthayakhom School</td>\n",
              "      <td>วิว</td>\n",
              "      <td>ม.5</td>\n",
              "      <td>0937847722</td>\n",
              "      <td>สระบุรี</td>\n",
              "      <td>แพทยศาสตร์ มหาวิทยาลัยขอนแก่น</td>\n",
              "      <td>รับทราบ</td>\n",
              "      <td>ยืนยัน</td>\n",
              "      <td>แพทย์-ทันตะ</td>\n",
              "      <td>23:09:29.715000</td>\n",
              "      <td>23.00-00.00</td>\n",
              "    </tr>\n",
              "    <tr>\n",
              "      <th>3936</th>\n",
              "      <td>2021-09-19 23:14:52.554</td>\n",
              "      <td>kathleen.oo38@gmail.com</td>\n",
              "      <td>นางสาว</td>\n",
              "      <td>เมธาพร งามเสงี่ยม</td>\n",
              "      <td>โรงเรียนสระบุรีวิทยาคม</td>\n",
              "      <td>Miss</td>\n",
              "      <td>Methaporn Ngamsangiem</td>\n",
              "      <td>Saraburiwitthayakhom School</td>\n",
              "      <td>ส้ม</td>\n",
              "      <td>ม.5</td>\n",
              "      <td>0631730379</td>\n",
              "      <td>สระบุรี</td>\n",
              "      <td>เภสัชศาสตร์ มธ.</td>\n",
              "      <td>รับทราบ</td>\n",
              "      <td>ยืนยัน</td>\n",
              "      <td>แพทย์-ทันตะ</td>\n",
              "      <td>23:14:52.554000</td>\n",
              "      <td>23.00-00.00</td>\n",
              "    </tr>\n",
              "    <tr>\n",
              "      <th>3937</th>\n",
              "      <td>2021-09-19 23:27:04.962</td>\n",
              "      <td>tugsapon151@gmail.com</td>\n",
              "      <td>นางสาว</td>\n",
              "      <td>ทักษพร คำคง</td>\n",
              "      <td>โรงเรียนสระบุรีวิทยาคม</td>\n",
              "      <td>Miss</td>\n",
              "      <td>Taksaporn Kamkong</td>\n",
              "      <td>Saraburiwitthayakhom School</td>\n",
              "      <td>กิ๊ฟ</td>\n",
              "      <td>ม.5</td>\n",
              "      <td>0648608114</td>\n",
              "      <td>สระบุรี</td>\n",
              "      <td>คณะแพทยศาสตร์ มหาวิทยาลัยมหิดล</td>\n",
              "      <td>รับทราบ</td>\n",
              "      <td>ยืนยัน</td>\n",
              "      <td>แพทย์-ทันตะ</td>\n",
              "      <td>23:27:04.962000</td>\n",
              "      <td>23.00-00.00</td>\n",
              "    </tr>\n",
              "    <tr>\n",
              "      <th>4029</th>\n",
              "      <td>2021-09-30 23:21:16.777</td>\n",
              "      <td>wan218651@gmail.com</td>\n",
              "      <td>นางสาว</td>\n",
              "      <td>ณัฏฐพร ชมภูน้อย</td>\n",
              "      <td>โรงเรียนมารีวิทยา ปราจีนบุรี</td>\n",
              "      <td>Miss</td>\n",
              "      <td>Nuttaphorn chompoonoi</td>\n",
              "      <td>Marywitthaya school</td>\n",
              "      <td>ว่าน</td>\n",
              "      <td>ม.4</td>\n",
              "      <td>0822218651</td>\n",
              "      <td>ปราจีนบุรี</td>\n",
              "      <td>ทันตแพทยศาสตร์ มหาวิทยาลัยมหิดล</td>\n",
              "      <td>รับทราบ</td>\n",
              "      <td>ยืนยัน</td>\n",
              "      <td>แพทย์-ทันตะ</td>\n",
              "      <td>23:21:16.777000</td>\n",
              "      <td>23.00-00.00</td>\n",
              "    </tr>\n",
              "    <tr>\n",
              "      <th>4030</th>\n",
              "      <td>2021-09-30 23:21:34.306</td>\n",
              "      <td>not051046@gmail.com</td>\n",
              "      <td>นาย</td>\n",
              "      <td>นัฐวุฒิ อิสโร</td>\n",
              "      <td>โรงเรียนเคียนซาพิทยาคม</td>\n",
              "      <td>Mr.</td>\n",
              "      <td>Natthawut Isaro</td>\n",
              "      <td>Khainsapittayakhom School</td>\n",
              "      <td>น็อต</td>\n",
              "      <td>ม.6</td>\n",
              "      <td>0613714854</td>\n",
              "      <td>สุราษฎร์ธานี</td>\n",
              "      <td>คณะแพทย์และมหาลัยมหิดล</td>\n",
              "      <td>รับทราบ</td>\n",
              "      <td>ยืนยัน</td>\n",
              "      <td>แพทย์-ทันตะ</td>\n",
              "      <td>23:21:34.306000</td>\n",
              "      <td>23.00-00.00</td>\n",
              "    </tr>\n",
              "  </tbody>\n",
              "</table>\n",
              "<p>4064 rows × 18 columns</p>\n",
              "</div>"
            ],
            "text/plain": [
              "                  ประทับเวลา  ...     ช่วงเวลา\n",
              "70   2021-07-27 00:01:47.441  ...  00.00-01.00\n",
              "151  2021-07-28 00:38:29.791  ...  00.00-01.00\n",
              "152  2021-07-28 00:50:00.438  ...  00.00-01.00\n",
              "153  2021-07-28 00:54:04.435  ...  00.00-01.00\n",
              "737  2021-07-30 00:15:35.559  ...  00.00-01.00\n",
              "...                      ...  ...          ...\n",
              "3935 2021-09-19 23:09:29.715  ...  23.00-00.00\n",
              "3936 2021-09-19 23:14:52.554  ...  23.00-00.00\n",
              "3937 2021-09-19 23:27:04.962  ...  23.00-00.00\n",
              "4029 2021-09-30 23:21:16.777  ...  23.00-00.00\n",
              "4030 2021-09-30 23:21:34.306  ...  23.00-00.00\n",
              "\n",
              "[4064 rows x 18 columns]"
            ]
          },
          "metadata": {},
          "execution_count": 106
        }
      ]
    },
    {
      "cell_type": "code",
      "metadata": {
        "id": "kNFiYZ23vFIV"
      },
      "source": [
        "table_combi['วันเวลา'] = table_combi['ประทับเวลา'].dt.date"
      ],
      "execution_count": null,
      "outputs": []
    },
    {
      "cell_type": "code",
      "metadata": {
        "id": "BrQ2NdFhxN41"
      },
      "source": [
        "table_combi.to_excel('combi_cose.xlsx')"
      ],
      "execution_count": null,
      "outputs": []
    },
    {
      "cell_type": "code",
      "metadata": {
        "colab": {
          "base_uri": "https://localhost:8080/"
        },
        "id": "GNfppKgxxatd",
        "outputId": "d85a1869-8467-42c5-d57e-227a6c0cf8b0"
      },
      "source": [
        "!pip install apyori"
      ],
      "execution_count": null,
      "outputs": [
        {
          "output_type": "stream",
          "name": "stdout",
          "text": [
            "Collecting apyori\n",
            "  Downloading apyori-1.1.2.tar.gz (8.6 kB)\n",
            "Building wheels for collected packages: apyori\n",
            "  Building wheel for apyori (setup.py) ... \u001b[?25l\u001b[?25hdone\n",
            "  Created wheel for apyori: filename=apyori-1.1.2-py3-none-any.whl size=5974 sha256=6850c2b1a40303ad098e7c3aac8ae1a479edffe9e9e3174279128a4f89fc8ca5\n",
            "  Stored in directory: /root/.cache/pip/wheels/cb/f6/e1/57973c631d27efd1a2f375bd6a83b2a616c4021f24aab84080\n",
            "Successfully built apyori\n",
            "Installing collected packages: apyori\n",
            "Successfully installed apyori-1.1.2\n"
          ]
        }
      ]
    },
    {
      "cell_type": "code",
      "metadata": {
        "id": "9ZHmVVW6ylvh"
      },
      "source": [
        "from apyori import apriori #เพื่อใช้คำสั่ง apriori"
      ],
      "execution_count": null,
      "outputs": []
    },
    {
      "cell_type": "code",
      "metadata": {
        "colab": {
          "base_uri": "https://localhost:8080/"
        },
        "id": "dZ8p03P6yqKE",
        "outputId": "db0915e5-e273-4016-a014-dac5e8cad6b4"
      },
      "source": [
        "asso = table_combi.groupby('โรงเรียนอยู่จังหวัดอะไร')['คอร์ส'].apply(list)\n",
        "list(apriori(asso,min_support=0.001,min_confidence=0.9))"
      ],
      "execution_count": 124,
      "outputs": [
        {
          "output_type": "execute_result",
          "data": {
            "text/plain": [
              "[RelationRecord(items=frozenset({'วิศวะ', 'แพทย์-ทันตะ', 'ครู'}), support=0.2548262548262548, ordered_statistics=[OrderedStatistic(items_base=frozenset({'แพทย์-ทันตะ', 'วิศวะ'}), items_add=frozenset({'ครู'}), confidence=0.9041095890410958, lift=1.1257903055848262)])]"
            ]
          },
          "metadata": {},
          "execution_count": 124
        }
      ]
    },
    {
      "cell_type": "code",
      "metadata": {
        "id": "upxzFQUxy7Xt"
      },
      "source": [
        ""
      ],
      "execution_count": null,
      "outputs": []
    }
  ]
}