{
  "nbformat": 4,
  "nbformat_minor": 0,
  "metadata": {
    "colab": {
      "name": "Untitled2.ipynb",
      "provenance": [],
      "authorship_tag": "ABX9TyNYZCdu0J/wCbSPJ8JNUDHG",
      "include_colab_link": true
    },
    "kernelspec": {
      "name": "python3",
      "display_name": "Python 3"
    }
  },
  "cells": [
    {
      "cell_type": "markdown",
      "metadata": {
        "id": "view-in-github",
        "colab_type": "text"
      },
      "source": [
        "<a href=\"https://colab.research.google.com/github/thanadolch/KKU_data_mining/blob/master/Untitled2.ipynb\" target=\"_parent\"><img src=\"https://colab.research.google.com/assets/colab-badge.svg\" alt=\"Open In Colab\"/></a>"
      ]
    },
    {
      "cell_type": "code",
      "metadata": {
        "id": "IcpgCNNd0Zqk",
        "colab_type": "code",
        "colab": {}
      },
      "source": [
        "import pandas as pd\n"
      ],
      "execution_count": 24,
      "outputs": []
    },
    {
      "cell_type": "code",
      "metadata": {
        "id": "710ge39Kl7-h",
        "colab_type": "code",
        "colab": {}
      },
      "source": [
        "import numpy as np"
      ],
      "execution_count": 1,
      "outputs": []
    },
    {
      "cell_type": "code",
      "metadata": {
        "id": "uDif6wS7nd-j",
        "colab_type": "code",
        "colab": {
          "base_uri": "https://localhost:8080/",
          "height": 67
        },
        "outputId": "ddf9588a-ace6-4cb7-c6ce-9b7c933536bc"
      },
      "source": [
        "poin = np.array([[1,2,3],[4,5,6],[7,8,9]])\n",
        "poin"
      ],
      "execution_count": 5,
      "outputs": [
        {
          "output_type": "execute_result",
          "data": {
            "text/plain": [
              "array([[1, 2, 3],\n",
              "       [4, 5, 6],\n",
              "       [7, 8, 9]])"
            ]
          },
          "metadata": {
            "tags": []
          },
          "execution_count": 5
        }
      ]
    },
    {
      "cell_type": "code",
      "metadata": {
        "id": "zqlvPogopSXV",
        "colab_type": "code",
        "colab": {}
      },
      "source": [
        "import math"
      ],
      "execution_count": 6,
      "outputs": []
    },
    {
      "cell_type": "code",
      "metadata": {
        "id": "qTC-fFqsn2nZ",
        "colab_type": "code",
        "colab": {}
      },
      "source": [
        "def Eucledean(data1,data2):\n",
        "    distX = pow((data1[0]-data2[0]),2)\n",
        "    distY = pow((data1[1]-data2[1]),2)\n",
        "    distZ = pow((data1[2]-data2[2]),2)\n",
        "    return math.sqrt(distX+distY+distZ)"
      ],
      "execution_count": 8,
      "outputs": []
    },
    {
      "cell_type": "code",
      "metadata": {
        "id": "MR-OrIFQpt2t",
        "colab_type": "code",
        "colab": {
          "base_uri": "https://localhost:8080/",
          "height": 34
        },
        "outputId": "561da8a3-32da-4a3c-b08c-07a53f064576"
      },
      "source": [
        "Eucledean(poin[0,:],poin[2,:])"
      ],
      "execution_count": 9,
      "outputs": [
        {
          "output_type": "execute_result",
          "data": {
            "text/plain": [
              "10.392304845413264"
            ]
          },
          "metadata": {
            "tags": []
          },
          "execution_count": 9
        }
      ]
    },
    {
      "cell_type": "code",
      "metadata": {
        "id": "T70m_L0AsP3m",
        "colab_type": "code",
        "colab": {
          "base_uri": "https://localhost:8080/",
          "height": 67
        },
        "outputId": "737afb23-e5a1-4c55-f553-01da33b3dd00"
      },
      "source": [
        "data1 = np.zeros([3,3])\n",
        "data1"
      ],
      "execution_count": 19,
      "outputs": [
        {
          "output_type": "execute_result",
          "data": {
            "text/plain": [
              "array([[0., 0., 0.],\n",
              "       [0., 0., 0.],\n",
              "       [0., 0., 0.]])"
            ]
          },
          "metadata": {
            "tags": []
          },
          "execution_count": 19
        }
      ]
    },
    {
      "cell_type": "code",
      "metadata": {
        "id": "dHjlZQUgqOUB",
        "colab_type": "code",
        "colab": {
          "base_uri": "https://localhost:8080/",
          "height": 67
        },
        "outputId": "616a3422-6bdd-40b9-d1b1-94f2730f6ea6"
      },
      "source": [
        "for i in range(3):\n",
        "    for j in range(3):\n",
        "        data1[i,j] = Eucledean(poin[i,:],poin[j,:])\n",
        "data1"
      ],
      "execution_count": 21,
      "outputs": [
        {
          "output_type": "execute_result",
          "data": {
            "text/plain": [
              "array([[ 0.        ,  5.19615242, 10.39230485],\n",
              "       [ 5.19615242,  0.        ,  5.19615242],\n",
              "       [10.39230485,  5.19615242,  0.        ]])"
            ]
          },
          "metadata": {
            "tags": []
          },
          "execution_count": 21
        }
      ]
    },
    {
      "cell_type": "code",
      "metadata": {
        "id": "6DYIIgaYrL1w",
        "colab_type": "code",
        "colab": {
          "base_uri": "https://localhost:8080/",
          "height": 34
        },
        "outputId": "da192009-324e-4293-9dee-984536522561"
      },
      "source": [
        "mod = {'color':['red','bule','blue'],'gender':['boy','girl','boy']}\n",
        "mod"
      ],
      "execution_count": 23,
      "outputs": [
        {
          "output_type": "execute_result",
          "data": {
            "text/plain": [
              "{'color': ['red', 'bule', 'blue'], 'gender': ['boy', 'girl', 'boy']}"
            ]
          },
          "metadata": {
            "tags": []
          },
          "execution_count": 23
        }
      ]
    },
    {
      "cell_type": "code",
      "metadata": {
        "id": "csZonph10SKu",
        "colab_type": "code",
        "colab": {
          "base_uri": "https://localhost:8080/",
          "height": 136
        },
        "outputId": "4baddf2c-e392-472f-f290-ea0f5e762ecc"
      },
      "source": [
        "dist_b = pd.DataFrame.from_dict(mod)\n",
        "dist_b"
      ],
      "execution_count": 28,
      "outputs": [
        {
          "output_type": "execute_result",
          "data": {
            "text/html": [
              "<div>\n",
              "<style scoped>\n",
              "    .dataframe tbody tr th:only-of-type {\n",
              "        vertical-align: middle;\n",
              "    }\n",
              "\n",
              "    .dataframe tbody tr th {\n",
              "        vertical-align: top;\n",
              "    }\n",
              "\n",
              "    .dataframe thead th {\n",
              "        text-align: right;\n",
              "    }\n",
              "</style>\n",
              "<table border=\"1\" class=\"dataframe\">\n",
              "  <thead>\n",
              "    <tr style=\"text-align: right;\">\n",
              "      <th></th>\n",
              "      <th>color</th>\n",
              "      <th>gender</th>\n",
              "    </tr>\n",
              "  </thead>\n",
              "  <tbody>\n",
              "    <tr>\n",
              "      <th>0</th>\n",
              "      <td>red</td>\n",
              "      <td>boy</td>\n",
              "    </tr>\n",
              "    <tr>\n",
              "      <th>1</th>\n",
              "      <td>bule</td>\n",
              "      <td>girl</td>\n",
              "    </tr>\n",
              "    <tr>\n",
              "      <th>2</th>\n",
              "      <td>blue</td>\n",
              "      <td>boy</td>\n",
              "    </tr>\n",
              "  </tbody>\n",
              "</table>\n",
              "</div>"
            ],
            "text/plain": [
              "  color gender\n",
              "0   red    boy\n",
              "1  bule   girl\n",
              "2  blue    boy"
            ]
          },
          "metadata": {
            "tags": []
          },
          "execution_count": 28
        }
      ]
    },
    {
      "cell_type": "code",
      "metadata": {
        "id": "G2NZbbnp3Wv2",
        "colab_type": "code",
        "colab": {
          "base_uri": "https://localhost:8080/",
          "height": 136
        },
        "outputId": "9ec0d004-e9cb-4e86-db6e-943570af5431"
      },
      "source": [
        "data_pd_binary = pd.get_dummies(dist_b)\n",
        "data_pd_binary"
      ],
      "execution_count": 34,
      "outputs": [
        {
          "output_type": "execute_result",
          "data": {
            "text/html": [
              "<div>\n",
              "<style scoped>\n",
              "    .dataframe tbody tr th:only-of-type {\n",
              "        vertical-align: middle;\n",
              "    }\n",
              "\n",
              "    .dataframe tbody tr th {\n",
              "        vertical-align: top;\n",
              "    }\n",
              "\n",
              "    .dataframe thead th {\n",
              "        text-align: right;\n",
              "    }\n",
              "</style>\n",
              "<table border=\"1\" class=\"dataframe\">\n",
              "  <thead>\n",
              "    <tr style=\"text-align: right;\">\n",
              "      <th></th>\n",
              "      <th>color_blue</th>\n",
              "      <th>color_bule</th>\n",
              "      <th>color_red</th>\n",
              "      <th>gender_boy</th>\n",
              "      <th>gender_girl</th>\n",
              "    </tr>\n",
              "  </thead>\n",
              "  <tbody>\n",
              "    <tr>\n",
              "      <th>0</th>\n",
              "      <td>0</td>\n",
              "      <td>0</td>\n",
              "      <td>1</td>\n",
              "      <td>1</td>\n",
              "      <td>0</td>\n",
              "    </tr>\n",
              "    <tr>\n",
              "      <th>1</th>\n",
              "      <td>0</td>\n",
              "      <td>1</td>\n",
              "      <td>0</td>\n",
              "      <td>0</td>\n",
              "      <td>1</td>\n",
              "    </tr>\n",
              "    <tr>\n",
              "      <th>2</th>\n",
              "      <td>1</td>\n",
              "      <td>0</td>\n",
              "      <td>0</td>\n",
              "      <td>1</td>\n",
              "      <td>0</td>\n",
              "    </tr>\n",
              "  </tbody>\n",
              "</table>\n",
              "</div>"
            ],
            "text/plain": [
              "   color_blue  color_bule  color_red  gender_boy  gender_girl\n",
              "0           0           0          1           1            0\n",
              "1           0           1          0           0            1\n",
              "2           1           0          0           1            0"
            ]
          },
          "metadata": {
            "tags": []
          },
          "execution_count": 34
        }
      ]
    },
    {
      "cell_type": "code",
      "metadata": {
        "id": "lLsl3B880l6D",
        "colab_type": "code",
        "colab": {}
      },
      "source": [
        "def binary_sym_dist(data1,data2):\n",
        "    q = 0\n",
        "    sr = 0\n",
        "    t = 0\n",
        "    for i in range(len(data1)):\n",
        "        if data1[i] == data2[i]:\n",
        "            if data1 != 0:\n",
        "                q = q+1\n",
        "            else:\n",
        "                t = t + 1\n",
        "        if data1[i] != data2[i]:\n",
        "            sr = sr + 1\n",
        "    return sr/q+t+sr"
      ],
      "execution_count": 39,
      "outputs": []
    },
    {
      "cell_type": "code",
      "metadata": {
        "id": "7wRHEH5w2dY7",
        "colab_type": "code",
        "colab": {
          "base_uri": "https://localhost:8080/",
          "height": 34
        },
        "outputId": "a78f1a52-6457-4966-98e3-b969cb3f7cec"
      },
      "source": [
        "binary_sym_dist(list(data_pd_binary.iloc[0,:]),list(data_pd_binary.iloc[1,:]))"
      ],
      "execution_count": 40,
      "outputs": [
        {
          "output_type": "execute_result",
          "data": {
            "text/plain": [
              "8.0"
            ]
          },
          "metadata": {
            "tags": []
          },
          "execution_count": 40
        }
      ]
    },
    {
      "cell_type": "code",
      "metadata": {
        "id": "3OTrn-Io5sKw",
        "colab_type": "code",
        "colab": {}
      },
      "source": [
        "data5 = np.zeros((3,3))"
      ],
      "execution_count": 45,
      "outputs": []
    },
    {
      "cell_type": "code",
      "metadata": {
        "id": "na_7ofGZ4aA0",
        "colab_type": "code",
        "colab": {
          "base_uri": "https://localhost:8080/",
          "height": 67
        },
        "outputId": "6cd390d1-326f-44d9-d1c8-825503ea26d1"
      },
      "source": [
        "for i in range(3):\n",
        "    for j in range(3):\n",
        "        data5[i,j] = binary_sym_dist(list(data_pd_binary.iloc[0,:]),list(data_pd_binary.iloc[1,:]))\n",
        "data5"
      ],
      "execution_count": 47,
      "outputs": [
        {
          "output_type": "execute_result",
          "data": {
            "text/plain": [
              "array([[8., 8., 8.],\n",
              "       [8., 8., 8.],\n",
              "       [8., 8., 8.]])"
            ]
          },
          "metadata": {
            "tags": []
          },
          "execution_count": 47
        }
      ]
    },
    {
      "cell_type": "code",
      "metadata": {
        "id": "a0JSloNi5jEx",
        "colab_type": "code",
        "colab": {}
      },
      "source": [
        ""
      ],
      "execution_count": null,
      "outputs": []
    }
  ]
}