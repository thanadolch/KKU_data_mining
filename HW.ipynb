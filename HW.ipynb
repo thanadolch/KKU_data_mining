{
  "nbformat": 4,
  "nbformat_minor": 0,
  "metadata": {
    "colab": {
      "name": "Untitled1.ipynb",
      "provenance": [],
      "authorship_tag": "ABX9TyPZ5qCSevcwMs4NIFNhfOuO",
      "include_colab_link": true
    },
    "kernelspec": {
      "name": "python3",
      "display_name": "Python 3"
    }
  },
  "cells": [
    {
      "cell_type": "markdown",
      "metadata": {
        "id": "view-in-github",
        "colab_type": "text"
      },
      "source": [
        "<a href=\"https://colab.research.google.com/github/thanadolch/KKU_data_mining/blob/master/HW.ipynb\" target=\"_parent\"><img src=\"https://colab.research.google.com/assets/colab-badge.svg\" alt=\"Open In Colab\"/></a>"
      ]
    },
    {
      "cell_type": "code",
      "metadata": {
        "id": "VXE34KySfW54",
        "colab_type": "code",
        "colab": {
          "base_uri": "https://localhost:8080/",
          "height": 34
        },
        "outputId": "b353848d-8a67-4e3d-e4b1-40ec6f87a218"
      },
      "source": [
        "list_EX = [-4, -1, -9, 8, 11]\n",
        "\n",
        "size_list_EX = len(list_EX)\n",
        "sizeL = size_list_EX - 1 \n",
        "\n",
        "for box in range(size_list_EX) :\n",
        "    for i in range(sizeL) :\n",
        "      if list_EX[i] < list_EX[i+1] :\n",
        "          temp = list_EX[i] \n",
        "          list_EX[i] = list_EX[i+1]\n",
        "          list_EX[i+1] = temp\n",
        "\n",
        "print(list_EX)\n",
        "\n",
        "\n"
      ],
      "execution_count": 1,
      "outputs": [
        {
          "output_type": "stream",
          "text": [
            "[11, 8, -1, -4, -9]\n"
          ],
          "name": "stdout"
        }
      ]
    },
    {
      "cell_type": "code",
      "metadata": {
        "id": "FMYPcHTWfZeV",
        "colab_type": "code",
        "colab": {}
      },
      "source": [
        ""
      ],
      "execution_count": null,
      "outputs": []
    }
  ]
}