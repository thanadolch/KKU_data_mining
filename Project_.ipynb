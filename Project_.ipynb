{
  "nbformat": 4,
  "nbformat_minor": 0,
  "metadata": {
    "colab": {
      "name": "Copy of Project .ipynb",
      "provenance": [],
      "include_colab_link": true
    },
    "kernelspec": {
      "name": "python3",
      "display_name": "Python 3"
    }
  },
  "cells": [
    {
      "cell_type": "markdown",
      "metadata": {
        "id": "view-in-github",
        "colab_type": "text"
      },
      "source": [
        "<a href=\"https://colab.research.google.com/github/thanadolch/KKU_data_mining/blob/master/Project_.ipynb\" target=\"_parent\"><img src=\"https://colab.research.google.com/assets/colab-badge.svg\" alt=\"Open In Colab\"/></a>"
      ]
    },
    {
      "cell_type": "code",
      "metadata": {
        "id": "6IV452ZQ8wgL"
      },
      "source": [
        "import numpy as np\n",
        "import pandas as pd"
      ],
      "execution_count": 1,
      "outputs": []
    },
    {
      "cell_type": "code",
      "metadata": {
        "id": "jZA6_dyv9fgq",
        "colab": {
          "base_uri": "https://localhost:8080/"
        },
        "outputId": "3bc66986-6b9a-4001-f097-6dc363e087ce"
      },
      "source": [
        "from google.colab import drive\n",
        "drive.mount('/content/drive')"
      ],
      "execution_count": 2,
      "outputs": [
        {
          "output_type": "stream",
          "text": [
            "Mounted at /content/drive\n"
          ],
          "name": "stdout"
        }
      ]
    },
    {
      "cell_type": "code",
      "metadata": {
        "id": "Aff59k8t9j6a"
      },
      "source": [
        "path = '/content/drive/My Drive/DWDM_matrerial'"
      ],
      "execution_count": 3,
      "outputs": []
    },
    {
      "cell_type": "code",
      "metadata": {
        "id": "h-G2e4Po91sY"
      },
      "source": [
        "import os"
      ],
      "execution_count": 4,
      "outputs": []
    },
    {
      "cell_type": "code",
      "metadata": {
        "id": "EVyuqIP798h5"
      },
      "source": [
        "RM = os.path.join(path,'Recommendation System.csv')"
      ],
      "execution_count": 5,
      "outputs": []
    },
    {
      "cell_type": "code",
      "metadata": {
        "id": "t9K6uUXV-gB3"
      },
      "source": [
        "RM_Table = pd.read_csv(RM)"
      ],
      "execution_count": 6,
      "outputs": []
    },
    {
      "cell_type": "markdown",
      "metadata": {
        "id": "cV1pBQ3a8QNL"
      },
      "source": [
        "1.ขั้นตอนการเตรียมข้อมูล\n"
      ]
    },
    {
      "cell_type": "code",
      "metadata": {
        "id": "RhXNAeSs-qqd",
        "colab": {
          "base_uri": "https://localhost:8080/",
          "height": 402
        },
        "outputId": "8bbb1909-3dd7-4952-d835-66c889242298"
      },
      "source": [
        "RM_Table "
      ],
      "execution_count": 7,
      "outputs": [
        {
          "output_type": "execute_result",
          "data": {
            "text/html": [
              "<div>\n",
              "<style scoped>\n",
              "    .dataframe tbody tr th:only-of-type {\n",
              "        vertical-align: middle;\n",
              "    }\n",
              "\n",
              "    .dataframe tbody tr th {\n",
              "        vertical-align: top;\n",
              "    }\n",
              "\n",
              "    .dataframe thead th {\n",
              "        text-align: right;\n",
              "    }\n",
              "</style>\n",
              "<table border=\"1\" class=\"dataframe\">\n",
              "  <thead>\n",
              "    <tr style=\"text-align: right;\">\n",
              "      <th></th>\n",
              "      <th>0</th>\n",
              "      <th>50</th>\n",
              "      <th>5</th>\n",
              "      <th>881250949</th>\n",
              "    </tr>\n",
              "  </thead>\n",
              "  <tbody>\n",
              "    <tr>\n",
              "      <th>0</th>\n",
              "      <td>0</td>\n",
              "      <td>172</td>\n",
              "      <td>5</td>\n",
              "      <td>881250949</td>\n",
              "    </tr>\n",
              "    <tr>\n",
              "      <th>1</th>\n",
              "      <td>0</td>\n",
              "      <td>133</td>\n",
              "      <td>1</td>\n",
              "      <td>881250949</td>\n",
              "    </tr>\n",
              "    <tr>\n",
              "      <th>2</th>\n",
              "      <td>196</td>\n",
              "      <td>242</td>\n",
              "      <td>3</td>\n",
              "      <td>881250949</td>\n",
              "    </tr>\n",
              "    <tr>\n",
              "      <th>3</th>\n",
              "      <td>186</td>\n",
              "      <td>302</td>\n",
              "      <td>3</td>\n",
              "      <td>891717742</td>\n",
              "    </tr>\n",
              "    <tr>\n",
              "      <th>4</th>\n",
              "      <td>22</td>\n",
              "      <td>377</td>\n",
              "      <td>1</td>\n",
              "      <td>878887116</td>\n",
              "    </tr>\n",
              "    <tr>\n",
              "      <th>...</th>\n",
              "      <td>...</td>\n",
              "      <td>...</td>\n",
              "      <td>...</td>\n",
              "      <td>...</td>\n",
              "    </tr>\n",
              "    <tr>\n",
              "      <th>99997</th>\n",
              "      <td>880</td>\n",
              "      <td>476</td>\n",
              "      <td>3</td>\n",
              "      <td>880175444</td>\n",
              "    </tr>\n",
              "    <tr>\n",
              "      <th>99998</th>\n",
              "      <td>716</td>\n",
              "      <td>204</td>\n",
              "      <td>5</td>\n",
              "      <td>879795543</td>\n",
              "    </tr>\n",
              "    <tr>\n",
              "      <th>99999</th>\n",
              "      <td>276</td>\n",
              "      <td>1090</td>\n",
              "      <td>1</td>\n",
              "      <td>874795795</td>\n",
              "    </tr>\n",
              "    <tr>\n",
              "      <th>100000</th>\n",
              "      <td>13</td>\n",
              "      <td>225</td>\n",
              "      <td>2</td>\n",
              "      <td>882399156</td>\n",
              "    </tr>\n",
              "    <tr>\n",
              "      <th>100001</th>\n",
              "      <td>12</td>\n",
              "      <td>203</td>\n",
              "      <td>3</td>\n",
              "      <td>879959583</td>\n",
              "    </tr>\n",
              "  </tbody>\n",
              "</table>\n",
              "<p>100002 rows × 4 columns</p>\n",
              "</div>"
            ],
            "text/plain": [
              "          0    50  5  881250949\n",
              "0         0   172  5  881250949\n",
              "1         0   133  1  881250949\n",
              "2       196   242  3  881250949\n",
              "3       186   302  3  891717742\n",
              "4        22   377  1  878887116\n",
              "...     ...   ... ..        ...\n",
              "99997   880   476  3  880175444\n",
              "99998   716   204  5  879795543\n",
              "99999   276  1090  1  874795795\n",
              "100000   13   225  2  882399156\n",
              "100001   12   203  3  879959583\n",
              "\n",
              "[100002 rows x 4 columns]"
            ]
          },
          "metadata": {
            "tags": []
          },
          "execution_count": 7
        }
      ]
    },
    {
      "cell_type": "code",
      "metadata": {
        "id": "u91nxOCB-r1v"
      },
      "source": [
        "RM_Table .columns = (['user_id','item_id',\"rating\",\"timestamp\"])"
      ],
      "execution_count": 8,
      "outputs": []
    },
    {
      "cell_type": "code",
      "metadata": {
        "id": "NUnVo5Hf-yL2",
        "colab": {
          "base_uri": "https://localhost:8080/",
          "height": 195
        },
        "outputId": "3702cfd2-4121-416d-a2ff-63b530d4f645"
      },
      "source": [
        "RM_Table.head()"
      ],
      "execution_count": 9,
      "outputs": [
        {
          "output_type": "execute_result",
          "data": {
            "text/html": [
              "<div>\n",
              "<style scoped>\n",
              "    .dataframe tbody tr th:only-of-type {\n",
              "        vertical-align: middle;\n",
              "    }\n",
              "\n",
              "    .dataframe tbody tr th {\n",
              "        vertical-align: top;\n",
              "    }\n",
              "\n",
              "    .dataframe thead th {\n",
              "        text-align: right;\n",
              "    }\n",
              "</style>\n",
              "<table border=\"1\" class=\"dataframe\">\n",
              "  <thead>\n",
              "    <tr style=\"text-align: right;\">\n",
              "      <th></th>\n",
              "      <th>user_id</th>\n",
              "      <th>item_id</th>\n",
              "      <th>rating</th>\n",
              "      <th>timestamp</th>\n",
              "    </tr>\n",
              "  </thead>\n",
              "  <tbody>\n",
              "    <tr>\n",
              "      <th>0</th>\n",
              "      <td>0</td>\n",
              "      <td>172</td>\n",
              "      <td>5</td>\n",
              "      <td>881250949</td>\n",
              "    </tr>\n",
              "    <tr>\n",
              "      <th>1</th>\n",
              "      <td>0</td>\n",
              "      <td>133</td>\n",
              "      <td>1</td>\n",
              "      <td>881250949</td>\n",
              "    </tr>\n",
              "    <tr>\n",
              "      <th>2</th>\n",
              "      <td>196</td>\n",
              "      <td>242</td>\n",
              "      <td>3</td>\n",
              "      <td>881250949</td>\n",
              "    </tr>\n",
              "    <tr>\n",
              "      <th>3</th>\n",
              "      <td>186</td>\n",
              "      <td>302</td>\n",
              "      <td>3</td>\n",
              "      <td>891717742</td>\n",
              "    </tr>\n",
              "    <tr>\n",
              "      <th>4</th>\n",
              "      <td>22</td>\n",
              "      <td>377</td>\n",
              "      <td>1</td>\n",
              "      <td>878887116</td>\n",
              "    </tr>\n",
              "  </tbody>\n",
              "</table>\n",
              "</div>"
            ],
            "text/plain": [
              "   user_id  item_id  rating  timestamp\n",
              "0        0      172       5  881250949\n",
              "1        0      133       1  881250949\n",
              "2      196      242       3  881250949\n",
              "3      186      302       3  891717742\n",
              "4       22      377       1  878887116"
            ]
          },
          "metadata": {
            "tags": []
          },
          "execution_count": 9
        }
      ]
    },
    {
      "cell_type": "code",
      "metadata": {
        "id": "mKvL9pzf-2yP"
      },
      "source": [
        "Movie = os.path.join(path,'Movie_Id_Titles')"
      ],
      "execution_count": 10,
      "outputs": []
    },
    {
      "cell_type": "code",
      "metadata": {
        "id": "8LZ3g3YN_Cbq",
        "colab": {
          "base_uri": "https://localhost:8080/",
          "height": 402
        },
        "outputId": "942b723c-d177-403e-daaa-6887bcd4f03a"
      },
      "source": [
        "Movie_Table = pd.read_csv(Movie)\n",
        "Movie_Table"
      ],
      "execution_count": 11,
      "outputs": [
        {
          "output_type": "execute_result",
          "data": {
            "text/html": [
              "<div>\n",
              "<style scoped>\n",
              "    .dataframe tbody tr th:only-of-type {\n",
              "        vertical-align: middle;\n",
              "    }\n",
              "\n",
              "    .dataframe tbody tr th {\n",
              "        vertical-align: top;\n",
              "    }\n",
              "\n",
              "    .dataframe thead th {\n",
              "        text-align: right;\n",
              "    }\n",
              "</style>\n",
              "<table border=\"1\" class=\"dataframe\">\n",
              "  <thead>\n",
              "    <tr style=\"text-align: right;\">\n",
              "      <th></th>\n",
              "      <th>item_id</th>\n",
              "      <th>title</th>\n",
              "    </tr>\n",
              "  </thead>\n",
              "  <tbody>\n",
              "    <tr>\n",
              "      <th>0</th>\n",
              "      <td>1</td>\n",
              "      <td>Toy Story (1995)</td>\n",
              "    </tr>\n",
              "    <tr>\n",
              "      <th>1</th>\n",
              "      <td>2</td>\n",
              "      <td>GoldenEye (1995)</td>\n",
              "    </tr>\n",
              "    <tr>\n",
              "      <th>2</th>\n",
              "      <td>3</td>\n",
              "      <td>Four Rooms (1995)</td>\n",
              "    </tr>\n",
              "    <tr>\n",
              "      <th>3</th>\n",
              "      <td>4</td>\n",
              "      <td>Get Shorty (1995)</td>\n",
              "    </tr>\n",
              "    <tr>\n",
              "      <th>4</th>\n",
              "      <td>5</td>\n",
              "      <td>Copycat (1995)</td>\n",
              "    </tr>\n",
              "    <tr>\n",
              "      <th>...</th>\n",
              "      <td>...</td>\n",
              "      <td>...</td>\n",
              "    </tr>\n",
              "    <tr>\n",
              "      <th>1677</th>\n",
              "      <td>1678</td>\n",
              "      <td>Mat' i syn (1997)</td>\n",
              "    </tr>\n",
              "    <tr>\n",
              "      <th>1678</th>\n",
              "      <td>1679</td>\n",
              "      <td>B. Monkey (1998)</td>\n",
              "    </tr>\n",
              "    <tr>\n",
              "      <th>1679</th>\n",
              "      <td>1680</td>\n",
              "      <td>Sliding Doors (1998)</td>\n",
              "    </tr>\n",
              "    <tr>\n",
              "      <th>1680</th>\n",
              "      <td>1681</td>\n",
              "      <td>You So Crazy (1994)</td>\n",
              "    </tr>\n",
              "    <tr>\n",
              "      <th>1681</th>\n",
              "      <td>1682</td>\n",
              "      <td>Scream of Stone (Schrei aus Stein) (1991)</td>\n",
              "    </tr>\n",
              "  </tbody>\n",
              "</table>\n",
              "<p>1682 rows × 2 columns</p>\n",
              "</div>"
            ],
            "text/plain": [
              "      item_id                                      title\n",
              "0           1                           Toy Story (1995)\n",
              "1           2                           GoldenEye (1995)\n",
              "2           3                          Four Rooms (1995)\n",
              "3           4                          Get Shorty (1995)\n",
              "4           5                             Copycat (1995)\n",
              "...       ...                                        ...\n",
              "1677     1678                          Mat' i syn (1997)\n",
              "1678     1679                           B. Monkey (1998)\n",
              "1679     1680                       Sliding Doors (1998)\n",
              "1680     1681                        You So Crazy (1994)\n",
              "1681     1682  Scream of Stone (Schrei aus Stein) (1991)\n",
              "\n",
              "[1682 rows x 2 columns]"
            ]
          },
          "metadata": {
            "tags": []
          },
          "execution_count": 11
        }
      ]
    },
    {
      "cell_type": "code",
      "metadata": {
        "id": "vP862ht8_Mkp",
        "colab": {
          "base_uri": "https://localhost:8080/",
          "height": 402
        },
        "outputId": "7cd00033-c723-47f9-c08b-f592afc7e51c"
      },
      "source": [
        "df = pd.merge(RM_Table,Movie_Table,on='item_id')\n",
        "df"
      ],
      "execution_count": 12,
      "outputs": [
        {
          "output_type": "execute_result",
          "data": {
            "text/html": [
              "<div>\n",
              "<style scoped>\n",
              "    .dataframe tbody tr th:only-of-type {\n",
              "        vertical-align: middle;\n",
              "    }\n",
              "\n",
              "    .dataframe tbody tr th {\n",
              "        vertical-align: top;\n",
              "    }\n",
              "\n",
              "    .dataframe thead th {\n",
              "        text-align: right;\n",
              "    }\n",
              "</style>\n",
              "<table border=\"1\" class=\"dataframe\">\n",
              "  <thead>\n",
              "    <tr style=\"text-align: right;\">\n",
              "      <th></th>\n",
              "      <th>user_id</th>\n",
              "      <th>item_id</th>\n",
              "      <th>rating</th>\n",
              "      <th>timestamp</th>\n",
              "      <th>title</th>\n",
              "    </tr>\n",
              "  </thead>\n",
              "  <tbody>\n",
              "    <tr>\n",
              "      <th>0</th>\n",
              "      <td>0</td>\n",
              "      <td>172</td>\n",
              "      <td>5</td>\n",
              "      <td>881250949</td>\n",
              "      <td>Empire Strikes Back, The (1980)</td>\n",
              "    </tr>\n",
              "    <tr>\n",
              "      <th>1</th>\n",
              "      <td>213</td>\n",
              "      <td>172</td>\n",
              "      <td>5</td>\n",
              "      <td>878955442</td>\n",
              "      <td>Empire Strikes Back, The (1980)</td>\n",
              "    </tr>\n",
              "    <tr>\n",
              "      <th>2</th>\n",
              "      <td>92</td>\n",
              "      <td>172</td>\n",
              "      <td>4</td>\n",
              "      <td>875653271</td>\n",
              "      <td>Empire Strikes Back, The (1980)</td>\n",
              "    </tr>\n",
              "    <tr>\n",
              "      <th>3</th>\n",
              "      <td>77</td>\n",
              "      <td>172</td>\n",
              "      <td>3</td>\n",
              "      <td>884752562</td>\n",
              "      <td>Empire Strikes Back, The (1980)</td>\n",
              "    </tr>\n",
              "    <tr>\n",
              "      <th>4</th>\n",
              "      <td>194</td>\n",
              "      <td>172</td>\n",
              "      <td>3</td>\n",
              "      <td>879521474</td>\n",
              "      <td>Empire Strikes Back, The (1980)</td>\n",
              "    </tr>\n",
              "    <tr>\n",
              "      <th>...</th>\n",
              "      <td>...</td>\n",
              "      <td>...</td>\n",
              "      <td>...</td>\n",
              "      <td>...</td>\n",
              "      <td>...</td>\n",
              "    </tr>\n",
              "    <tr>\n",
              "      <th>99997</th>\n",
              "      <td>840</td>\n",
              "      <td>1674</td>\n",
              "      <td>4</td>\n",
              "      <td>891211682</td>\n",
              "      <td>Mamma Roma (1962)</td>\n",
              "    </tr>\n",
              "    <tr>\n",
              "      <th>99998</th>\n",
              "      <td>655</td>\n",
              "      <td>1640</td>\n",
              "      <td>3</td>\n",
              "      <td>888474646</td>\n",
              "      <td>Eighth Day, The (1996)</td>\n",
              "    </tr>\n",
              "    <tr>\n",
              "      <th>99999</th>\n",
              "      <td>655</td>\n",
              "      <td>1637</td>\n",
              "      <td>3</td>\n",
              "      <td>888984255</td>\n",
              "      <td>Girls Town (1996)</td>\n",
              "    </tr>\n",
              "    <tr>\n",
              "      <th>100000</th>\n",
              "      <td>655</td>\n",
              "      <td>1630</td>\n",
              "      <td>3</td>\n",
              "      <td>887428735</td>\n",
              "      <td>Silence of the Palace, The (Saimt el Qusur) (1...</td>\n",
              "    </tr>\n",
              "    <tr>\n",
              "      <th>100001</th>\n",
              "      <td>655</td>\n",
              "      <td>1641</td>\n",
              "      <td>3</td>\n",
              "      <td>887427810</td>\n",
              "      <td>Dadetown (1995)</td>\n",
              "    </tr>\n",
              "  </tbody>\n",
              "</table>\n",
              "<p>100002 rows × 5 columns</p>\n",
              "</div>"
            ],
            "text/plain": [
              "        user_id  ...                                              title\n",
              "0             0  ...                    Empire Strikes Back, The (1980)\n",
              "1           213  ...                    Empire Strikes Back, The (1980)\n",
              "2            92  ...                    Empire Strikes Back, The (1980)\n",
              "3            77  ...                    Empire Strikes Back, The (1980)\n",
              "4           194  ...                    Empire Strikes Back, The (1980)\n",
              "...         ...  ...                                                ...\n",
              "99997       840  ...                                  Mamma Roma (1962)\n",
              "99998       655  ...                             Eighth Day, The (1996)\n",
              "99999       655  ...                                  Girls Town (1996)\n",
              "100000      655  ...  Silence of the Palace, The (Saimt el Qusur) (1...\n",
              "100001      655  ...                                    Dadetown (1995)\n",
              "\n",
              "[100002 rows x 5 columns]"
            ]
          },
          "metadata": {
            "tags": []
          },
          "execution_count": 12
        }
      ]
    },
    {
      "cell_type": "code",
      "metadata": {
        "id": "ZiFKqJFJ_sKm",
        "colab": {
          "base_uri": "https://localhost:8080/",
          "height": 195
        },
        "outputId": "1ffc7d5f-03cf-47a2-8df8-25d3dfb417aa"
      },
      "source": [
        "df.sort_values('item_id').head()"
      ],
      "execution_count": 13,
      "outputs": [
        {
          "output_type": "execute_result",
          "data": {
            "text/html": [
              "<div>\n",
              "<style scoped>\n",
              "    .dataframe tbody tr th:only-of-type {\n",
              "        vertical-align: middle;\n",
              "    }\n",
              "\n",
              "    .dataframe tbody tr th {\n",
              "        vertical-align: top;\n",
              "    }\n",
              "\n",
              "    .dataframe thead th {\n",
              "        text-align: right;\n",
              "    }\n",
              "</style>\n",
              "<table border=\"1\" class=\"dataframe\">\n",
              "  <thead>\n",
              "    <tr style=\"text-align: right;\">\n",
              "      <th></th>\n",
              "      <th>user_id</th>\n",
              "      <th>item_id</th>\n",
              "      <th>rating</th>\n",
              "      <th>timestamp</th>\n",
              "      <th>title</th>\n",
              "    </tr>\n",
              "  </thead>\n",
              "  <tbody>\n",
              "    <tr>\n",
              "      <th>3937</th>\n",
              "      <td>308</td>\n",
              "      <td>1</td>\n",
              "      <td>4</td>\n",
              "      <td>887736532</td>\n",
              "      <td>Toy Story (1995)</td>\n",
              "    </tr>\n",
              "    <tr>\n",
              "      <th>4247</th>\n",
              "      <td>893</td>\n",
              "      <td>1</td>\n",
              "      <td>5</td>\n",
              "      <td>874827725</td>\n",
              "      <td>Toy Story (1995)</td>\n",
              "    </tr>\n",
              "    <tr>\n",
              "      <th>4246</th>\n",
              "      <td>336</td>\n",
              "      <td>1</td>\n",
              "      <td>3</td>\n",
              "      <td>877759342</td>\n",
              "      <td>Toy Story (1995)</td>\n",
              "    </tr>\n",
              "    <tr>\n",
              "      <th>4245</th>\n",
              "      <td>303</td>\n",
              "      <td>1</td>\n",
              "      <td>5</td>\n",
              "      <td>879466966</td>\n",
              "      <td>Toy Story (1995)</td>\n",
              "    </tr>\n",
              "    <tr>\n",
              "      <th>4244</th>\n",
              "      <td>886</td>\n",
              "      <td>1</td>\n",
              "      <td>4</td>\n",
              "      <td>876031433</td>\n",
              "      <td>Toy Story (1995)</td>\n",
              "    </tr>\n",
              "  </tbody>\n",
              "</table>\n",
              "</div>"
            ],
            "text/plain": [
              "      user_id  item_id  rating  timestamp             title\n",
              "3937      308        1       4  887736532  Toy Story (1995)\n",
              "4247      893        1       5  874827725  Toy Story (1995)\n",
              "4246      336        1       3  877759342  Toy Story (1995)\n",
              "4245      303        1       5  879466966  Toy Story (1995)\n",
              "4244      886        1       4  876031433  Toy Story (1995)"
            ]
          },
          "metadata": {
            "tags": []
          },
          "execution_count": 13
        }
      ]
    },
    {
      "cell_type": "code",
      "metadata": {
        "id": "qoLNJPYlJ3rL",
        "colab": {
          "base_uri": "https://localhost:8080/"
        },
        "outputId": "a8b3e25c-e475-4a32-8fef-d41fa17b851a"
      },
      "source": [
        "df.isnull().any()"
      ],
      "execution_count": 14,
      "outputs": [
        {
          "output_type": "execute_result",
          "data": {
            "text/plain": [
              "user_id      False\n",
              "item_id      False\n",
              "rating       False\n",
              "timestamp    False\n",
              "title        False\n",
              "dtype: bool"
            ]
          },
          "metadata": {
            "tags": []
          },
          "execution_count": 14
        }
      ]
    },
    {
      "cell_type": "code",
      "metadata": {
        "id": "S1lu16oyBREr",
        "colab": {
          "base_uri": "https://localhost:8080/"
        },
        "outputId": "ea0d603a-e9a1-4724-fd3e-b88c44a5a684"
      },
      "source": [
        "asso = df.groupby('user_id')['title'].apply(list)\n",
        "asso"
      ],
      "execution_count": 15,
      "outputs": [
        {
          "output_type": "execute_result",
          "data": {
            "text/plain": [
              "user_id\n",
              "0      [Empire Strikes Back, The (1980), Gone with th...\n",
              "1      [Empire Strikes Back, The (1980), Gone with th...\n",
              "2      [Kolya (1996), L.A. Confidential (1997), Men i...\n",
              "3      [L.A. Confidential (1997), Jackie Brown (1997)...\n",
              "4      [Cop Land (1997), Scream (1996), Liar Liar (19...\n",
              "                             ...                        \n",
              "939    [Men in Black (1997), Star Trek: First Contact...\n",
              "940    [Empire Strikes Back, The (1980), L.A. Confide...\n",
              "941    [Men in Black (1997), Star Trek: First Contact...\n",
              "942    [Empire Strikes Back, The (1980), Hunt for Red...\n",
              "943    [Empire Strikes Back, The (1980), Legends of t...\n",
              "Name: title, Length: 944, dtype: object"
            ]
          },
          "metadata": {
            "tags": []
          },
          "execution_count": 15
        }
      ]
    },
    {
      "cell_type": "code",
      "metadata": {
        "id": "N2jrzDChBuug",
        "colab": {
          "base_uri": "https://localhost:8080/"
        },
        "outputId": "ed5a6c2f-d47b-4295-c47a-b947e4f14741"
      },
      "source": [
        "!pip install apyori"
      ],
      "execution_count": 16,
      "outputs": [
        {
          "output_type": "stream",
          "text": [
            "Collecting apyori\n",
            "  Downloading https://files.pythonhosted.org/packages/5e/62/5ffde5c473ea4b033490617ec5caa80d59804875ad3c3c57c0976533a21a/apyori-1.1.2.tar.gz\n",
            "Building wheels for collected packages: apyori\n",
            "  Building wheel for apyori (setup.py) ... \u001b[?25l\u001b[?25hdone\n",
            "  Created wheel for apyori: filename=apyori-1.1.2-cp36-none-any.whl size=5975 sha256=7eaa6e548a049f1fc81727548422c0b543e0fccbdd2d1bf65d93a83597374eca\n",
            "  Stored in directory: /root/.cache/pip/wheels/5d/92/bb/474bbadbc8c0062b9eb168f69982a0443263f8ab1711a8cad0\n",
            "Successfully built apyori\n",
            "Installing collected packages: apyori\n",
            "Successfully installed apyori-1.1.2\n"
          ],
          "name": "stdout"
        }
      ]
    },
    {
      "cell_type": "code",
      "metadata": {
        "id": "O4GeY-anCQQY"
      },
      "source": [
        "from apyori import apriori"
      ],
      "execution_count": 17,
      "outputs": []
    },
    {
      "cell_type": "code",
      "metadata": {
        "id": "lhdSFS4kCXCP",
        "colab": {
          "base_uri": "https://localhost:8080/"
        },
        "outputId": "3cdf20c4-0d27-40db-aa90-6ad55b3edd15"
      },
      "source": [
        "list(apriori(asso,min_support=0.3,min_confidence=0.99))"
      ],
      "execution_count": 18,
      "outputs": [
        {
          "output_type": "execute_result",
          "data": {
            "text/plain": [
              "[RelationRecord(items=frozenset({'Empire Strikes Back, The (1980)', 'Star Wars (1977)', 'Return of the Jedi (1983)'}), support=0.3336864406779661, ordered_statistics=[OrderedStatistic(items_base=frozenset({'Empire Strikes Back, The (1980)', 'Return of the Jedi (1983)'}), items_add=frozenset({'Star Wars (1977)'}), confidence=0.9936908517350158, lift=1.6089951355709349)]),\n",
              " RelationRecord(items=frozenset({'Raiders of the Lost Ark (1981)', 'Empire Strikes Back, The (1980)', 'Star Wars (1977)', 'Return of the Jedi (1983)'}), support=0.3114406779661017, ordered_statistics=[OrderedStatistic(items_base=frozenset({'Raiders of the Lost Ark (1981)', 'Empire Strikes Back, The (1980)', 'Return of the Jedi (1983)'}), items_add=frozenset({'Star Wars (1977)'}), confidence=0.9966101694915255, lift=1.6137221269296742)])]"
            ]
          },
          "metadata": {
            "tags": []
          },
          "execution_count": 18
        }
      ]
    },
    {
      "cell_type": "code",
      "metadata": {
        "id": "SMf0BOcSCw4l",
        "colab": {
          "base_uri": "https://localhost:8080/",
          "height": 402
        },
        "outputId": "b85a6468-8bc7-460a-c4f3-5e036a024dec"
      },
      "source": [
        "Movie1 = os.path.join(path,'movies.csv')\n",
        "Movie1 = pd.read_csv(Movie1)\n",
        "Movie1"
      ],
      "execution_count": 19,
      "outputs": [
        {
          "output_type": "execute_result",
          "data": {
            "text/html": [
              "<div>\n",
              "<style scoped>\n",
              "    .dataframe tbody tr th:only-of-type {\n",
              "        vertical-align: middle;\n",
              "    }\n",
              "\n",
              "    .dataframe tbody tr th {\n",
              "        vertical-align: top;\n",
              "    }\n",
              "\n",
              "    .dataframe thead th {\n",
              "        text-align: right;\n",
              "    }\n",
              "</style>\n",
              "<table border=\"1\" class=\"dataframe\">\n",
              "  <thead>\n",
              "    <tr style=\"text-align: right;\">\n",
              "      <th></th>\n",
              "      <th>movieId</th>\n",
              "      <th>title</th>\n",
              "      <th>genres</th>\n",
              "    </tr>\n",
              "  </thead>\n",
              "  <tbody>\n",
              "    <tr>\n",
              "      <th>0</th>\n",
              "      <td>1</td>\n",
              "      <td>Toy Story (1995)</td>\n",
              "      <td>Adventure|Animation|Children|Comedy|Fantasy</td>\n",
              "    </tr>\n",
              "    <tr>\n",
              "      <th>1</th>\n",
              "      <td>2</td>\n",
              "      <td>Jumanji (1995)</td>\n",
              "      <td>Adventure|Children|Fantasy</td>\n",
              "    </tr>\n",
              "    <tr>\n",
              "      <th>2</th>\n",
              "      <td>3</td>\n",
              "      <td>Grumpier Old Men (1995)</td>\n",
              "      <td>Comedy|Romance</td>\n",
              "    </tr>\n",
              "    <tr>\n",
              "      <th>3</th>\n",
              "      <td>4</td>\n",
              "      <td>Waiting to Exhale (1995)</td>\n",
              "      <td>Comedy|Drama|Romance</td>\n",
              "    </tr>\n",
              "    <tr>\n",
              "      <th>4</th>\n",
              "      <td>5</td>\n",
              "      <td>Father of the Bride Part II (1995)</td>\n",
              "      <td>Comedy</td>\n",
              "    </tr>\n",
              "    <tr>\n",
              "      <th>...</th>\n",
              "      <td>...</td>\n",
              "      <td>...</td>\n",
              "      <td>...</td>\n",
              "    </tr>\n",
              "    <tr>\n",
              "      <th>34179</th>\n",
              "      <td>151697</td>\n",
              "      <td>Grand Slam (1967)</td>\n",
              "      <td>Thriller</td>\n",
              "    </tr>\n",
              "    <tr>\n",
              "      <th>34180</th>\n",
              "      <td>151701</td>\n",
              "      <td>Bloodmoney (2010)</td>\n",
              "      <td>(no genres listed)</td>\n",
              "    </tr>\n",
              "    <tr>\n",
              "      <th>34181</th>\n",
              "      <td>151703</td>\n",
              "      <td>The Butterfly Circus (2009)</td>\n",
              "      <td>Drama</td>\n",
              "    </tr>\n",
              "    <tr>\n",
              "      <th>34182</th>\n",
              "      <td>151709</td>\n",
              "      <td>Zero (2015)</td>\n",
              "      <td>Drama|Sci-Fi</td>\n",
              "    </tr>\n",
              "    <tr>\n",
              "      <th>34183</th>\n",
              "      <td>151711</td>\n",
              "      <td>The 2000 Year Old Man (1975)</td>\n",
              "      <td>(no genres listed)</td>\n",
              "    </tr>\n",
              "  </tbody>\n",
              "</table>\n",
              "<p>34184 rows × 3 columns</p>\n",
              "</div>"
            ],
            "text/plain": [
              "       movieId  ...                                       genres\n",
              "0            1  ...  Adventure|Animation|Children|Comedy|Fantasy\n",
              "1            2  ...                   Adventure|Children|Fantasy\n",
              "2            3  ...                               Comedy|Romance\n",
              "3            4  ...                         Comedy|Drama|Romance\n",
              "4            5  ...                                       Comedy\n",
              "...        ...  ...                                          ...\n",
              "34179   151697  ...                                     Thriller\n",
              "34180   151701  ...                           (no genres listed)\n",
              "34181   151703  ...                                        Drama\n",
              "34182   151709  ...                                 Drama|Sci-Fi\n",
              "34183   151711  ...                           (no genres listed)\n",
              "\n",
              "[34184 rows x 3 columns]"
            ]
          },
          "metadata": {
            "tags": []
          },
          "execution_count": 19
        }
      ]
    },
    {
      "cell_type": "code",
      "metadata": {
        "colab": {
          "base_uri": "https://localhost:8080/",
          "height": 402
        },
        "id": "UpKwb5415ONB",
        "outputId": "511241e5-6bf2-4ec5-d470-ff78e0c040ac"
      },
      "source": [
        "hj = pd.merge(Movie1,df,on='title')\n",
        "hj"
      ],
      "execution_count": 20,
      "outputs": [
        {
          "output_type": "execute_result",
          "data": {
            "text/html": [
              "<div>\n",
              "<style scoped>\n",
              "    .dataframe tbody tr th:only-of-type {\n",
              "        vertical-align: middle;\n",
              "    }\n",
              "\n",
              "    .dataframe tbody tr th {\n",
              "        vertical-align: top;\n",
              "    }\n",
              "\n",
              "    .dataframe thead th {\n",
              "        text-align: right;\n",
              "    }\n",
              "</style>\n",
              "<table border=\"1\" class=\"dataframe\">\n",
              "  <thead>\n",
              "    <tr style=\"text-align: right;\">\n",
              "      <th></th>\n",
              "      <th>movieId</th>\n",
              "      <th>title</th>\n",
              "      <th>genres</th>\n",
              "      <th>user_id</th>\n",
              "      <th>item_id</th>\n",
              "      <th>rating</th>\n",
              "      <th>timestamp</th>\n",
              "    </tr>\n",
              "  </thead>\n",
              "  <tbody>\n",
              "    <tr>\n",
              "      <th>0</th>\n",
              "      <td>1</td>\n",
              "      <td>Toy Story (1995)</td>\n",
              "      <td>Adventure|Animation|Children|Comedy|Fantasy</td>\n",
              "      <td>308</td>\n",
              "      <td>1</td>\n",
              "      <td>4</td>\n",
              "      <td>887736532</td>\n",
              "    </tr>\n",
              "    <tr>\n",
              "      <th>1</th>\n",
              "      <td>1</td>\n",
              "      <td>Toy Story (1995)</td>\n",
              "      <td>Adventure|Animation|Children|Comedy|Fantasy</td>\n",
              "      <td>287</td>\n",
              "      <td>1</td>\n",
              "      <td>5</td>\n",
              "      <td>875334088</td>\n",
              "    </tr>\n",
              "    <tr>\n",
              "      <th>2</th>\n",
              "      <td>1</td>\n",
              "      <td>Toy Story (1995)</td>\n",
              "      <td>Adventure|Animation|Children|Comedy|Fantasy</td>\n",
              "      <td>148</td>\n",
              "      <td>1</td>\n",
              "      <td>4</td>\n",
              "      <td>877019411</td>\n",
              "    </tr>\n",
              "    <tr>\n",
              "      <th>3</th>\n",
              "      <td>1</td>\n",
              "      <td>Toy Story (1995)</td>\n",
              "      <td>Adventure|Animation|Children|Comedy|Fantasy</td>\n",
              "      <td>280</td>\n",
              "      <td>1</td>\n",
              "      <td>4</td>\n",
              "      <td>891700426</td>\n",
              "    </tr>\n",
              "    <tr>\n",
              "      <th>4</th>\n",
              "      <td>1</td>\n",
              "      <td>Toy Story (1995)</td>\n",
              "      <td>Adventure|Animation|Children|Comedy|Fantasy</td>\n",
              "      <td>66</td>\n",
              "      <td>1</td>\n",
              "      <td>3</td>\n",
              "      <td>883601324</td>\n",
              "    </tr>\n",
              "    <tr>\n",
              "      <th>...</th>\n",
              "      <td>...</td>\n",
              "      <td>...</td>\n",
              "      <td>...</td>\n",
              "      <td>...</td>\n",
              "      <td>...</td>\n",
              "      <td>...</td>\n",
              "      <td>...</td>\n",
              "    </tr>\n",
              "    <tr>\n",
              "      <th>88923</th>\n",
              "      <td>6531</td>\n",
              "      <td>Hour of the Pig, The (1993)</td>\n",
              "      <td>Crime|Drama|Mystery</td>\n",
              "      <td>429</td>\n",
              "      <td>587</td>\n",
              "      <td>3</td>\n",
              "      <td>882386895</td>\n",
              "    </tr>\n",
              "    <tr>\n",
              "      <th>88924</th>\n",
              "      <td>6531</td>\n",
              "      <td>Hour of the Pig, The (1993)</td>\n",
              "      <td>Crime|Drama|Mystery</td>\n",
              "      <td>551</td>\n",
              "      <td>587</td>\n",
              "      <td>4</td>\n",
              "      <td>892783525</td>\n",
              "    </tr>\n",
              "    <tr>\n",
              "      <th>88925</th>\n",
              "      <td>6531</td>\n",
              "      <td>Hour of the Pig, The (1993)</td>\n",
              "      <td>Crime|Drama|Mystery</td>\n",
              "      <td>94</td>\n",
              "      <td>587</td>\n",
              "      <td>4</td>\n",
              "      <td>891721078</td>\n",
              "    </tr>\n",
              "    <tr>\n",
              "      <th>88926</th>\n",
              "      <td>6531</td>\n",
              "      <td>Hour of the Pig, The (1993)</td>\n",
              "      <td>Crime|Drama|Mystery</td>\n",
              "      <td>896</td>\n",
              "      <td>587</td>\n",
              "      <td>3</td>\n",
              "      <td>887159603</td>\n",
              "    </tr>\n",
              "    <tr>\n",
              "      <th>88927</th>\n",
              "      <td>8739</td>\n",
              "      <td>Mamma Roma (1962)</td>\n",
              "      <td>Drama</td>\n",
              "      <td>840</td>\n",
              "      <td>1674</td>\n",
              "      <td>4</td>\n",
              "      <td>891211682</td>\n",
              "    </tr>\n",
              "  </tbody>\n",
              "</table>\n",
              "<p>88928 rows × 7 columns</p>\n",
              "</div>"
            ],
            "text/plain": [
              "       movieId                        title  ... rating  timestamp\n",
              "0            1             Toy Story (1995)  ...      4  887736532\n",
              "1            1             Toy Story (1995)  ...      5  875334088\n",
              "2            1             Toy Story (1995)  ...      4  877019411\n",
              "3            1             Toy Story (1995)  ...      4  891700426\n",
              "4            1             Toy Story (1995)  ...      3  883601324\n",
              "...        ...                          ...  ...    ...        ...\n",
              "88923     6531  Hour of the Pig, The (1993)  ...      3  882386895\n",
              "88924     6531  Hour of the Pig, The (1993)  ...      4  892783525\n",
              "88925     6531  Hour of the Pig, The (1993)  ...      4  891721078\n",
              "88926     6531  Hour of the Pig, The (1993)  ...      3  887159603\n",
              "88927     8739            Mamma Roma (1962)  ...      4  891211682\n",
              "\n",
              "[88928 rows x 7 columns]"
            ]
          },
          "metadata": {
            "tags": []
          },
          "execution_count": 20
        }
      ]
    },
    {
      "cell_type": "code",
      "metadata": {
        "colab": {
          "base_uri": "https://localhost:8080/",
          "height": 402
        },
        "id": "N192Navl6Swg",
        "outputId": "19f8e5c9-9113-492f-9b91-a948ade2337b"
      },
      "source": [
        "poi = hj[['user_id','item_id','rating','timestamp','title','genres']]\n",
        "poi"
      ],
      "execution_count": 21,
      "outputs": [
        {
          "output_type": "execute_result",
          "data": {
            "text/html": [
              "<div>\n",
              "<style scoped>\n",
              "    .dataframe tbody tr th:only-of-type {\n",
              "        vertical-align: middle;\n",
              "    }\n",
              "\n",
              "    .dataframe tbody tr th {\n",
              "        vertical-align: top;\n",
              "    }\n",
              "\n",
              "    .dataframe thead th {\n",
              "        text-align: right;\n",
              "    }\n",
              "</style>\n",
              "<table border=\"1\" class=\"dataframe\">\n",
              "  <thead>\n",
              "    <tr style=\"text-align: right;\">\n",
              "      <th></th>\n",
              "      <th>user_id</th>\n",
              "      <th>item_id</th>\n",
              "      <th>rating</th>\n",
              "      <th>timestamp</th>\n",
              "      <th>title</th>\n",
              "      <th>genres</th>\n",
              "    </tr>\n",
              "  </thead>\n",
              "  <tbody>\n",
              "    <tr>\n",
              "      <th>0</th>\n",
              "      <td>308</td>\n",
              "      <td>1</td>\n",
              "      <td>4</td>\n",
              "      <td>887736532</td>\n",
              "      <td>Toy Story (1995)</td>\n",
              "      <td>Adventure|Animation|Children|Comedy|Fantasy</td>\n",
              "    </tr>\n",
              "    <tr>\n",
              "      <th>1</th>\n",
              "      <td>287</td>\n",
              "      <td>1</td>\n",
              "      <td>5</td>\n",
              "      <td>875334088</td>\n",
              "      <td>Toy Story (1995)</td>\n",
              "      <td>Adventure|Animation|Children|Comedy|Fantasy</td>\n",
              "    </tr>\n",
              "    <tr>\n",
              "      <th>2</th>\n",
              "      <td>148</td>\n",
              "      <td>1</td>\n",
              "      <td>4</td>\n",
              "      <td>877019411</td>\n",
              "      <td>Toy Story (1995)</td>\n",
              "      <td>Adventure|Animation|Children|Comedy|Fantasy</td>\n",
              "    </tr>\n",
              "    <tr>\n",
              "      <th>3</th>\n",
              "      <td>280</td>\n",
              "      <td>1</td>\n",
              "      <td>4</td>\n",
              "      <td>891700426</td>\n",
              "      <td>Toy Story (1995)</td>\n",
              "      <td>Adventure|Animation|Children|Comedy|Fantasy</td>\n",
              "    </tr>\n",
              "    <tr>\n",
              "      <th>4</th>\n",
              "      <td>66</td>\n",
              "      <td>1</td>\n",
              "      <td>3</td>\n",
              "      <td>883601324</td>\n",
              "      <td>Toy Story (1995)</td>\n",
              "      <td>Adventure|Animation|Children|Comedy|Fantasy</td>\n",
              "    </tr>\n",
              "    <tr>\n",
              "      <th>...</th>\n",
              "      <td>...</td>\n",
              "      <td>...</td>\n",
              "      <td>...</td>\n",
              "      <td>...</td>\n",
              "      <td>...</td>\n",
              "      <td>...</td>\n",
              "    </tr>\n",
              "    <tr>\n",
              "      <th>88923</th>\n",
              "      <td>429</td>\n",
              "      <td>587</td>\n",
              "      <td>3</td>\n",
              "      <td>882386895</td>\n",
              "      <td>Hour of the Pig, The (1993)</td>\n",
              "      <td>Crime|Drama|Mystery</td>\n",
              "    </tr>\n",
              "    <tr>\n",
              "      <th>88924</th>\n",
              "      <td>551</td>\n",
              "      <td>587</td>\n",
              "      <td>4</td>\n",
              "      <td>892783525</td>\n",
              "      <td>Hour of the Pig, The (1993)</td>\n",
              "      <td>Crime|Drama|Mystery</td>\n",
              "    </tr>\n",
              "    <tr>\n",
              "      <th>88925</th>\n",
              "      <td>94</td>\n",
              "      <td>587</td>\n",
              "      <td>4</td>\n",
              "      <td>891721078</td>\n",
              "      <td>Hour of the Pig, The (1993)</td>\n",
              "      <td>Crime|Drama|Mystery</td>\n",
              "    </tr>\n",
              "    <tr>\n",
              "      <th>88926</th>\n",
              "      <td>896</td>\n",
              "      <td>587</td>\n",
              "      <td>3</td>\n",
              "      <td>887159603</td>\n",
              "      <td>Hour of the Pig, The (1993)</td>\n",
              "      <td>Crime|Drama|Mystery</td>\n",
              "    </tr>\n",
              "    <tr>\n",
              "      <th>88927</th>\n",
              "      <td>840</td>\n",
              "      <td>1674</td>\n",
              "      <td>4</td>\n",
              "      <td>891211682</td>\n",
              "      <td>Mamma Roma (1962)</td>\n",
              "      <td>Drama</td>\n",
              "    </tr>\n",
              "  </tbody>\n",
              "</table>\n",
              "<p>88928 rows × 6 columns</p>\n",
              "</div>"
            ],
            "text/plain": [
              "       user_id  ...                                       genres\n",
              "0          308  ...  Adventure|Animation|Children|Comedy|Fantasy\n",
              "1          287  ...  Adventure|Animation|Children|Comedy|Fantasy\n",
              "2          148  ...  Adventure|Animation|Children|Comedy|Fantasy\n",
              "3          280  ...  Adventure|Animation|Children|Comedy|Fantasy\n",
              "4           66  ...  Adventure|Animation|Children|Comedy|Fantasy\n",
              "...        ...  ...                                          ...\n",
              "88923      429  ...                          Crime|Drama|Mystery\n",
              "88924      551  ...                          Crime|Drama|Mystery\n",
              "88925       94  ...                          Crime|Drama|Mystery\n",
              "88926      896  ...                          Crime|Drama|Mystery\n",
              "88927      840  ...                                        Drama\n",
              "\n",
              "[88928 rows x 6 columns]"
            ]
          },
          "metadata": {
            "tags": []
          },
          "execution_count": 21
        }
      ]
    },
    {
      "cell_type": "code",
      "metadata": {
        "colab": {
          "base_uri": "https://localhost:8080/",
          "height": 402
        },
        "id": "1UcZIfnu5cZa",
        "outputId": "9990b633-cc53-4bb6-949f-774d3e1f1d86"
      },
      "source": [
        "df['genres'] = df['title'].map(Movie1.set_index('title')['genres'])\n",
        "df"
      ],
      "execution_count": 22,
      "outputs": [
        {
          "output_type": "execute_result",
          "data": {
            "text/html": [
              "<div>\n",
              "<style scoped>\n",
              "    .dataframe tbody tr th:only-of-type {\n",
              "        vertical-align: middle;\n",
              "    }\n",
              "\n",
              "    .dataframe tbody tr th {\n",
              "        vertical-align: top;\n",
              "    }\n",
              "\n",
              "    .dataframe thead th {\n",
              "        text-align: right;\n",
              "    }\n",
              "</style>\n",
              "<table border=\"1\" class=\"dataframe\">\n",
              "  <thead>\n",
              "    <tr style=\"text-align: right;\">\n",
              "      <th></th>\n",
              "      <th>user_id</th>\n",
              "      <th>item_id</th>\n",
              "      <th>rating</th>\n",
              "      <th>timestamp</th>\n",
              "      <th>title</th>\n",
              "      <th>genres</th>\n",
              "    </tr>\n",
              "  </thead>\n",
              "  <tbody>\n",
              "    <tr>\n",
              "      <th>0</th>\n",
              "      <td>0</td>\n",
              "      <td>172</td>\n",
              "      <td>5</td>\n",
              "      <td>881250949</td>\n",
              "      <td>Empire Strikes Back, The (1980)</td>\n",
              "      <td>NaN</td>\n",
              "    </tr>\n",
              "    <tr>\n",
              "      <th>1</th>\n",
              "      <td>213</td>\n",
              "      <td>172</td>\n",
              "      <td>5</td>\n",
              "      <td>878955442</td>\n",
              "      <td>Empire Strikes Back, The (1980)</td>\n",
              "      <td>NaN</td>\n",
              "    </tr>\n",
              "    <tr>\n",
              "      <th>2</th>\n",
              "      <td>92</td>\n",
              "      <td>172</td>\n",
              "      <td>4</td>\n",
              "      <td>875653271</td>\n",
              "      <td>Empire Strikes Back, The (1980)</td>\n",
              "      <td>NaN</td>\n",
              "    </tr>\n",
              "    <tr>\n",
              "      <th>3</th>\n",
              "      <td>77</td>\n",
              "      <td>172</td>\n",
              "      <td>3</td>\n",
              "      <td>884752562</td>\n",
              "      <td>Empire Strikes Back, The (1980)</td>\n",
              "      <td>NaN</td>\n",
              "    </tr>\n",
              "    <tr>\n",
              "      <th>4</th>\n",
              "      <td>194</td>\n",
              "      <td>172</td>\n",
              "      <td>3</td>\n",
              "      <td>879521474</td>\n",
              "      <td>Empire Strikes Back, The (1980)</td>\n",
              "      <td>NaN</td>\n",
              "    </tr>\n",
              "    <tr>\n",
              "      <th>...</th>\n",
              "      <td>...</td>\n",
              "      <td>...</td>\n",
              "      <td>...</td>\n",
              "      <td>...</td>\n",
              "      <td>...</td>\n",
              "      <td>...</td>\n",
              "    </tr>\n",
              "    <tr>\n",
              "      <th>99997</th>\n",
              "      <td>840</td>\n",
              "      <td>1674</td>\n",
              "      <td>4</td>\n",
              "      <td>891211682</td>\n",
              "      <td>Mamma Roma (1962)</td>\n",
              "      <td>Drama</td>\n",
              "    </tr>\n",
              "    <tr>\n",
              "      <th>99998</th>\n",
              "      <td>655</td>\n",
              "      <td>1640</td>\n",
              "      <td>3</td>\n",
              "      <td>888474646</td>\n",
              "      <td>Eighth Day, The (1996)</td>\n",
              "      <td>NaN</td>\n",
              "    </tr>\n",
              "    <tr>\n",
              "      <th>99999</th>\n",
              "      <td>655</td>\n",
              "      <td>1637</td>\n",
              "      <td>3</td>\n",
              "      <td>888984255</td>\n",
              "      <td>Girls Town (1996)</td>\n",
              "      <td>Comedy|Drama</td>\n",
              "    </tr>\n",
              "    <tr>\n",
              "      <th>100000</th>\n",
              "      <td>655</td>\n",
              "      <td>1630</td>\n",
              "      <td>3</td>\n",
              "      <td>887428735</td>\n",
              "      <td>Silence of the Palace, The (Saimt el Qusur) (1...</td>\n",
              "      <td>NaN</td>\n",
              "    </tr>\n",
              "    <tr>\n",
              "      <th>100001</th>\n",
              "      <td>655</td>\n",
              "      <td>1641</td>\n",
              "      <td>3</td>\n",
              "      <td>887427810</td>\n",
              "      <td>Dadetown (1995)</td>\n",
              "      <td>Drama</td>\n",
              "    </tr>\n",
              "  </tbody>\n",
              "</table>\n",
              "<p>100002 rows × 6 columns</p>\n",
              "</div>"
            ],
            "text/plain": [
              "        user_id  ...        genres\n",
              "0             0  ...           NaN\n",
              "1           213  ...           NaN\n",
              "2            92  ...           NaN\n",
              "3            77  ...           NaN\n",
              "4           194  ...           NaN\n",
              "...         ...  ...           ...\n",
              "99997       840  ...         Drama\n",
              "99998       655  ...           NaN\n",
              "99999       655  ...  Comedy|Drama\n",
              "100000      655  ...           NaN\n",
              "100001      655  ...         Drama\n",
              "\n",
              "[100002 rows x 6 columns]"
            ]
          },
          "metadata": {
            "tags": []
          },
          "execution_count": 22
        }
      ]
    },
    {
      "cell_type": "code",
      "metadata": {
        "id": "RANl5lyx55XP"
      },
      "source": [
        "E = df[df['title']=='Empire Strikes Back, The (1980)']"
      ],
      "execution_count": 23,
      "outputs": []
    },
    {
      "cell_type": "code",
      "metadata": {
        "id": "7_UD-3_o6GEE"
      },
      "source": [
        "io = E.fillna('action sci fi')"
      ],
      "execution_count": 24,
      "outputs": []
    },
    {
      "cell_type": "code",
      "metadata": {
        "id": "n2FvbdErEgG0"
      },
      "source": [
        "st = df[df['title']=='Star Wars (1977)']\n",
        "st = st.fillna('action sci fi')"
      ],
      "execution_count": 25,
      "outputs": []
    },
    {
      "cell_type": "code",
      "metadata": {
        "id": "XZVZin6-E-hI"
      },
      "source": [
        "Mo = df[df['title']=='Monty Python and the Holy Grail (1974)']\n",
        "Mo = Mo.fillna('Adventure, Comedy, Fantasy')"
      ],
      "execution_count": 26,
      "outputs": []
    },
    {
      "cell_type": "code",
      "metadata": {
        "id": "XRCI8lkLFoO4"
      },
      "source": [
        "Mrs = df[df['title']=='Mrs. Brown (Her Majesty, Mrs. Brown) (1997)']\n",
        "Mrs = Mrs.fillna('Biography, Drama, History')"
      ],
      "execution_count": 27,
      "outputs": []
    },
    {
      "cell_type": "code",
      "metadata": {
        "id": "tmYLr_D2GSyU"
      },
      "source": [
        "Pro = df[df['title']=='Professional, The (1994)']\n",
        "Pro = Pro.fillna('Action, Crime, Drama')"
      ],
      "execution_count": 28,
      "outputs": []
    },
    {
      "cell_type": "code",
      "metadata": {
        "id": "-6GBdePEG5dI"
      },
      "source": [
        "Ind = df[df['title']=='Independence Day (ID4) (1996)']\n",
        "Ind = Ind.fillna('Action, Adventure, Sci-Fi')"
      ],
      "execution_count": 29,
      "outputs": []
    },
    {
      "cell_type": "code",
      "metadata": {
        "id": "d5pSSv5lJV6k"
      },
      "source": [
        "Bea = df[df['title']=='Beavis and Butt-head Do America (1996)']\n",
        "Bea = Bea.fillna('Animation, Adventure, Comedy')"
      ],
      "execution_count": 30,
      "outputs": []
    },
    {
      "cell_type": "code",
      "metadata": {
        "id": "NbOfecisJ4qE"
      },
      "source": [
        "Red = df[df['title']=='Red Firecracker, Green Firecracker (1994)']\n",
        "Red = Red.fillna('Life,romance')"
      ],
      "execution_count": 31,
      "outputs": []
    },
    {
      "cell_type": "code",
      "metadata": {
        "id": "-BjQIz2rMiqJ"
      },
      "source": [
        "Ko = df[df['title']=='Kolya (1996)']\n",
        "Ko = Ko.fillna('Comedy, Drama, Music')"
      ],
      "execution_count": 32,
      "outputs": []
    },
    {
      "cell_type": "code",
      "metadata": {
        "id": "xK4J80PWNloI"
      },
      "source": [
        "He = df[df['title']=='Heavyweights (1994)']\n",
        "He = He.fillna('Comedy,Drama,Family')"
      ],
      "execution_count": 33,
      "outputs": []
    },
    {
      "cell_type": "code",
      "metadata": {
        "id": "pUYWxYgFN_mT"
      },
      "source": [
        "Dr = df[df['title']=='Dr. Strangelove or: How I Learned to Stop Worrying and Love the Bomb (1963)']\n",
        "Dr = Dr.fillna('Science Fiction, Drama, Comedy, Action')"
      ],
      "execution_count": 34,
      "outputs": []
    },
    {
      "cell_type": "code",
      "metadata": {
        "id": "cU5Mh4M4Ozk2"
      },
      "source": [
        "Men = df[df['title']=='Men in Black (1997)']\n",
        "Men = Men.fillna('Action, Adventure, Comedy')"
      ],
      "execution_count": 35,
      "outputs": []
    },
    {
      "cell_type": "code",
      "metadata": {
        "id": "IWbJTbBpP3cz"
      },
      "source": [
        "Evil = df[df['title']=='Evil Dead II (1987)']\n",
        "Evil = Evil.fillna('Action, Comedy, Fantasy')"
      ],
      "execution_count": 36,
      "outputs": []
    },
    {
      "cell_type": "code",
      "metadata": {
        "id": "L4blh3pgRcPS"
      },
      "source": [
        "Ret = df[df['title']=='Return of the Jedi (1983)']\n",
        "Ret = Ret.fillna('Action, Adventure, Fantasy')"
      ],
      "execution_count": 37,
      "outputs": []
    },
    {
      "cell_type": "code",
      "metadata": {
        "id": "djLND4tfSNay"
      },
      "source": [
        "Con = df[df['title']=='Conan the Barbarian (1981)']\n",
        "Con = Con.fillna('Action, Adventure, Fantasy')"
      ],
      "execution_count": 38,
      "outputs": []
    },
    {
      "cell_type": "code",
      "metadata": {
        "id": "CEeJdvuzS7N-"
      },
      "source": [
        "Boot = df[df['title']=='Boot, Das (1981)']\n",
        "Boot = Boot.fillna('Adventure, Drama, Thriller')"
      ],
      "execution_count": 39,
      "outputs": []
    },
    {
      "cell_type": "code",
      "metadata": {
        "id": "tDFk3J7qTm9j"
      },
      "source": [
        "City = df[df['title']=='City of Lost Children, The (1995)']\n",
        "City = City.fillna('Adventure, Drama, Thriller')"
      ],
      "execution_count": 40,
      "outputs": []
    },
    {
      "cell_type": "code",
      "metadata": {
        "id": "gYfh_91JT556"
      },
      "source": [
        "Win = df[df['title']=='Wings of Desire (1987)']\n",
        "Win = Win.fillna('Fantasy,Romance')"
      ],
      "execution_count": 41,
      "outputs": []
    },
    {
      "cell_type": "code",
      "metadata": {
        "id": "27fxldHtUyTI"
      },
      "source": [
        "Rai = df[df['title']=='Raiders of the Lost Ark (1981)']\n",
        "Rai = Rai.fillna('Action, Adventure')"
      ],
      "execution_count": 42,
      "outputs": []
    },
    {
      "cell_type": "code",
      "metadata": {
        "id": "7V80ScUMV8nn"
      },
      "source": [
        "Will = df[df['title']=='Willy Wonka and the Chocolate Factory (1971)']\n",
        "Will = Will.fillna('Family, Fantasy, Musical')"
      ],
      "execution_count": 43,
      "outputs": []
    },
    {
      "cell_type": "code",
      "metadata": {
        "id": "UAqtOwvuWqu7"
      },
      "source": [
        "Tales = df[df['title']=='Tales From the Crypt Presents: Demon Knight (1995)']\n",
        "Tales = Tales.fillna('Action, Fantasy, Horror')"
      ],
      "execution_count": 44,
      "outputs": []
    },
    {
      "cell_type": "code",
      "metadata": {
        "id": "KdtGfWiVXYMG"
      },
      "source": [
        "Postino = df[df['title']=='Postino, Il (1994)']\n",
        "Postino = Postino.fillna('Biography, Comedy, Drama')"
      ],
      "execution_count": 45,
      "outputs": []
    },
    {
      "cell_type": "code",
      "metadata": {
        "id": "_RhfCGiNF8HD"
      },
      "source": [
        "Close = df[df['title']=='Close Shave, A (1995)']\n",
        "Close = Close.fillna('Animation, Short, Comedy')"
      ],
      "execution_count": 46,
      "outputs": []
    },
    {
      "cell_type": "code",
      "metadata": {
        "id": "ZLiKTL-yHudQ"
      },
      "source": [
        "interview = df[df['title']=='Interview with the Vampire (1994)']\n",
        "interview = interview.fillna('Drama, Horror')"
      ],
      "execution_count": 47,
      "outputs": []
    },
    {
      "cell_type": "code",
      "metadata": {
        "id": "leHj1AeVIne0"
      },
      "source": [
        "God = df[df['title']=='Good, The Bad and The Ugly, The (1966)']\n",
        "God = God.fillna('Western')"
      ],
      "execution_count": 48,
      "outputs": []
    },
    {
      "cell_type": "code",
      "metadata": {
        "id": "1Fqjvo9kJnOR"
      },
      "source": [
        "Ghost = df[df['title']=='Ghost in the Shell (Kokaku kidotai) (1995)']\n",
        "Ghost = Ghost.fillna('Animation, Action, Crime')"
      ],
      "execution_count": 49,
      "outputs": []
    },
    {
      "cell_type": "code",
      "metadata": {
        "id": "I4f1rSvZKR5q"
      },
      "source": [
        "Jackie = df[df['title']=='Three Colors: White (1994)']\n",
        "Jackie = Jackie.fillna('Comedy, Drama, Romance')"
      ],
      "execution_count": 50,
      "outputs": []
    },
    {
      "cell_type": "code",
      "metadata": {
        "id": "cks9uNMTLUNp"
      },
      "source": [
        "Shave = df[df['title']=='Close Shave, A (1995)']\n",
        "Shave = Shave.fillna('Animation, Short, Comedy')"
      ],
      "execution_count": 51,
      "outputs": []
    },
    {
      "cell_type": "code",
      "metadata": {
        "id": "c05RVsqPMBg2"
      },
      "source": [
        "Star = df[df['title']=='Star Trek: The Wrath of Khan (1982)']\n",
        "Star = Star.fillna('Action, Adventure, Sci-Fi')"
      ],
      "execution_count": 52,
      "outputs": []
    },
    {
      "cell_type": "code",
      "metadata": {
        "id": "CId8oUQsMzsV"
      },
      "source": [
        "Pink = df[df['title']=='Pink Floyd - The Wall (1982)']\n",
        "Pink = Pink.fillna('Drama, Fantasy, Music')"
      ],
      "execution_count": 53,
      "outputs": []
    },
    {
      "cell_type": "code",
      "metadata": {
        "id": "raDd5MBTNOV8"
      },
      "source": [
        "Twelve = df[df['title']=='Twelve Monkeys (1995)']\n",
        "Twelve = Twelve.fillna('Mystery, Sci-Fi, Thriller')"
      ],
      "execution_count": 54,
      "outputs": []
    },
    {
      "cell_type": "code",
      "metadata": {
        "id": "MgTTOwOLOBZt"
      },
      "source": [
        "Seven = df[df['title']=='Seven (Se7en) (1995)']\n",
        "Seven = Seven.fillna('Crime, Drama, Mystery')"
      ],
      "execution_count": 55,
      "outputs": []
    },
    {
      "cell_type": "code",
      "metadata": {
        "id": "SkP5wzvqPXXd"
      },
      "source": [
        "Nikita = df[df['title']=='Nikita (La Femme Nikita) (1990)']\n",
        "Nikita = Nikita.fillna('Action,Thriller')"
      ],
      "execution_count": 56,
      "outputs": []
    },
    {
      "cell_type": "code",
      "metadata": {
        "id": "YTpJrRR_Pz_M"
      },
      "source": [
        "Grand = df[df['title']=='Grand Day Out, A (1992)']\n",
        "Grand = Grand.fillna('Animation,Short,Adventure')"
      ],
      "execution_count": 57,
      "outputs": []
    },
    {
      "cell_type": "code",
      "metadata": {
        "id": "ocD8pO9cQU_Z"
      },
      "source": [
        "When = df[df['title']=='When the Cats Away (Chacun cherche son chat) (1996)']\n",
        "When = When.fillna('Comedy, Romance')"
      ],
      "execution_count": 58,
      "outputs": []
    },
    {
      "cell_type": "code",
      "metadata": {
        "id": "UtYtDhicQudL"
      },
      "source": [
        "Wrong = df[df['title']=='Wrong Trousers, The (1993)']\n",
        "Wrong = Wrong.fillna('Animation, Short, Comedy')"
      ],
      "execution_count": 59,
      "outputs": []
    },
    {
      "cell_type": "code",
      "metadata": {
        "id": "eX_juZGoRPzx"
      },
      "source": [
        "Like = df[df['title']=='Like Water For Chocolate (Como agua para chocolate) (1992)']\n",
        "Like = Like.fillna('Drama, Romance')"
      ],
      "execution_count": 60,
      "outputs": []
    },
    {
      "cell_type": "code",
      "metadata": {
        "id": "H9wyItQ5SE74"
      },
      "source": [
        "Panther = df[df['title']=='Return of the Pink Panther, The (1974)']\n",
        "Panther = Panther.fillna('Comedy, Crime, Mystery') "
      ],
      "execution_count": 61,
      "outputs": []
    },
    {
      "cell_type": "code",
      "metadata": {
        "id": "Enp5XhP-S6Cz"
      },
      "source": [
        "Blue = df[df['title']=='Three Colors: Blue (1993)']\n",
        "Blue = Blue.fillna('Drama, Music, Mystery') "
      ],
      "execution_count": 62,
      "outputs": []
    },
    {
      "cell_type": "code",
      "metadata": {
        "id": "1lIsXk_ZTVv5"
      },
      "source": [
        "MASH = df[df['title']=='M*A*S*H (1970)']\n",
        "MASH = MASH.fillna('Comedy, Drama, War')"
      ],
      "execution_count": 63,
      "outputs": []
    },
    {
      "cell_type": "code",
      "metadata": {
        "id": "kbTOi_pwUR7e"
      },
      "source": [
        "GoodFellas = df[df['title']=='GoodFellas (1990)']\n",
        "GoodFellas = GoodFellas.fillna('Biography, Crime, Drama')"
      ],
      "execution_count": 64,
      "outputs": []
    },
    {
      "cell_type": "code",
      "metadata": {
        "id": "pYvNPGGMUvF4"
      },
      "source": [
        "Wars = df[df['title']=='Star Wars (1977)']\n",
        "Wars = Wars.fillna('Action, Adventure, Fantasy')"
      ],
      "execution_count": 65,
      "outputs": []
    },
    {
      "cell_type": "code",
      "metadata": {
        "colab": {
          "base_uri": "https://localhost:8080/",
          "height": 402
        },
        "id": "h05nLaZK6PqZ",
        "outputId": "d4fb1b04-4ec0-4f24-9db7-124dba2fa54d"
      },
      "source": [
        "Data_set = pd.concat([poi,io,Ko,He,Dr,Men,Evil,Ret,Con,Boot,City,Win,Rai,Will,Tales,Postino,Close,interview,God,Ghost,Jackie,Shave,Star,Pink,Twelve,Seven,Nikita,Grand,When,Wrong,Like,Panther,Blue,MASH,GoodFellas,Wars])\n",
        "Data_set"
      ],
      "execution_count": 66,
      "outputs": [
        {
          "output_type": "execute_result",
          "data": {
            "text/html": [
              "<div>\n",
              "<style scoped>\n",
              "    .dataframe tbody tr th:only-of-type {\n",
              "        vertical-align: middle;\n",
              "    }\n",
              "\n",
              "    .dataframe tbody tr th {\n",
              "        vertical-align: top;\n",
              "    }\n",
              "\n",
              "    .dataframe thead th {\n",
              "        text-align: right;\n",
              "    }\n",
              "</style>\n",
              "<table border=\"1\" class=\"dataframe\">\n",
              "  <thead>\n",
              "    <tr style=\"text-align: right;\">\n",
              "      <th></th>\n",
              "      <th>user_id</th>\n",
              "      <th>item_id</th>\n",
              "      <th>rating</th>\n",
              "      <th>timestamp</th>\n",
              "      <th>title</th>\n",
              "      <th>genres</th>\n",
              "    </tr>\n",
              "  </thead>\n",
              "  <tbody>\n",
              "    <tr>\n",
              "      <th>0</th>\n",
              "      <td>308</td>\n",
              "      <td>1</td>\n",
              "      <td>4</td>\n",
              "      <td>887736532</td>\n",
              "      <td>Toy Story (1995)</td>\n",
              "      <td>Adventure|Animation|Children|Comedy|Fantasy</td>\n",
              "    </tr>\n",
              "    <tr>\n",
              "      <th>1</th>\n",
              "      <td>287</td>\n",
              "      <td>1</td>\n",
              "      <td>5</td>\n",
              "      <td>875334088</td>\n",
              "      <td>Toy Story (1995)</td>\n",
              "      <td>Adventure|Animation|Children|Comedy|Fantasy</td>\n",
              "    </tr>\n",
              "    <tr>\n",
              "      <th>2</th>\n",
              "      <td>148</td>\n",
              "      <td>1</td>\n",
              "      <td>4</td>\n",
              "      <td>877019411</td>\n",
              "      <td>Toy Story (1995)</td>\n",
              "      <td>Adventure|Animation|Children|Comedy|Fantasy</td>\n",
              "    </tr>\n",
              "    <tr>\n",
              "      <th>3</th>\n",
              "      <td>280</td>\n",
              "      <td>1</td>\n",
              "      <td>4</td>\n",
              "      <td>891700426</td>\n",
              "      <td>Toy Story (1995)</td>\n",
              "      <td>Adventure|Animation|Children|Comedy|Fantasy</td>\n",
              "    </tr>\n",
              "    <tr>\n",
              "      <th>4</th>\n",
              "      <td>66</td>\n",
              "      <td>1</td>\n",
              "      <td>3</td>\n",
              "      <td>883601324</td>\n",
              "      <td>Toy Story (1995)</td>\n",
              "      <td>Adventure|Animation|Children|Comedy|Fantasy</td>\n",
              "    </tr>\n",
              "    <tr>\n",
              "      <th>...</th>\n",
              "      <td>...</td>\n",
              "      <td>...</td>\n",
              "      <td>...</td>\n",
              "      <td>...</td>\n",
              "      <td>...</td>\n",
              "      <td>...</td>\n",
              "    </tr>\n",
              "    <tr>\n",
              "      <th>51291</th>\n",
              "      <td>749</td>\n",
              "      <td>50</td>\n",
              "      <td>5</td>\n",
              "      <td>878846978</td>\n",
              "      <td>Star Wars (1977)</td>\n",
              "      <td>Action, Adventure, Fantasy</td>\n",
              "    </tr>\n",
              "    <tr>\n",
              "      <th>51292</th>\n",
              "      <td>886</td>\n",
              "      <td>50</td>\n",
              "      <td>5</td>\n",
              "      <td>876031501</td>\n",
              "      <td>Star Wars (1977)</td>\n",
              "      <td>Action, Adventure, Fantasy</td>\n",
              "    </tr>\n",
              "    <tr>\n",
              "      <th>51293</th>\n",
              "      <td>739</td>\n",
              "      <td>50</td>\n",
              "      <td>4</td>\n",
              "      <td>886958895</td>\n",
              "      <td>Star Wars (1977)</td>\n",
              "      <td>Action, Adventure, Fantasy</td>\n",
              "    </tr>\n",
              "    <tr>\n",
              "      <th>51294</th>\n",
              "      <td>903</td>\n",
              "      <td>50</td>\n",
              "      <td>5</td>\n",
              "      <td>891031329</td>\n",
              "      <td>Star Wars (1977)</td>\n",
              "      <td>Action, Adventure, Fantasy</td>\n",
              "    </tr>\n",
              "    <tr>\n",
              "      <th>51295</th>\n",
              "      <td>780</td>\n",
              "      <td>50</td>\n",
              "      <td>5</td>\n",
              "      <td>891363685</td>\n",
              "      <td>Star Wars (1977)</td>\n",
              "      <td>Action, Adventure, Fantasy</td>\n",
              "    </tr>\n",
              "  </tbody>\n",
              "</table>\n",
              "<p>95167 rows × 6 columns</p>\n",
              "</div>"
            ],
            "text/plain": [
              "       user_id  ...                                       genres\n",
              "0          308  ...  Adventure|Animation|Children|Comedy|Fantasy\n",
              "1          287  ...  Adventure|Animation|Children|Comedy|Fantasy\n",
              "2          148  ...  Adventure|Animation|Children|Comedy|Fantasy\n",
              "3          280  ...  Adventure|Animation|Children|Comedy|Fantasy\n",
              "4           66  ...  Adventure|Animation|Children|Comedy|Fantasy\n",
              "...        ...  ...                                          ...\n",
              "51291      749  ...                   Action, Adventure, Fantasy\n",
              "51292      886  ...                   Action, Adventure, Fantasy\n",
              "51293      739  ...                   Action, Adventure, Fantasy\n",
              "51294      903  ...                   Action, Adventure, Fantasy\n",
              "51295      780  ...                   Action, Adventure, Fantasy\n",
              "\n",
              "[95167 rows x 6 columns]"
            ]
          },
          "metadata": {
            "tags": []
          },
          "execution_count": 66
        }
      ]
    },
    {
      "cell_type": "code",
      "metadata": {
        "id": "eGtUalen60Z6"
      },
      "source": [
        "action = []\n",
        "for i in range(0,len(df)):\n",
        "  # if(df[\"genres\"]\n",
        "  data = str(df[\"genres\"][i])\n",
        "  if(data==\"nan\"):\n",
        "    print(df[\"title\"][i])\n",
        "    action.append(df[\"title\"][i])"
      ],
      "execution_count": null,
      "outputs": []
    },
    {
      "cell_type": "code",
      "metadata": {
        "id": "rYKBf50jytZL",
        "outputId": "e2f592ec-b458-4815-b175-ea1ff42d933d",
        "colab": {
          "base_uri": "https://localhost:8080/",
          "height": 402
        }
      },
      "source": [
        "T = pd.DataFrame(action,columns=['movie'])\n",
        "DROP = T.drop_duplicates()\n",
        "DROP"
      ],
      "execution_count": 107,
      "outputs": [
        {
          "output_type": "execute_result",
          "data": {
            "text/html": [
              "<div>\n",
              "<style scoped>\n",
              "    .dataframe tbody tr th:only-of-type {\n",
              "        vertical-align: middle;\n",
              "    }\n",
              "\n",
              "    .dataframe tbody tr th {\n",
              "        vertical-align: top;\n",
              "    }\n",
              "\n",
              "    .dataframe thead th {\n",
              "        text-align: right;\n",
              "    }\n",
              "</style>\n",
              "<table border=\"1\" class=\"dataframe\">\n",
              "  <thead>\n",
              "    <tr style=\"text-align: right;\">\n",
              "      <th></th>\n",
              "      <th>movie</th>\n",
              "    </tr>\n",
              "  </thead>\n",
              "  <tbody>\n",
              "    <tr>\n",
              "      <th>0</th>\n",
              "      <td>Empire Strikes Back, The (1980)</td>\n",
              "    </tr>\n",
              "    <tr>\n",
              "      <th>368</th>\n",
              "      <td>Kolya (1996)</td>\n",
              "    </tr>\n",
              "    <tr>\n",
              "      <th>485</th>\n",
              "      <td>Heavyweights (1994)</td>\n",
              "    </tr>\n",
              "    <tr>\n",
              "      <th>498</th>\n",
              "      <td>Dr. Strangelove or: How I Learned to Stop Worr...</td>\n",
              "    </tr>\n",
              "    <tr>\n",
              "      <th>692</th>\n",
              "      <td>Men in Black (1997)</td>\n",
              "    </tr>\n",
              "    <tr>\n",
              "      <th>...</th>\n",
              "      <td>...</td>\n",
              "    </tr>\n",
              "    <tr>\n",
              "      <th>11068</th>\n",
              "      <td>You So Crazy (1994)</td>\n",
              "    </tr>\n",
              "    <tr>\n",
              "      <th>11069</th>\n",
              "      <td>Next Step, The (1995)</td>\n",
              "    </tr>\n",
              "    <tr>\n",
              "      <th>11071</th>\n",
              "      <td>Scream of Stone (Schrei aus Stein) (1991)</td>\n",
              "    </tr>\n",
              "    <tr>\n",
              "      <th>11072</th>\n",
              "      <td>Eighth Day, The (1996)</td>\n",
              "    </tr>\n",
              "    <tr>\n",
              "      <th>11073</th>\n",
              "      <td>Silence of the Palace, The (Saimt el Qusur) (1...</td>\n",
              "    </tr>\n",
              "  </tbody>\n",
              "</table>\n",
              "<p>237 rows × 1 columns</p>\n",
              "</div>"
            ],
            "text/plain": [
              "                                                   movie\n",
              "0                        Empire Strikes Back, The (1980)\n",
              "368                                         Kolya (1996)\n",
              "485                                  Heavyweights (1994)\n",
              "498    Dr. Strangelove or: How I Learned to Stop Worr...\n",
              "692                                  Men in Black (1997)\n",
              "...                                                  ...\n",
              "11068                                You So Crazy (1994)\n",
              "11069                              Next Step, The (1995)\n",
              "11071          Scream of Stone (Schrei aus Stein) (1991)\n",
              "11072                             Eighth Day, The (1996)\n",
              "11073  Silence of the Palace, The (Saimt el Qusur) (1...\n",
              "\n",
              "[237 rows x 1 columns]"
            ]
          },
          "metadata": {
            "tags": []
          },
          "execution_count": 107
        }
      ]
    },
    {
      "cell_type": "code",
      "metadata": {
        "id": "J9RTBvEdLjYN",
        "colab": {
          "base_uri": "https://localhost:8080/",
          "height": 402
        },
        "outputId": "f64855de-9330-419f-873e-c956c504b3dd"
      },
      "source": [
        "R = Data_set[Data_set['rating']>=3]\n",
        "R"
      ],
      "execution_count": 87,
      "outputs": [
        {
          "output_type": "execute_result",
          "data": {
            "text/html": [
              "<div>\n",
              "<style scoped>\n",
              "    .dataframe tbody tr th:only-of-type {\n",
              "        vertical-align: middle;\n",
              "    }\n",
              "\n",
              "    .dataframe tbody tr th {\n",
              "        vertical-align: top;\n",
              "    }\n",
              "\n",
              "    .dataframe thead th {\n",
              "        text-align: right;\n",
              "    }\n",
              "</style>\n",
              "<table border=\"1\" class=\"dataframe\">\n",
              "  <thead>\n",
              "    <tr style=\"text-align: right;\">\n",
              "      <th></th>\n",
              "      <th>user_id</th>\n",
              "      <th>item_id</th>\n",
              "      <th>rating</th>\n",
              "      <th>timestamp</th>\n",
              "      <th>title</th>\n",
              "      <th>genres</th>\n",
              "    </tr>\n",
              "  </thead>\n",
              "  <tbody>\n",
              "    <tr>\n",
              "      <th>0</th>\n",
              "      <td>308</td>\n",
              "      <td>1</td>\n",
              "      <td>4</td>\n",
              "      <td>887736532</td>\n",
              "      <td>Toy Story (1995)</td>\n",
              "      <td>Adventure|Animation|Children|Comedy|Fantasy</td>\n",
              "    </tr>\n",
              "    <tr>\n",
              "      <th>1</th>\n",
              "      <td>287</td>\n",
              "      <td>1</td>\n",
              "      <td>5</td>\n",
              "      <td>875334088</td>\n",
              "      <td>Toy Story (1995)</td>\n",
              "      <td>Adventure|Animation|Children|Comedy|Fantasy</td>\n",
              "    </tr>\n",
              "    <tr>\n",
              "      <th>2</th>\n",
              "      <td>148</td>\n",
              "      <td>1</td>\n",
              "      <td>4</td>\n",
              "      <td>877019411</td>\n",
              "      <td>Toy Story (1995)</td>\n",
              "      <td>Adventure|Animation|Children|Comedy|Fantasy</td>\n",
              "    </tr>\n",
              "    <tr>\n",
              "      <th>3</th>\n",
              "      <td>280</td>\n",
              "      <td>1</td>\n",
              "      <td>4</td>\n",
              "      <td>891700426</td>\n",
              "      <td>Toy Story (1995)</td>\n",
              "      <td>Adventure|Animation|Children|Comedy|Fantasy</td>\n",
              "    </tr>\n",
              "    <tr>\n",
              "      <th>4</th>\n",
              "      <td>66</td>\n",
              "      <td>1</td>\n",
              "      <td>3</td>\n",
              "      <td>883601324</td>\n",
              "      <td>Toy Story (1995)</td>\n",
              "      <td>Adventure|Animation|Children|Comedy|Fantasy</td>\n",
              "    </tr>\n",
              "    <tr>\n",
              "      <th>...</th>\n",
              "      <td>...</td>\n",
              "      <td>...</td>\n",
              "      <td>...</td>\n",
              "      <td>...</td>\n",
              "      <td>...</td>\n",
              "      <td>...</td>\n",
              "    </tr>\n",
              "    <tr>\n",
              "      <th>51291</th>\n",
              "      <td>749</td>\n",
              "      <td>50</td>\n",
              "      <td>5</td>\n",
              "      <td>878846978</td>\n",
              "      <td>Star Wars (1977)</td>\n",
              "      <td>Action, Adventure, Fantasy</td>\n",
              "    </tr>\n",
              "    <tr>\n",
              "      <th>51292</th>\n",
              "      <td>886</td>\n",
              "      <td>50</td>\n",
              "      <td>5</td>\n",
              "      <td>876031501</td>\n",
              "      <td>Star Wars (1977)</td>\n",
              "      <td>Action, Adventure, Fantasy</td>\n",
              "    </tr>\n",
              "    <tr>\n",
              "      <th>51293</th>\n",
              "      <td>739</td>\n",
              "      <td>50</td>\n",
              "      <td>4</td>\n",
              "      <td>886958895</td>\n",
              "      <td>Star Wars (1977)</td>\n",
              "      <td>Action, Adventure, Fantasy</td>\n",
              "    </tr>\n",
              "    <tr>\n",
              "      <th>51294</th>\n",
              "      <td>903</td>\n",
              "      <td>50</td>\n",
              "      <td>5</td>\n",
              "      <td>891031329</td>\n",
              "      <td>Star Wars (1977)</td>\n",
              "      <td>Action, Adventure, Fantasy</td>\n",
              "    </tr>\n",
              "    <tr>\n",
              "      <th>51295</th>\n",
              "      <td>780</td>\n",
              "      <td>50</td>\n",
              "      <td>5</td>\n",
              "      <td>891363685</td>\n",
              "      <td>Star Wars (1977)</td>\n",
              "      <td>Action, Adventure, Fantasy</td>\n",
              "    </tr>\n",
              "  </tbody>\n",
              "</table>\n",
              "<p>78777 rows × 6 columns</p>\n",
              "</div>"
            ],
            "text/plain": [
              "       user_id  ...                                       genres\n",
              "0          308  ...  Adventure|Animation|Children|Comedy|Fantasy\n",
              "1          287  ...  Adventure|Animation|Children|Comedy|Fantasy\n",
              "2          148  ...  Adventure|Animation|Children|Comedy|Fantasy\n",
              "3          280  ...  Adventure|Animation|Children|Comedy|Fantasy\n",
              "4           66  ...  Adventure|Animation|Children|Comedy|Fantasy\n",
              "...        ...  ...                                          ...\n",
              "51291      749  ...                   Action, Adventure, Fantasy\n",
              "51292      886  ...                   Action, Adventure, Fantasy\n",
              "51293      739  ...                   Action, Adventure, Fantasy\n",
              "51294      903  ...                   Action, Adventure, Fantasy\n",
              "51295      780  ...                   Action, Adventure, Fantasy\n",
              "\n",
              "[78777 rows x 6 columns]"
            ]
          },
          "metadata": {
            "tags": []
          },
          "execution_count": 87
        }
      ]
    },
    {
      "cell_type": "code",
      "metadata": {
        "id": "62VnYb_c-NoI",
        "outputId": "24716d7a-1b9d-474f-d98b-f440335c6c7a",
        "colab": {
          "base_uri": "https://localhost:8080/"
        }
      },
      "source": [
        "association = Data_set.groupby('user_id')['title'].apply(list)\n",
        "list(apriori(association,min_support=0.3,min_confidence=0.99))"
      ],
      "execution_count": 134,
      "outputs": [
        {
          "output_type": "execute_result",
          "data": {
            "text/plain": [
              "[RelationRecord(items=frozenset({'Empire Strikes Back, The (1980)', 'Star Wars (1977)', 'Return of the Jedi (1983)'}), support=0.3336864406779661, ordered_statistics=[OrderedStatistic(items_base=frozenset({'Empire Strikes Back, The (1980)', 'Return of the Jedi (1983)'}), items_add=frozenset({'Star Wars (1977)'}), confidence=0.9936908517350158, lift=1.6089951355709349)]),\n",
              " RelationRecord(items=frozenset({'Raiders of the Lost Ark (1981)', 'Empire Strikes Back, The (1980)', 'Star Wars (1977)', 'Return of the Jedi (1983)'}), support=0.3114406779661017, ordered_statistics=[OrderedStatistic(items_base=frozenset({'Raiders of the Lost Ark (1981)', 'Empire Strikes Back, The (1980)', 'Return of the Jedi (1983)'}), items_add=frozenset({'Star Wars (1977)'}), confidence=0.9966101694915255, lift=1.6137221269296742)])]"
            ]
          },
          "metadata": {
            "tags": []
          },
          "execution_count": 134
        }
      ]
    },
    {
      "cell_type": "code",
      "metadata": {
        "id": "q57IHpJ_GdO3",
        "colab": {
          "base_uri": "https://localhost:8080/"
        },
        "outputId": "cc749f24-7fbe-4b89-bc99-e838a1647cfc"
      },
      "source": [
        "Rating = R.groupby('user_id')['title'].apply(list)\n",
        "Rating"
      ],
      "execution_count": 88,
      "outputs": [
        {
          "output_type": "execute_result",
          "data": {
            "text/plain": [
              "user_id\n",
              "0                      [Empire Strikes Back, The (1980)]\n",
              "1      [Toy Story (1995), GoldenEye (1995), Four Room...\n",
              "2      [Toy Story (1995), Heat (1995), Sabrina (1995)...\n",
              "3      [Schindler's List (1993), Paradise Lost: The C...\n",
              "4      [Client, The (1994), One Flew Over the Cuckoo'...\n",
              "                             ...                        \n",
              "939    [Grumpier Old Men (1995), Father of the Bride ...\n",
              "940    [American President, The (1995), Babe (1995), ...\n",
              "941    [Toy Story (1995), Heat (1995), Mr. Holland's ...\n",
              "942    [Grumpier Old Men (1995), Crimson Tide (1995),...\n",
              "943    [Sabrina (1995), GoldenEye (1995), Dead Man Wa...\n",
              "Name: title, Length: 944, dtype: object"
            ]
          },
          "metadata": {
            "tags": []
          },
          "execution_count": 88
        }
      ]
    },
    {
      "cell_type": "code",
      "metadata": {
        "id": "3Rxuso78HEh5",
        "colab": {
          "base_uri": "https://localhost:8080/"
        },
        "outputId": "8b439024-9e8f-4e87-fec9-04af4033c0b7"
      },
      "source": [
        "list(apriori(Rating,min_support=0.3,min_confidence=0.9))"
      ],
      "execution_count": 89,
      "outputs": [
        {
          "output_type": "execute_result",
          "data": {
            "text/plain": [
              "[RelationRecord(items=frozenset({'Empire Strikes Back, The (1980)', 'Star Wars (1977)'}), support=0.3463983050847458, ordered_statistics=[OrderedStatistic(items_base=frozenset({'Empire Strikes Back, The (1980)'}), items_add=frozenset({'Star Wars (1977)'}), confidence=0.9316239316239316, lift=1.5760806298440708)]),\n",
              " RelationRecord(items=frozenset({'Star Wars (1977)', 'Return of the Jedi (1983)'}), support=0.4766949152542373, ordered_statistics=[OrderedStatistic(items_base=frozenset({'Return of the Jedi (1983)'}), items_add=frozenset({'Star Wars (1977)'}), confidence=0.9453781512605043, lift=1.5993494171862295)]),\n",
              " RelationRecord(items=frozenset({'Raiders of the Lost Ark (1981)', 'Empire Strikes Back, The (1980)', 'Star Wars (1977)'}), support=0.3156779661016949, ordered_statistics=[OrderedStatistic(items_base=frozenset({'Raiders of the Lost Ark (1981)', 'Empire Strikes Back, The (1980)'}), items_add=frozenset({'Star Wars (1977)'}), confidence=0.9675324675324675, lift=1.6368291207000885), OrderedStatistic(items_base=frozenset({'Empire Strikes Back, The (1980)', 'Star Wars (1977)'}), items_add=frozenset({'Raiders of the Lost Ark (1981)'}), confidence=0.91131498470948, lift=2.1346931651755563)]),\n",
              " RelationRecord(items=frozenset({'Empire Strikes Back, The (1980)', 'Star Wars (1977)', 'Return of the Jedi (1983)'}), support=0.3103813559322034, ordered_statistics=[OrderedStatistic(items_base=frozenset({'Empire Strikes Back, The (1980)', 'Return of the Jedi (1983)'}), items_add=frozenset({'Star Wars (1977)'}), confidence=0.9898648648648649, lift=1.6746100939649329)]),\n",
              " RelationRecord(items=frozenset({'Fargo (1996)', 'Star Wars (1977)', 'Return of the Jedi (1983)'}), support=0.3029661016949153, ordered_statistics=[OrderedStatistic(items_base=frozenset({'Fargo (1996)', 'Return of the Jedi (1983)'}), items_add=frozenset({'Star Wars (1977)'}), confidence=0.9533333333333335, lift=1.6128076463560337)]),\n",
              " RelationRecord(items=frozenset({'Raiders of the Lost Ark (1981)', 'Star Wars (1977)', 'Return of the Jedi (1983)'}), support=0.3294491525423729, ordered_statistics=[OrderedStatistic(items_base=frozenset({'Raiders of the Lost Ark (1981)', 'Return of the Jedi (1983)'}), items_add=frozenset({'Star Wars (1977)'}), confidence=0.9779874213836478, lift=1.6545163544554902)]),\n",
              " RelationRecord(items=frozenset({'Toy Story (1995)', 'Star Wars (1977)', 'Return of the Jedi (1983)'}), support=0.3167372881355932, ordered_statistics=[OrderedStatistic(items_base=frozenset({'Toy Story (1995)', 'Return of the Jedi (1983)'}), items_add=frozenset({'Star Wars (1977)'}), confidence=0.9739413680781758, lift=1.6476714183974874)])]"
            ]
          },
          "metadata": {
            "tags": []
          },
          "execution_count": 89
        }
      ]
    },
    {
      "cell_type": "code",
      "metadata": {
        "id": "mUfXpesQHj8R",
        "colab": {
          "base_uri": "https://localhost:8080/",
          "height": 402
        },
        "outputId": "5ba5c654-396d-4cfa-d39a-31d44ed7d4bf"
      },
      "source": [
        "RN = Data_set[Data_set['rating']<3]\n",
        "RN"
      ],
      "execution_count": 72,
      "outputs": [
        {
          "output_type": "execute_result",
          "data": {
            "text/html": [
              "<div>\n",
              "<style scoped>\n",
              "    .dataframe tbody tr th:only-of-type {\n",
              "        vertical-align: middle;\n",
              "    }\n",
              "\n",
              "    .dataframe tbody tr th {\n",
              "        vertical-align: top;\n",
              "    }\n",
              "\n",
              "    .dataframe thead th {\n",
              "        text-align: right;\n",
              "    }\n",
              "</style>\n",
              "<table border=\"1\" class=\"dataframe\">\n",
              "  <thead>\n",
              "    <tr style=\"text-align: right;\">\n",
              "      <th></th>\n",
              "      <th>user_id</th>\n",
              "      <th>item_id</th>\n",
              "      <th>rating</th>\n",
              "      <th>timestamp</th>\n",
              "      <th>title</th>\n",
              "      <th>genres</th>\n",
              "    </tr>\n",
              "  </thead>\n",
              "  <tbody>\n",
              "    <tr>\n",
              "      <th>18</th>\n",
              "      <td>49</td>\n",
              "      <td>1</td>\n",
              "      <td>2</td>\n",
              "      <td>888068651</td>\n",
              "      <td>Toy Story (1995)</td>\n",
              "      <td>Adventure|Animation|Children|Comedy|Fantasy</td>\n",
              "    </tr>\n",
              "    <tr>\n",
              "      <th>26</th>\n",
              "      <td>213</td>\n",
              "      <td>1</td>\n",
              "      <td>2</td>\n",
              "      <td>878870719</td>\n",
              "      <td>Toy Story (1995)</td>\n",
              "      <td>Adventure|Animation|Children|Comedy|Fantasy</td>\n",
              "    </tr>\n",
              "    <tr>\n",
              "      <th>49</th>\n",
              "      <td>322</td>\n",
              "      <td>1</td>\n",
              "      <td>2</td>\n",
              "      <td>887314119</td>\n",
              "      <td>Toy Story (1995)</td>\n",
              "      <td>Adventure|Animation|Children|Comedy|Fantasy</td>\n",
              "    </tr>\n",
              "    <tr>\n",
              "      <th>53</th>\n",
              "      <td>204</td>\n",
              "      <td>1</td>\n",
              "      <td>2</td>\n",
              "      <td>892513979</td>\n",
              "      <td>Toy Story (1995)</td>\n",
              "      <td>Adventure|Animation|Children|Comedy|Fantasy</td>\n",
              "    </tr>\n",
              "    <tr>\n",
              "      <th>58</th>\n",
              "      <td>15</td>\n",
              "      <td>1</td>\n",
              "      <td>1</td>\n",
              "      <td>879455635</td>\n",
              "      <td>Toy Story (1995)</td>\n",
              "      <td>Adventure|Animation|Children|Comedy|Fantasy</td>\n",
              "    </tr>\n",
              "    <tr>\n",
              "      <th>...</th>\n",
              "      <td>...</td>\n",
              "      <td>...</td>\n",
              "      <td>...</td>\n",
              "      <td>...</td>\n",
              "      <td>...</td>\n",
              "      <td>...</td>\n",
              "    </tr>\n",
              "    <tr>\n",
              "      <th>51164</th>\n",
              "      <td>765</td>\n",
              "      <td>50</td>\n",
              "      <td>2</td>\n",
              "      <td>880346255</td>\n",
              "      <td>Star Wars (1977)</td>\n",
              "      <td>Action, Adventure, Fantasy</td>\n",
              "    </tr>\n",
              "    <tr>\n",
              "      <th>51198</th>\n",
              "      <td>745</td>\n",
              "      <td>50</td>\n",
              "      <td>2</td>\n",
              "      <td>880122928</td>\n",
              "      <td>Star Wars (1977)</td>\n",
              "      <td>Action, Adventure, Fantasy</td>\n",
              "    </tr>\n",
              "    <tr>\n",
              "      <th>51212</th>\n",
              "      <td>566</td>\n",
              "      <td>50</td>\n",
              "      <td>2</td>\n",
              "      <td>881650063</td>\n",
              "      <td>Star Wars (1977)</td>\n",
              "      <td>Action, Adventure, Fantasy</td>\n",
              "    </tr>\n",
              "    <tr>\n",
              "      <th>51239</th>\n",
              "      <td>183</td>\n",
              "      <td>50</td>\n",
              "      <td>2</td>\n",
              "      <td>891467546</td>\n",
              "      <td>Star Wars (1977)</td>\n",
              "      <td>Action, Adventure, Fantasy</td>\n",
              "    </tr>\n",
              "    <tr>\n",
              "      <th>51265</th>\n",
              "      <td>930</td>\n",
              "      <td>50</td>\n",
              "      <td>2</td>\n",
              "      <td>879534410</td>\n",
              "      <td>Star Wars (1977)</td>\n",
              "      <td>Action, Adventure, Fantasy</td>\n",
              "    </tr>\n",
              "  </tbody>\n",
              "</table>\n",
              "<p>16390 rows × 6 columns</p>\n",
              "</div>"
            ],
            "text/plain": [
              "       user_id  ...                                       genres\n",
              "18          49  ...  Adventure|Animation|Children|Comedy|Fantasy\n",
              "26         213  ...  Adventure|Animation|Children|Comedy|Fantasy\n",
              "49         322  ...  Adventure|Animation|Children|Comedy|Fantasy\n",
              "53         204  ...  Adventure|Animation|Children|Comedy|Fantasy\n",
              "58          15  ...  Adventure|Animation|Children|Comedy|Fantasy\n",
              "...        ...  ...                                          ...\n",
              "51164      765  ...                   Action, Adventure, Fantasy\n",
              "51198      745  ...                   Action, Adventure, Fantasy\n",
              "51212      566  ...                   Action, Adventure, Fantasy\n",
              "51239      183  ...                   Action, Adventure, Fantasy\n",
              "51265      930  ...                   Action, Adventure, Fantasy\n",
              "\n",
              "[16390 rows x 6 columns]"
            ]
          },
          "metadata": {
            "tags": []
          },
          "execution_count": 72
        }
      ]
    },
    {
      "cell_type": "code",
      "metadata": {
        "id": "4DCYMc64Ikh1",
        "colab": {
          "base_uri": "https://localhost:8080/"
        },
        "outputId": "d6ac151b-b81f-4d73-fd13-b2e1ef809a7f"
      },
      "source": [
        "Ratinglow = RN.groupby('user_id')['title'].apply(list)\n",
        "Ratinglow"
      ],
      "execution_count": 73,
      "outputs": [
        {
          "output_type": "execute_result",
          "data": {
            "text/plain": [
              "user_id\n",
              "0                            [Gone with the Wind (1939)]\n",
              "1      [Babe (1995), Muppet Treasure Island (1996), B...\n",
              "2      [Richard III (1995), Liar Liar (1997), Deceive...\n",
              "3      [In the Name of the Father (1993), Everyone Sa...\n",
              "4                                         [Spawn (1997)]\n",
              "                             ...                        \n",
              "939    [Island of Dr. Moreau, The (1996), Kull the Co...\n",
              "940    [Get Shorty (1995), Rob Roy (1995), Bullets Ov...\n",
              "941      [Star Trek: First Contact (1996), Spawn (1997)]\n",
              "942                             [Full Monty, The (1997)]\n",
              "943    [Grumpier Old Men (1995), Father of the Bride ...\n",
              "Name: title, Length: 911, dtype: object"
            ]
          },
          "metadata": {
            "tags": []
          },
          "execution_count": 73
        }
      ]
    },
    {
      "cell_type": "code",
      "metadata": {
        "id": "5Nc4cE5KJAFR",
        "colab": {
          "base_uri": "https://localhost:8080/"
        },
        "outputId": "6c73a76b-7ef2-41b7-8208-505e3930e5b7"
      },
      "source": [
        "list(apriori(Ratinglow,min_support=0.01,min_confidence=0.8))"
      ],
      "execution_count": 74,
      "outputs": [
        {
          "output_type": "execute_result",
          "data": {
            "text/plain": [
              "[RelationRecord(items=frozenset({'Liar Liar (1997)', 'Scream (1996)', 'Bean (1997)'}), support=0.010976948408342482, ordered_statistics=[OrderedStatistic(items_base=frozenset({'Scream (1996)', 'Bean (1997)'}), items_add=frozenset({'Liar Liar (1997)'}), confidence=0.8333333333333334, lift=6.326388888888889)])]"
            ]
          },
          "metadata": {
            "tags": []
          },
          "execution_count": 74
        }
      ]
    },
    {
      "cell_type": "code",
      "metadata": {
        "id": "pFY088GRPw4U",
        "colab": {
          "base_uri": "https://localhost:8080/"
        },
        "outputId": "25ffb111-0764-4b5a-b31b-e898a115fd49"
      },
      "source": [
        "genres = Data_set.groupby('user_id')['genres'].apply(list)\n",
        "genres"
      ],
      "execution_count": 75,
      "outputs": [
        {
          "output_type": "execute_result",
          "data": {
            "text/plain": [
              "user_id\n",
              "0                     [Drama|Romance|War, action sci fi]\n",
              "1      [Adventure|Animation|Children|Comedy|Fantasy, ...\n",
              "2      [Adventure|Animation|Children|Comedy|Fantasy, ...\n",
              "3      [Drama, Drama|War, Comedy|Musical|Romance, Doc...\n",
              "4      [Drama|Mystery|Thriller, Drama, Action|Adventu...\n",
              "                             ...                        \n",
              "939    [Comedy|Romance, Comedy, Comedy|Romance, Drama...\n",
              "940    [Comedy|Drama|Romance, Comedy|Crime|Thriller, ...\n",
              "941    [Adventure|Animation|Children|Comedy|Fantasy, ...\n",
              "942    [Comedy|Romance, Drama|Thriller|War, Adventure...\n",
              "943    [Comedy|Romance, Comedy, Comedy|Romance, Actio...\n",
              "Name: genres, Length: 944, dtype: object"
            ]
          },
          "metadata": {
            "tags": []
          },
          "execution_count": 75
        }
      ]
    },
    {
      "cell_type": "code",
      "metadata": {
        "id": "PO_2QKg2hDpo",
        "colab": {
          "base_uri": "https://localhost:8080/"
        },
        "outputId": "19cc8131-88fd-46b8-d6c3-95d6b33b8e98"
      },
      "source": [
        "list(apriori(genres,min_support=0.9,min_confidence=0.8))"
      ],
      "execution_count": 76,
      "outputs": [
        {
          "output_type": "execute_result",
          "data": {
            "text/plain": [
              "[RelationRecord(items=frozenset({'Comedy'}), support=0.9226694915254238, ordered_statistics=[OrderedStatistic(items_base=frozenset(), items_add=frozenset({'Comedy'}), confidence=0.9226694915254238, lift=1.0)]),\n",
              " RelationRecord(items=frozenset({'Drama'}), support=0.9067796610169492, ordered_statistics=[OrderedStatistic(items_base=frozenset(), items_add=frozenset({'Drama'}), confidence=0.9067796610169492, lift=1.0)]),\n",
              " RelationRecord(items=frozenset({'Drama|Romance'}), support=0.9014830508474576, ordered_statistics=[OrderedStatistic(items_base=frozenset(), items_add=frozenset({'Drama|Romance'}), confidence=0.9014830508474576, lift=1.0)])]"
            ]
          },
          "metadata": {
            "tags": []
          },
          "execution_count": 76
        }
      ]
    },
    {
      "cell_type": "code",
      "metadata": {
        "id": "tccLZ2DGhNcA",
        "colab": {
          "base_uri": "https://localhost:8080/"
        },
        "outputId": "7d96415a-cead-4a48-a3b1-d3f1901a98a5"
      },
      "source": [
        "list(apriori(genres,min_support=0.8,min_confidence=0.9))"
      ],
      "execution_count": 77,
      "outputs": [
        {
          "output_type": "execute_result",
          "data": {
            "text/plain": [
              "[RelationRecord(items=frozenset({'Comedy'}), support=0.9226694915254238, ordered_statistics=[OrderedStatistic(items_base=frozenset(), items_add=frozenset({'Comedy'}), confidence=0.9226694915254238, lift=1.0)]),\n",
              " RelationRecord(items=frozenset({'Drama'}), support=0.9067796610169492, ordered_statistics=[OrderedStatistic(items_base=frozenset(), items_add=frozenset({'Drama'}), confidence=0.9067796610169492, lift=1.0)]),\n",
              " RelationRecord(items=frozenset({'Drama|Romance'}), support=0.9014830508474576, ordered_statistics=[OrderedStatistic(items_base=frozenset(), items_add=frozenset({'Drama|Romance'}), confidence=0.9014830508474576, lift=1.0)]),\n",
              " RelationRecord(items=frozenset({'Comedy', 'Drama'}), support=0.8495762711864406, ordered_statistics=[OrderedStatistic(items_base=frozenset({'Comedy'}), items_add=frozenset({'Drama'}), confidence=0.9207807118254878, lift=1.0154404111720332), OrderedStatistic(items_base=frozenset({'Drama'}), items_add=frozenset({'Comedy'}), confidence=0.9369158878504672, lift=1.0154404111720332)]),\n",
              " RelationRecord(items=frozenset({'Comedy', 'Drama|Romance'}), support=0.847457627118644, ordered_statistics=[OrderedStatistic(items_base=frozenset({'Comedy'}), items_add=frozenset({'Drama|Romance'}), confidence=0.9184845005740527, lift=1.0188594224934262), OrderedStatistic(items_base=frozenset({'Drama|Romance'}), items_add=frozenset({'Comedy'}), confidence=0.9400705052878966, lift=1.0188594224934264)]),\n",
              " RelationRecord(items=frozenset({'Drama', 'Drama|Romance'}), support=0.836864406779661, ordered_statistics=[OrderedStatistic(items_base=frozenset({'Drama'}), items_add=frozenset({'Drama|Romance'}), confidence=0.9228971962616822, lift=1.023754351669833), OrderedStatistic(items_base=frozenset({'Drama|Romance'}), items_add=frozenset({'Drama'}), confidence=0.9283196239717979, lift=1.023754351669833)])]"
            ]
          },
          "metadata": {
            "tags": []
          },
          "execution_count": 77
        }
      ]
    },
    {
      "cell_type": "code",
      "metadata": {
        "id": "e0anrPUql31t",
        "outputId": "e35ee7fd-f169-4a08-aa53-832733151c21",
        "colab": {
          "base_uri": "https://localhost:8080/",
          "height": 431
        }
      },
      "source": [
        "count = Data_set.groupby('title')['user_id'].count()\n",
        "count = pd.DataFrame(count)\n",
        "count"
      ],
      "execution_count": 115,
      "outputs": [
        {
          "output_type": "execute_result",
          "data": {
            "text/html": [
              "<div>\n",
              "<style scoped>\n",
              "    .dataframe tbody tr th:only-of-type {\n",
              "        vertical-align: middle;\n",
              "    }\n",
              "\n",
              "    .dataframe tbody tr th {\n",
              "        vertical-align: top;\n",
              "    }\n",
              "\n",
              "    .dataframe thead th {\n",
              "        text-align: right;\n",
              "    }\n",
              "</style>\n",
              "<table border=\"1\" class=\"dataframe\">\n",
              "  <thead>\n",
              "    <tr style=\"text-align: right;\">\n",
              "      <th></th>\n",
              "      <th>user_id</th>\n",
              "    </tr>\n",
              "    <tr>\n",
              "      <th>title</th>\n",
              "      <th></th>\n",
              "    </tr>\n",
              "  </thead>\n",
              "  <tbody>\n",
              "    <tr>\n",
              "      <th>'Til There Was You (1997)</th>\n",
              "      <td>9</td>\n",
              "    </tr>\n",
              "    <tr>\n",
              "      <th>101 Dalmatians (1996)</th>\n",
              "      <td>109</td>\n",
              "    </tr>\n",
              "    <tr>\n",
              "      <th>12 Angry Men (1957)</th>\n",
              "      <td>125</td>\n",
              "    </tr>\n",
              "    <tr>\n",
              "      <th>2 Days in the Valley (1996)</th>\n",
              "      <td>93</td>\n",
              "    </tr>\n",
              "    <tr>\n",
              "      <th>20,000 Leagues Under the Sea (1954)</th>\n",
              "      <td>72</td>\n",
              "    </tr>\n",
              "    <tr>\n",
              "      <th>...</th>\n",
              "      <td>...</td>\n",
              "    </tr>\n",
              "    <tr>\n",
              "      <th>Young Frankenstein (1974)</th>\n",
              "      <td>200</td>\n",
              "    </tr>\n",
              "    <tr>\n",
              "      <th>Young Guns (1988)</th>\n",
              "      <td>101</td>\n",
              "    </tr>\n",
              "    <tr>\n",
              "      <th>Young Guns II (1990)</th>\n",
              "      <td>44</td>\n",
              "    </tr>\n",
              "    <tr>\n",
              "      <th>Young Poisoner's Handbook, The (1995)</th>\n",
              "      <td>41</td>\n",
              "    </tr>\n",
              "    <tr>\n",
              "      <th>Zeus and Roxanne (1997)</th>\n",
              "      <td>6</td>\n",
              "    </tr>\n",
              "  </tbody>\n",
              "</table>\n",
              "<p>1461 rows × 1 columns</p>\n",
              "</div>"
            ],
            "text/plain": [
              "                                       user_id\n",
              "title                                         \n",
              "'Til There Was You (1997)                    9\n",
              "101 Dalmatians (1996)                      109\n",
              "12 Angry Men (1957)                        125\n",
              "2 Days in the Valley (1996)                 93\n",
              "20,000 Leagues Under the Sea (1954)         72\n",
              "...                                        ...\n",
              "Young Frankenstein (1974)                  200\n",
              "Young Guns (1988)                          101\n",
              "Young Guns II (1990)                        44\n",
              "Young Poisoner's Handbook, The (1995)       41\n",
              "Zeus and Roxanne (1997)                      6\n",
              "\n",
              "[1461 rows x 1 columns]"
            ]
          },
          "metadata": {
            "tags": []
          },
          "execution_count": 115
        }
      ]
    },
    {
      "cell_type": "code",
      "metadata": {
        "id": "j1xo_E3M6rqh"
      },
      "source": [
        ""
      ],
      "execution_count": null,
      "outputs": []
    }
  ]
}