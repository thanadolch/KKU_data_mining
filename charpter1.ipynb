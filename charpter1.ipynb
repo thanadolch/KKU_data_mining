{
  "nbformat": 4,
  "nbformat_minor": 0,
  "metadata": {
    "colab": {
      "name": "charpter1.ipynb",
      "provenance": [],
      "authorship_tag": "ABX9TyPyhDhhUBIT1XWdYvvx1J2d",
      "include_colab_link": true
    },
    "kernelspec": {
      "name": "python3",
      "display_name": "Python 3"
    }
  },
  "cells": [
    {
      "cell_type": "markdown",
      "metadata": {
        "id": "view-in-github",
        "colab_type": "text"
      },
      "source": [
        "<a href=\"https://colab.research.google.com/github/thanadolch/KKU_data_mining/blob/master/charpter1.ipynb\" target=\"_parent\"><img src=\"https://colab.research.google.com/assets/colab-badge.svg\" alt=\"Open In Colab\"/></a>"
      ]
    },
    {
      "cell_type": "markdown",
      "metadata": {
        "id": "xprgtAZzw-IE",
        "colab_type": "text"
      },
      "source": [
        " บทที่ 1 introduction \n",
        "\n",
        " ทำไม Data Mining ถึงสำคัญ\n",
        "  เพราะข้อมูลมีมากขึ้น อันเนื่องมาจากการใช้งานข้อคนในสังคมและความเปลี่ยนแปลงทางด้านเทคโนโลยี แต่ไม่สามารถนำข้อมูลนั้นไปจัดการได้จึงต้องนำ Data Miningเข้ามาใช้\n",
        "\n",
        "-data base มีหน้าที่เก็บข้อมูล(ล่างสุด)\n",
        "\n",
        "-data cleaning การทำความสะอาดข้อมูล หาข้อมูลที่ผิดพลาด เช่น การกรอกข้อมูลที่ผิดช่อง การข้อมูลไม่ตรงคอลลัมม์ / data integration คือ การรวมข้อมูล \n",
        "\n",
        "-data warehouse คือโกดังเก็บข้อมูลเพื่อนำไปทำการวิเคาระห์ทางธุรกิจ สามารถเลือกดูข้อมูลในมุมต่างๆได้\n",
        "\n",
        "-data mining สกัดความรู้จากข้อมูลว่าข้อมูลนั้นๆมีสิ่งสำคัญอะไรซ่อนอยู่ตามแต่ผู้ต้องการข้อมูลว่าอยากได้ข้อมูลลักษณะแบบใด\n",
        "\n",
        "-การสร้างdata warehouse ต้อง clean,intregrate,transform,load and refrech\n",
        "\n",
        "-presentation of mining results (การนำเสนอผลลัพธ์ที่สกัดออกมา) และนำข้อมูลมาสร้างเป็น Knowledge base\n",
        "\n",
        " ![alt text](https://www.industrial-electronics.com/images/data-mining-techniques_3e_1-6.jpg?fbclid=IwAR3X4RCGIlVcyRQUgVylWILilOpskwlU61n_W0fudXUUwbdnhajj0CrIufU \"Framwork Of Datawarehouse\")\n",
        "\n",
        "-สามเหลี่ยม ล่าง-บน 1.data base(paper,files,web document) 2.data intregrate 3.data Exploration การนำข้อมูลมาดู 4.data mining การสกัดความรู้ Analyst 5.data presentation\n",
        "![alt text](https://www.industrial-electronics.com/images/data-mining-techniques_3e_1-4.jpg?fbclid=IwAR34bfK7Uk3jVANJVT3DXBEstFk9DpsVVKvFefzStUeBDvB558RzBUdua-s )"
      ]
    }
  ]
}