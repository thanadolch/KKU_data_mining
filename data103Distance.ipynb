{
  "nbformat": 4,
  "nbformat_minor": 0,
  "metadata": {
    "colab": {
      "name": "data103Distance.ipynb",
      "provenance": [],
      "authorship_tag": "ABX9TyNsn8OXgSkkEMulROcOqfK6",
      "include_colab_link": true
    },
    "kernelspec": {
      "name": "python3",
      "display_name": "Python 3"
    }
  },
  "cells": [
    {
      "cell_type": "markdown",
      "metadata": {
        "id": "view-in-github",
        "colab_type": "text"
      },
      "source": [
        "<a href=\"https://colab.research.google.com/github/thanadolch/KKU_data_mining/blob/master/data103Distance.ipynb\" target=\"_parent\"><img src=\"https://colab.research.google.com/assets/colab-badge.svg\" alt=\"Open In Colab\"/></a>"
      ]
    },
    {
      "cell_type": "code",
      "metadata": {
        "id": "F3E9YKvbsPAy",
        "colab_type": "code",
        "colab": {}
      },
      "source": [
        "import numpy as np"
      ],
      "execution_count": 1,
      "outputs": []
    },
    {
      "cell_type": "markdown",
      "metadata": {
        "id": "sMMIVXrZscrk",
        "colab_type": "text"
      },
      "source": [
        "## numpy array"
      ]
    },
    {
      "cell_type": "code",
      "metadata": {
        "id": "sdhRzBuIsWeL",
        "colab_type": "code",
        "colab": {
          "base_uri": "https://localhost:8080/",
          "height": 50
        },
        "outputId": "62a86848-b3a7-41e7-815a-833d162911b4"
      },
      "source": [
        "np1 = np.array([[1,3,5],[2,4,6]])\n",
        "np1"
      ],
      "execution_count": 2,
      "outputs": [
        {
          "output_type": "execute_result",
          "data": {
            "text/plain": [
              "array([[1, 3, 5],\n",
              "       [2, 4, 6]])"
            ]
          },
          "metadata": {
            "tags": []
          },
          "execution_count": 2
        }
      ]
    },
    {
      "cell_type": "code",
      "metadata": {
        "id": "Gwm25Gu5ssma",
        "colab_type": "code",
        "colab": {
          "base_uri": "https://localhost:8080/",
          "height": 84
        },
        "outputId": "02f79acd-93d2-4ab0-964c-de578783a212"
      },
      "source": [
        "np2 = np.array([[1,2],[3,5],[2,0],[4,5]])\n",
        "np2"
      ],
      "execution_count": 3,
      "outputs": [
        {
          "output_type": "execute_result",
          "data": {
            "text/plain": [
              "array([[1, 2],\n",
              "       [3, 5],\n",
              "       [2, 0],\n",
              "       [4, 5]])"
            ]
          },
          "metadata": {
            "tags": []
          },
          "execution_count": 3
        }
      ]
    },
    {
      "cell_type": "code",
      "metadata": {
        "id": "cYUMeeAHtN1n",
        "colab_type": "code",
        "colab": {
          "base_uri": "https://localhost:8080/",
          "height": 50
        },
        "outputId": "e6681929-1ae6-4703-acab-d2516d2a8935"
      },
      "source": [
        "np2.T"
      ],
      "execution_count": 4,
      "outputs": [
        {
          "output_type": "execute_result",
          "data": {
            "text/plain": [
              "array([[1, 3, 2, 4],\n",
              "       [2, 5, 0, 5]])"
            ]
          },
          "metadata": {
            "tags": []
          },
          "execution_count": 4
        }
      ]
    },
    {
      "cell_type": "code",
      "metadata": {
        "id": "PDYxhFcquKRu",
        "colab_type": "code",
        "colab": {
          "base_uri": "https://localhost:8080/",
          "height": 34
        },
        "outputId": "145b8357-02d2-4caa-94fb-d778dc5b1fb2"
      },
      "source": [
        "np2[0,:]"
      ],
      "execution_count": 5,
      "outputs": [
        {
          "output_type": "execute_result",
          "data": {
            "text/plain": [
              "array([1, 2])"
            ]
          },
          "metadata": {
            "tags": []
          },
          "execution_count": 5
        }
      ]
    },
    {
      "cell_type": "markdown",
      "metadata": {
        "id": "E2A9_SHeurze",
        "colab_type": "text"
      },
      "source": [
        "#HW 6 สร้าง Distance metrix (Euclidean) ของ np2\n",
        "โดยสร้าง function สำหรับคำนวณ Manhattan Distance และ Euclidean Distance\n",
        "\n",
        "'''' def Euclident(data1,data2): \n",
        "    # process\n",
        "return dist\n",
        "''''''"
      ]
    },
    {
      "cell_type": "code",
      "metadata": {
        "id": "VAmlSoZKxG3W",
        "colab_type": "code",
        "colab": {}
      },
      "source": [
        "import math"
      ],
      "execution_count": 6,
      "outputs": []
    },
    {
      "cell_type": "code",
      "metadata": {
        "id": "AdcMvCIQuqWs",
        "colab_type": "code",
        "colab": {}
      },
      "source": [
        "def Manhattan(data1,data2):\n",
        "    distX = abs(data1[0]-data2[0])\n",
        "    distY = abs(data1[1]-data2[1])\n",
        "    return distX+distY"
      ],
      "execution_count": 7,
      "outputs": []
    },
    {
      "cell_type": "code",
      "metadata": {
        "id": "nD3531yfwXTT",
        "colab_type": "code",
        "colab": {
          "base_uri": "https://localhost:8080/",
          "height": 34
        },
        "outputId": "fa113a6a-3ba4-4e19-915a-f87887b7e77f"
      },
      "source": [
        "Manhattan(np2[0,:],np2[1,:])"
      ],
      "execution_count": 8,
      "outputs": [
        {
          "output_type": "execute_result",
          "data": {
            "text/plain": [
              "5"
            ]
          },
          "metadata": {
            "tags": []
          },
          "execution_count": 8
        }
      ]
    },
    {
      "cell_type": "code",
      "metadata": {
        "id": "qiDCDpM8xdOa",
        "colab_type": "code",
        "colab": {
          "base_uri": "https://localhost:8080/",
          "height": 84
        },
        "outputId": "0cdc6642-c120-41d2-ed7e-702ded91de5f"
      },
      "source": [
        "dist_math = np.zeros((4,4))\n",
        "dist_math "
      ],
      "execution_count": 9,
      "outputs": [
        {
          "output_type": "execute_result",
          "data": {
            "text/plain": [
              "array([[0., 0., 0., 0.],\n",
              "       [0., 0., 0., 0.],\n",
              "       [0., 0., 0., 0.],\n",
              "       [0., 0., 0., 0.]])"
            ]
          },
          "metadata": {
            "tags": []
          },
          "execution_count": 9
        }
      ]
    },
    {
      "cell_type": "code",
      "metadata": {
        "id": "nmRRnZWBydxM",
        "colab_type": "code",
        "colab": {
          "base_uri": "https://localhost:8080/",
          "height": 84
        },
        "outputId": "b7382ec7-5a56-4e4a-d850-b58b5689332a"
      },
      "source": [
        "for i in range(4):\n",
        "    for j in range(4):\n",
        "        dist_math[i,j] = Manhattan(np2[i,:],np2[j,:])\n",
        "dist_math"
      ],
      "execution_count": 10,
      "outputs": [
        {
          "output_type": "execute_result",
          "data": {
            "text/plain": [
              "array([[0., 5., 3., 6.],\n",
              "       [5., 0., 6., 1.],\n",
              "       [3., 6., 0., 7.],\n",
              "       [6., 1., 7., 0.]])"
            ]
          },
          "metadata": {
            "tags": []
          },
          "execution_count": 10
        }
      ]
    },
    {
      "cell_type": "code",
      "metadata": {
        "id": "VVv9J9DHzta3",
        "colab_type": "code",
        "colab": {}
      },
      "source": [
        "def Euclidean(data1,data2):\n",
        "    distX = pow(abs(data1[0]-data2[0]),2)\n",
        "    distY = pow(abs(data1[1]-data2[1]),2)\n",
        "    return math.sqrt(distX+distY)"
      ],
      "execution_count": 11,
      "outputs": []
    },
    {
      "cell_type": "code",
      "metadata": {
        "id": "KIN0NGj5tn5D",
        "colab_type": "code",
        "colab": {
          "base_uri": "https://localhost:8080/",
          "height": 84
        },
        "outputId": "e09a71e6-7c87-467f-e543-2a4dff96ba41"
      },
      "source": [
        "dist_math1 = np.zeros((4,4))\n",
        "dist_math1 "
      ],
      "execution_count": 12,
      "outputs": [
        {
          "output_type": "execute_result",
          "data": {
            "text/plain": [
              "array([[0., 0., 0., 0.],\n",
              "       [0., 0., 0., 0.],\n",
              "       [0., 0., 0., 0.],\n",
              "       [0., 0., 0., 0.]])"
            ]
          },
          "metadata": {
            "tags": []
          },
          "execution_count": 12
        }
      ]
    },
    {
      "cell_type": "code",
      "metadata": {
        "id": "f1DRXOL4to2F",
        "colab_type": "code",
        "colab": {
          "base_uri": "https://localhost:8080/",
          "height": 84
        },
        "outputId": "f53e1905-e682-4b81-dcae-1651daff27f9"
      },
      "source": [
        "for i in range(4):\n",
        "    for j in range(4):\n",
        "        dist_math1[i,j] = Euclidean(np2[i,:],np2[j,:])\n",
        "dist_math1"
      ],
      "execution_count": 13,
      "outputs": [
        {
          "output_type": "execute_result",
          "data": {
            "text/plain": [
              "array([[0.        , 3.60555128, 2.23606798, 4.24264069],\n",
              "       [3.60555128, 0.        , 5.09901951, 1.        ],\n",
              "       [2.23606798, 5.09901951, 0.        , 5.38516481],\n",
              "       [4.24264069, 1.        , 5.38516481, 0.        ]])"
            ]
          },
          "metadata": {
            "tags": []
          },
          "execution_count": 13
        }
      ]
    },
    {
      "cell_type": "markdown",
      "metadata": {
        "id": "SAzuyjXpsczD",
        "colab_type": "text"
      },
      "source": [
        "#Distance of norminal or categorical features"
      ]
    },
    {
      "cell_type": "markdown",
      "metadata": {
        "id": "2txWUpiytZzY",
        "colab_type": "text"
      },
      "source": [
        "### (extra) Phyton data structure (Dictoionary)\n"
      ]
    },
    {
      "cell_type": "code",
      "metadata": {
        "id": "kw4YrUu8t1M3",
        "colab_type": "code",
        "colab": {}
      },
      "source": [
        "d_A = {'a':1,2:3,3:5,'cat':6}"
      ],
      "execution_count": 14,
      "outputs": []
    },
    {
      "cell_type": "code",
      "metadata": {
        "id": "N5BxLXS-t_so",
        "colab_type": "code",
        "colab": {
          "base_uri": "https://localhost:8080/",
          "height": 34
        },
        "outputId": "e1575bad-1f5f-4d2b-febe-ae550a3b5278"
      },
      "source": [
        "d_A"
      ],
      "execution_count": 15,
      "outputs": [
        {
          "output_type": "execute_result",
          "data": {
            "text/plain": [
              "{2: 3, 3: 5, 'a': 1, 'cat': 6}"
            ]
          },
          "metadata": {
            "tags": []
          },
          "execution_count": 15
        }
      ]
    },
    {
      "cell_type": "code",
      "metadata": {
        "id": "rt2z-a8IuMLH",
        "colab_type": "code",
        "colab": {
          "base_uri": "https://localhost:8080/",
          "height": 34
        },
        "outputId": "0b8ce06b-a875-473e-856a-e30c3c7dbb45"
      },
      "source": [
        "d_A['cat']"
      ],
      "execution_count": 16,
      "outputs": [
        {
          "output_type": "execute_result",
          "data": {
            "text/plain": [
              "6"
            ]
          },
          "metadata": {
            "tags": []
          },
          "execution_count": 16
        }
      ]
    },
    {
      "cell_type": "code",
      "metadata": {
        "id": "5aKOg1_juZbF",
        "colab_type": "code",
        "colab": {}
      },
      "source": [
        "d_A['dog'] = [1,2,3,4,5]"
      ],
      "execution_count": 17,
      "outputs": []
    },
    {
      "cell_type": "code",
      "metadata": {
        "id": "BeSHq3ohu8Jt",
        "colab_type": "code",
        "colab": {
          "base_uri": "https://localhost:8080/",
          "height": 34
        },
        "outputId": "9d347de8-d916-425b-df1e-46536ad85eb2"
      },
      "source": [
        "d_A"
      ],
      "execution_count": 18,
      "outputs": [
        {
          "output_type": "execute_result",
          "data": {
            "text/plain": [
              "{2: 3, 3: 5, 'a': 1, 'cat': 6, 'dog': [1, 2, 3, 4, 5]}"
            ]
          },
          "metadata": {
            "tags": []
          },
          "execution_count": 18
        }
      ]
    },
    {
      "cell_type": "code",
      "metadata": {
        "id": "mpnu2K1Ou9-d",
        "colab_type": "code",
        "colab": {}
      },
      "source": [
        "import pandas as pd"
      ],
      "execution_count": 19,
      "outputs": []
    },
    {
      "cell_type": "code",
      "metadata": {
        "id": "u_WX1MVUwv0A",
        "colab_type": "code",
        "colab": {
          "base_uri": "https://localhost:8080/",
          "height": 34
        },
        "outputId": "cb441aa6-1aef-44f7-cb3e-e18b12f253f4"
      },
      "source": [
        "data_dict = {'color' :['red','red','green'],\n",
        "             'status':['single','married','single']}\n",
        "data_dict"
      ],
      "execution_count": 20,
      "outputs": [
        {
          "output_type": "execute_result",
          "data": {
            "text/plain": [
              "{'color': ['red', 'red', 'green'], 'status': ['single', 'married', 'single']}"
            ]
          },
          "metadata": {
            "tags": []
          },
          "execution_count": 20
        }
      ]
    },
    {
      "cell_type": "code",
      "metadata": {
        "id": "LBGBW_tkxXWb",
        "colab_type": "code",
        "colab": {
          "base_uri": "https://localhost:8080/",
          "height": 136
        },
        "outputId": "435cc0d1-77c1-443c-a868-73ede6367fe1"
      },
      "source": [
        "data_pd = pd.DataFrame.from_dict(data_dict)\n",
        "data_pd"
      ],
      "execution_count": 21,
      "outputs": [
        {
          "output_type": "execute_result",
          "data": {
            "text/html": [
              "<div>\n",
              "<style scoped>\n",
              "    .dataframe tbody tr th:only-of-type {\n",
              "        vertical-align: middle;\n",
              "    }\n",
              "\n",
              "    .dataframe tbody tr th {\n",
              "        vertical-align: top;\n",
              "    }\n",
              "\n",
              "    .dataframe thead th {\n",
              "        text-align: right;\n",
              "    }\n",
              "</style>\n",
              "<table border=\"1\" class=\"dataframe\">\n",
              "  <thead>\n",
              "    <tr style=\"text-align: right;\">\n",
              "      <th></th>\n",
              "      <th>color</th>\n",
              "      <th>status</th>\n",
              "    </tr>\n",
              "  </thead>\n",
              "  <tbody>\n",
              "    <tr>\n",
              "      <th>0</th>\n",
              "      <td>red</td>\n",
              "      <td>single</td>\n",
              "    </tr>\n",
              "    <tr>\n",
              "      <th>1</th>\n",
              "      <td>red</td>\n",
              "      <td>married</td>\n",
              "    </tr>\n",
              "    <tr>\n",
              "      <th>2</th>\n",
              "      <td>green</td>\n",
              "      <td>single</td>\n",
              "    </tr>\n",
              "  </tbody>\n",
              "</table>\n",
              "</div>"
            ],
            "text/plain": [
              "   color   status\n",
              "0    red   single\n",
              "1    red  married\n",
              "2  green   single"
            ]
          },
          "metadata": {
            "tags": []
          },
          "execution_count": 21
        }
      ]
    },
    {
      "cell_type": "markdown",
      "metadata": {
        "id": "u58Wrx2Gyk1-",
        "colab_type": "text"
      },
      "source": [
        "#Categorical feature distance method#1"
      ]
    },
    {
      "cell_type": "code",
      "metadata": {
        "id": "0DbAk28EyLTs",
        "colab_type": "code",
        "colab": {
          "base_uri": "https://localhost:8080/",
          "height": 34
        },
        "outputId": "5b856b58-c8c3-4686-a8f0-c9df14bd789a"
      },
      "source": [
        "list(data_pd.iloc[0,:])"
      ],
      "execution_count": 22,
      "outputs": [
        {
          "output_type": "execute_result",
          "data": {
            "text/plain": [
              "['red', 'single']"
            ]
          },
          "metadata": {
            "tags": []
          },
          "execution_count": 22
        }
      ]
    },
    {
      "cell_type": "code",
      "metadata": {
        "id": "YeOiCIogyzqf",
        "colab_type": "code",
        "colab": {}
      },
      "source": [
        "def meth1_dist(data1,data2):\n",
        "    N = 0\n",
        "    print(f'data1 is {data1} and data2 is {data2}')\n",
        "    for i in range(len(data1)):\n",
        "      if data1[i] != data2[i]:\n",
        "          N = N+1\n",
        "    return N/len(data1)"
      ],
      "execution_count": 23,
      "outputs": []
    },
    {
      "cell_type": "markdown",
      "metadata": {
        "id": "YPEjlPFb0y2B",
        "colab_type": "text"
      },
      "source": [
        ""
      ]
    },
    {
      "cell_type": "code",
      "metadata": {
        "id": "WgEU-NUS0pB1",
        "colab_type": "code",
        "colab": {
          "base_uri": "https://localhost:8080/",
          "height": 50
        },
        "outputId": "d5ed7b70-b4b5-44fa-c440-367f13ec7841"
      },
      "source": [
        "meth1_dist(list(data_pd.iloc[0,:]),list(data_pd.iloc[1,:]))"
      ],
      "execution_count": 24,
      "outputs": [
        {
          "output_type": "stream",
          "text": [
            "data1 is ['red', 'single'] and data2 is ['red', 'married']\n"
          ],
          "name": "stdout"
        },
        {
          "output_type": "execute_result",
          "data": {
            "text/plain": [
              "0.5"
            ]
          },
          "metadata": {
            "tags": []
          },
          "execution_count": 24
        }
      ]
    },
    {
      "cell_type": "markdown",
      "metadata": {
        "id": "-eZbRXfN2qOh",
        "colab_type": "text"
      },
      "source": [
        "#HW7 Calculate distance matrix of data_pd using meth1_dist()"
      ]
    },
    {
      "cell_type": "code",
      "metadata": {
        "id": "ugFFUP8phNB3",
        "colab_type": "code",
        "colab": {
          "base_uri": "https://localhost:8080/",
          "height": 67
        },
        "outputId": "f6956a05-7582-40d6-9ba9-aac6c6323f42"
      },
      "source": [
        "dist_math2 = np.zeros((3,3))\n",
        "dist_math2 "
      ],
      "execution_count": 28,
      "outputs": [
        {
          "output_type": "execute_result",
          "data": {
            "text/plain": [
              "array([[0., 0., 0.],\n",
              "       [0., 0., 0.],\n",
              "       [0., 0., 0.]])"
            ]
          },
          "metadata": {
            "tags": []
          },
          "execution_count": 28
        }
      ]
    },
    {
      "cell_type": "code",
      "metadata": {
        "id": "dj0-oF-XhRll",
        "colab_type": "code",
        "colab": {
          "base_uri": "https://localhost:8080/",
          "height": 218
        },
        "outputId": "a707caf9-e4c2-4506-b497-cfa0348667a2"
      },
      "source": [
        "for i in range(3):\n",
        "    for j in range(3):\n",
        "        dist_math2[i,j] = meth1_dist(list(data_pd.iloc[0,:]),list(data_pd.iloc[1,:]))\n",
        "dist_math2"
      ],
      "execution_count": 41,
      "outputs": [
        {
          "output_type": "stream",
          "text": [
            "data1 is ['red', 'single'] and data2 is ['red', 'married']\n",
            "data1 is ['red', 'single'] and data2 is ['red', 'married']\n",
            "data1 is ['red', 'single'] and data2 is ['red', 'married']\n",
            "data1 is ['red', 'single'] and data2 is ['red', 'married']\n",
            "data1 is ['red', 'single'] and data2 is ['red', 'married']\n",
            "data1 is ['red', 'single'] and data2 is ['red', 'married']\n",
            "data1 is ['red', 'single'] and data2 is ['red', 'married']\n",
            "data1 is ['red', 'single'] and data2 is ['red', 'married']\n",
            "data1 is ['red', 'single'] and data2 is ['red', 'married']\n"
          ],
          "name": "stdout"
        },
        {
          "output_type": "execute_result",
          "data": {
            "text/plain": [
              "array([[0.5, 0.5, 0.5],\n",
              "       [0.5, 0.5, 0.5],\n",
              "       [0.5, 0.5, 0.5]])"
            ]
          },
          "metadata": {
            "tags": []
          },
          "execution_count": 41
        }
      ]
    },
    {
      "cell_type": "markdown",
      "metadata": {
        "id": "0PMe6nmy4BpQ",
        "colab_type": "text"
      },
      "source": [
        "## Categorical feature distance method#2"
      ]
    },
    {
      "cell_type": "code",
      "metadata": {
        "id": "0sJyrrj20w8f",
        "colab_type": "code",
        "colab": {
          "base_uri": "https://localhost:8080/",
          "height": 136
        },
        "outputId": "69d5a33b-ba6f-4b31-9152-c51880b5bd10"
      },
      "source": [
        "data_pd_binary = pd.get_dummies(data_pd)\n",
        "data_pd_binary"
      ],
      "execution_count": 25,
      "outputs": [
        {
          "output_type": "execute_result",
          "data": {
            "text/html": [
              "<div>\n",
              "<style scoped>\n",
              "    .dataframe tbody tr th:only-of-type {\n",
              "        vertical-align: middle;\n",
              "    }\n",
              "\n",
              "    .dataframe tbody tr th {\n",
              "        vertical-align: top;\n",
              "    }\n",
              "\n",
              "    .dataframe thead th {\n",
              "        text-align: right;\n",
              "    }\n",
              "</style>\n",
              "<table border=\"1\" class=\"dataframe\">\n",
              "  <thead>\n",
              "    <tr style=\"text-align: right;\">\n",
              "      <th></th>\n",
              "      <th>color_green</th>\n",
              "      <th>color_red</th>\n",
              "      <th>status_married</th>\n",
              "      <th>status_single</th>\n",
              "    </tr>\n",
              "  </thead>\n",
              "  <tbody>\n",
              "    <tr>\n",
              "      <th>0</th>\n",
              "      <td>0</td>\n",
              "      <td>1</td>\n",
              "      <td>0</td>\n",
              "      <td>1</td>\n",
              "    </tr>\n",
              "    <tr>\n",
              "      <th>1</th>\n",
              "      <td>0</td>\n",
              "      <td>1</td>\n",
              "      <td>1</td>\n",
              "      <td>0</td>\n",
              "    </tr>\n",
              "    <tr>\n",
              "      <th>2</th>\n",
              "      <td>1</td>\n",
              "      <td>0</td>\n",
              "      <td>0</td>\n",
              "      <td>1</td>\n",
              "    </tr>\n",
              "  </tbody>\n",
              "</table>\n",
              "</div>"
            ],
            "text/plain": [
              "   color_green  color_red  status_married  status_single\n",
              "0            0          1               0              1\n",
              "1            0          1               1              0\n",
              "2            1          0               0              1"
            ]
          },
          "metadata": {
            "tags": []
          },
          "execution_count": 25
        }
      ]
    },
    {
      "cell_type": "code",
      "metadata": {
        "id": "1hgbc9Kj4JZd",
        "colab_type": "code",
        "colab": {}
      },
      "source": [
        "def binary_sym_dist(data1,data2):\n",
        "    q = 0\n",
        "    rs = 0\n",
        "    t = 0\n",
        "    for i in range(len(data1)):\n",
        "        if data1[i] == data2[i]:\n",
        "            if data1[i] == 1:\n",
        "               q = q + 1\n",
        "            else:\n",
        "                t = t + 1\n",
        "        if data1[i] != data2[i]:\n",
        "            rs = rs + 1    \n",
        "    return (rs)/(q+rs+t)"
      ],
      "execution_count": 26,
      "outputs": []
    },
    {
      "cell_type": "code",
      "metadata": {
        "id": "ay118tAY6D-8",
        "colab_type": "code",
        "colab": {
          "base_uri": "https://localhost:8080/",
          "height": 34
        },
        "outputId": "55233a7f-ef1e-42cd-8bea-44ca5e7db0f0"
      },
      "source": [
        "binary_sym_dist(list(data_pd_binary.iloc[0,:]),list(data_pd_binary.iloc[1,:]))"
      ],
      "execution_count": 44,
      "outputs": [
        {
          "output_type": "execute_result",
          "data": {
            "text/plain": [
              "0.5"
            ]
          },
          "metadata": {
            "tags": []
          },
          "execution_count": 44
        }
      ]
    },
    {
      "cell_type": "markdown",
      "metadata": {
        "id": "kn0A9zcK8P0x",
        "colab_type": "text"
      },
      "source": [
        "#HW8 calculate distance matrix of data_pd_binary using binary_sym_dist()"
      ]
    },
    {
      "cell_type": "code",
      "metadata": {
        "id": "7FLjltP365Wp",
        "colab_type": "code",
        "colab": {
          "base_uri": "https://localhost:8080/",
          "height": 67
        },
        "outputId": "9b1ca85b-a117-4d49-b34b-ef856e3870ca"
      },
      "source": [
        "binary_sym_dist1 = np.zeros((3,3))\n",
        "binary_sym_dist1"
      ],
      "execution_count": 37,
      "outputs": [
        {
          "output_type": "execute_result",
          "data": {
            "text/plain": [
              "array([[0., 0., 0.],\n",
              "       [0., 0., 0.],\n",
              "       [0., 0., 0.]])"
            ]
          },
          "metadata": {
            "tags": []
          },
          "execution_count": 37
        }
      ]
    },
    {
      "cell_type": "code",
      "metadata": {
        "id": "VuVLNZhzlG9t",
        "colab_type": "code",
        "colab": {
          "base_uri": "https://localhost:8080/",
          "height": 212
        },
        "outputId": "f11d8224-a860-41da-bb65-a0248fa8ed08"
      },
      "source": [
        "for i in range(3):\n",
        "    for j in range(3):\n",
        "        binary_sym_dist1[i,j] = binary_sym_dist(list(data_pd_binary.iloc[0,:]),list(data_pd_binary.iloc[1,:]))\n",
        "binary_sym_dist1"
      ],
      "execution_count": 45,
      "outputs": [
        {
          "output_type": "error",
          "ename": "TypeError",
          "evalue": "ignored",
          "traceback": [
            "\u001b[0;31m---------------------------------------------------------------------------\u001b[0m",
            "\u001b[0;31mTypeError\u001b[0m                                 Traceback (most recent call last)",
            "\u001b[0;32m<ipython-input-45-bed193e7a4f1>\u001b[0m in \u001b[0;36m<module>\u001b[0;34m()\u001b[0m\n\u001b[1;32m      1\u001b[0m \u001b[0;32mfor\u001b[0m \u001b[0mi\u001b[0m \u001b[0;32min\u001b[0m \u001b[0mrange\u001b[0m\u001b[0;34m(\u001b[0m\u001b[0;36m3\u001b[0m\u001b[0;34m)\u001b[0m\u001b[0;34m:\u001b[0m\u001b[0;34m\u001b[0m\u001b[0;34m\u001b[0m\u001b[0m\n\u001b[1;32m      2\u001b[0m     \u001b[0;32mfor\u001b[0m \u001b[0mj\u001b[0m \u001b[0;32min\u001b[0m \u001b[0mrange\u001b[0m\u001b[0;34m(\u001b[0m\u001b[0;36m3\u001b[0m\u001b[0;34m)\u001b[0m\u001b[0;34m:\u001b[0m\u001b[0;34m\u001b[0m\u001b[0;34m\u001b[0m\u001b[0m\n\u001b[0;32m----> 3\u001b[0;31m         \u001b[0mbinary_sym_dist1\u001b[0m\u001b[0;34m[\u001b[0m\u001b[0mi\u001b[0m\u001b[0;34m,\u001b[0m\u001b[0mj\u001b[0m\u001b[0;34m]\u001b[0m \u001b[0;34m=\u001b[0m \u001b[0mbinary_sym_dist\u001b[0m\u001b[0;34m(\u001b[0m\u001b[0mlist\u001b[0m\u001b[0;34m(\u001b[0m\u001b[0mdata_pd_binary\u001b[0m\u001b[0;34m.\u001b[0m\u001b[0miloc\u001b[0m\u001b[0;34m[\u001b[0m\u001b[0;36m0\u001b[0m\u001b[0;34m,\u001b[0m\u001b[0;34m:\u001b[0m\u001b[0;34m]\u001b[0m\u001b[0;34m)\u001b[0m\u001b[0;34m,\u001b[0m\u001b[0mlist\u001b[0m\u001b[0;34m(\u001b[0m\u001b[0mdata_pd_binary\u001b[0m\u001b[0;34m.\u001b[0m\u001b[0miloc\u001b[0m\u001b[0;34m[\u001b[0m\u001b[0;36m1\u001b[0m\u001b[0;34m,\u001b[0m\u001b[0;34m:\u001b[0m\u001b[0;34m]\u001b[0m\u001b[0;34m)\u001b[0m\u001b[0;34m)\u001b[0m\u001b[0;34m\u001b[0m\u001b[0;34m\u001b[0m\u001b[0m\n\u001b[0m\u001b[1;32m      4\u001b[0m \u001b[0mbinary_sym_dist1\u001b[0m\u001b[0;34m\u001b[0m\u001b[0;34m\u001b[0m\u001b[0m\n",
            "\u001b[0;31mTypeError\u001b[0m: 'float' object does not support item assignment"
          ]
        }
      ]
    },
    {
      "cell_type": "code",
      "metadata": {
        "id": "sAPtYL4glnmq",
        "colab_type": "code",
        "colab": {}
      },
      "source": [
        ""
      ],
      "execution_count": null,
      "outputs": []
    }
  ]
}