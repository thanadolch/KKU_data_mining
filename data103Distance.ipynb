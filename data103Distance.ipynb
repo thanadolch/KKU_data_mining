{
  "nbformat": 4,
  "nbformat_minor": 0,
  "metadata": {
    "colab": {
      "name": "data103Distance.ipynb",
      "provenance": [],
      "authorship_tag": "ABX9TyMeFCnuSveVMiz3J24i3VQd",
      "include_colab_link": true
    },
    "kernelspec": {
      "name": "python3",
      "display_name": "Python 3"
    }
  },
  "cells": [
    {
      "cell_type": "markdown",
      "metadata": {
        "id": "view-in-github",
        "colab_type": "text"
      },
      "source": [
        "<a href=\"https://colab.research.google.com/github/thanadolch/KKU_data_mining/blob/master/data103Distance.ipynb\" target=\"_parent\"><img src=\"https://colab.research.google.com/assets/colab-badge.svg\" alt=\"Open In Colab\"/></a>"
      ]
    },
    {
      "cell_type": "markdown",
      "metadata": {
        "id": "gE0LgPunAHb4"
      },
      "source": [
        "เรียกใช้ modu numpy"
      ]
    },
    {
      "cell_type": "code",
      "metadata": {
        "id": "F3E9YKvbsPAy"
      },
      "source": [
        "import numpy as np"
      ],
      "execution_count": null,
      "outputs": []
    },
    {
      "cell_type": "markdown",
      "metadata": {
        "id": "sMMIVXrZscrk"
      },
      "source": [
        "## numpy array"
      ]
    },
    {
      "cell_type": "markdown",
      "metadata": {
        "id": "JeVb5wbIAho2"
      },
      "source": [
        "สร้าง arryด้วยคำสั่งnuppy"
      ]
    },
    {
      "cell_type": "code",
      "metadata": {
        "id": "sdhRzBuIsWeL",
        "colab": {
          "base_uri": "https://localhost:8080/",
          "height": 50
        },
        "outputId": "3f4cc191-7030-47e4-eb73-eb6371f4c4bd"
      },
      "source": [
        "np1 = np.array([[1,3,5],[2,4,6]])\n",
        "np1"
      ],
      "execution_count": null,
      "outputs": [
        {
          "output_type": "execute_result",
          "data": {
            "text/plain": [
              "array([[1, 3, 5],\n",
              "       [2, 4, 6]])"
            ]
          },
          "metadata": {
            "tags": []
          },
          "execution_count": 4
        }
      ]
    },
    {
      "cell_type": "code",
      "metadata": {
        "id": "Gwm25Gu5ssma",
        "colab": {
          "base_uri": "https://localhost:8080/",
          "height": 84
        },
        "outputId": "a1adb918-41df-4ad8-c56f-131a3e0c2399"
      },
      "source": [
        "np2 = np.array([[1,2],[3,5],[2,0],[4,5]])\n",
        "np2"
      ],
      "execution_count": null,
      "outputs": [
        {
          "output_type": "execute_result",
          "data": {
            "text/plain": [
              "array([[1, 2],\n",
              "       [3, 5],\n",
              "       [2, 0],\n",
              "       [4, 5]])"
            ]
          },
          "metadata": {
            "tags": []
          },
          "execution_count": 5
        }
      ]
    },
    {
      "cell_type": "markdown",
      "metadata": {
        "id": "FFKcZ4MYAqjX"
      },
      "source": [
        "ให้แสดงข้อมูลเป็นส่วนกลับ"
      ]
    },
    {
      "cell_type": "code",
      "metadata": {
        "id": "cYUMeeAHtN1n",
        "colab": {
          "base_uri": "https://localhost:8080/",
          "height": 50
        },
        "outputId": "c04b4a54-31b7-4be7-9def-2697e0e1022b"
      },
      "source": [
        "np2.T"
      ],
      "execution_count": null,
      "outputs": [
        {
          "output_type": "execute_result",
          "data": {
            "text/plain": [
              "array([[1, 3, 2, 4],\n",
              "       [2, 5, 0, 5]])"
            ]
          },
          "metadata": {
            "tags": []
          },
          "execution_count": 6
        }
      ]
    },
    {
      "cell_type": "code",
      "metadata": {
        "id": "PDYxhFcquKRu",
        "colab": {
          "base_uri": "https://localhost:8080/",
          "height": 34
        },
        "outputId": "7e9e6a3d-7c3e-4f0f-c4b1-7507b647c9f2"
      },
      "source": [
        "np2[0,:]"
      ],
      "execution_count": null,
      "outputs": [
        {
          "output_type": "execute_result",
          "data": {
            "text/plain": [
              "array([1, 2])"
            ]
          },
          "metadata": {
            "tags": []
          },
          "execution_count": 7
        }
      ]
    },
    {
      "cell_type": "markdown",
      "metadata": {
        "id": "E2A9_SHeurze"
      },
      "source": [
        "#HW 6 สร้าง Distance metrix (Euclidean) ของ np2\n",
        "โดยสร้าง function สำหรับคำนวณ Manhattan Distance และ Euclidean Distance\n",
        "\n",
        "'''' def Euclident(data1,data2): \n",
        "    # process\n",
        "return dist\n",
        "''''''"
      ]
    },
    {
      "cell_type": "markdown",
      "metadata": {
        "id": "VB__mYrgA15q"
      },
      "source": [
        "import math เพื่อใช้คำสั่งทางคณิตศาสตร์"
      ]
    },
    {
      "cell_type": "code",
      "metadata": {
        "id": "VAmlSoZKxG3W"
      },
      "source": [
        "import math"
      ],
      "execution_count": null,
      "outputs": []
    },
    {
      "cell_type": "markdown",
      "metadata": {
        "id": "-BXwD0y0BDcm"
      },
      "source": [
        "กำหนดให้ Manhattan มีคำสั่งในการคำนวณดังที่แสดงข้างล่าง"
      ]
    },
    {
      "cell_type": "code",
      "metadata": {
        "id": "AdcMvCIQuqWs"
      },
      "source": [
        "def Manhattan(data1,data2):\n",
        "    distX = abs(data1[0]-data2[0])\n",
        "    distY = abs(data1[1]-data2[1])\n",
        "    return distX+distY"
      ],
      "execution_count": null,
      "outputs": []
    },
    {
      "cell_type": "markdown",
      "metadata": {
        "id": "JBnqMKc3Be-i"
      },
      "source": [
        "ตัวอย่างการคำนวณ โดยกำหนดค่าในตัวแปร np2 ที่อยู่ในrecordที่0 และ1 ของทุกคอลัมน์ "
      ]
    },
    {
      "cell_type": "code",
      "metadata": {
        "id": "nD3531yfwXTT",
        "colab": {
          "base_uri": "https://localhost:8080/",
          "height": 34
        },
        "outputId": "126f6580-ab6f-4655-f669-7203e754f88d"
      },
      "source": [
        "Manhattan(np2[0,:],np2[1,:])"
      ],
      "execution_count": null,
      "outputs": [
        {
          "output_type": "execute_result",
          "data": {
            "text/plain": [
              "5"
            ]
          },
          "metadata": {
            "tags": []
          },
          "execution_count": 10
        }
      ]
    },
    {
      "cell_type": "markdown",
      "metadata": {
        "id": "zm66imwRB10m"
      },
      "source": [
        "สร้างตัวแปรแบบArray ไว้เก็บข้อมูลแบบ เมตริก 4*4"
      ]
    },
    {
      "cell_type": "code",
      "metadata": {
        "id": "qiDCDpM8xdOa",
        "colab": {
          "base_uri": "https://localhost:8080/",
          "height": 84
        },
        "outputId": "fcbc90d4-4972-4011-c5d7-cfe2600be9c0"
      },
      "source": [
        "dist_math = np.zeros((4,4))\n",
        "dist_math "
      ],
      "execution_count": null,
      "outputs": [
        {
          "output_type": "execute_result",
          "data": {
            "text/plain": [
              "array([[0., 0., 0., 0.],\n",
              "       [0., 0., 0., 0.],\n",
              "       [0., 0., 0., 0.],\n",
              "       [0., 0., 0., 0.]])"
            ]
          },
          "metadata": {
            "tags": []
          },
          "execution_count": 11
        }
      ]
    },
    {
      "cell_type": "markdown",
      "metadata": {
        "id": "S66U5zuYCLSF"
      },
      "source": [
        "ใช้คำสั่งการคำนวณใน Manhattan แล้วเก็บข้อมูลที่ได้ทั้งหมดไว้ในตัวแปร dist_math"
      ]
    },
    {
      "cell_type": "code",
      "metadata": {
        "id": "nmRRnZWBydxM",
        "colab": {
          "base_uri": "https://localhost:8080/",
          "height": 84
        },
        "outputId": "8a12490c-073d-41c7-c333-31949dc351b6"
      },
      "source": [
        "for i in range(4):\n",
        "    for j in range(4):\n",
        "        dist_math[i,j] = Manhattan(np2[i,:],np2[j,:])\n",
        "dist_math"
      ],
      "execution_count": null,
      "outputs": [
        {
          "output_type": "execute_result",
          "data": {
            "text/plain": [
              "array([[0., 5., 3., 6.],\n",
              "       [5., 0., 6., 1.],\n",
              "       [3., 6., 0., 7.],\n",
              "       [6., 1., 7., 0.]])"
            ]
          },
          "metadata": {
            "tags": []
          },
          "execution_count": 12
        }
      ]
    },
    {
      "cell_type": "markdown",
      "metadata": {
        "id": "SyWy9-5SCamM"
      },
      "source": [
        "กำหนดให้ Euclidean มีคำสั่งในการคำนวณดังที่แสดงข้างล่าง"
      ]
    },
    {
      "cell_type": "code",
      "metadata": {
        "id": "VVv9J9DHzta3"
      },
      "source": [
        "def Euclidean(data1,data2):\n",
        "    distX = pow(abs(data1[0]-data2[0]),2)\n",
        "    distY = pow(abs(data1[1]-data2[1]),2)\n",
        "    return math.sqrt(distX+distY)"
      ],
      "execution_count": null,
      "outputs": []
    },
    {
      "cell_type": "code",
      "metadata": {
        "id": "KIN0NGj5tn5D",
        "colab": {
          "base_uri": "https://localhost:8080/",
          "height": 84
        },
        "outputId": "02653c0d-de8b-41f7-816d-79a2d53fd9bd"
      },
      "source": [
        "dist_math1 = np.zeros((4,4))\n",
        "dist_math1 "
      ],
      "execution_count": null,
      "outputs": [
        {
          "output_type": "execute_result",
          "data": {
            "text/plain": [
              "array([[0., 0., 0., 0.],\n",
              "       [0., 0., 0., 0.],\n",
              "       [0., 0., 0., 0.],\n",
              "       [0., 0., 0., 0.]])"
            ]
          },
          "metadata": {
            "tags": []
          },
          "execution_count": 14
        }
      ]
    },
    {
      "cell_type": "markdown",
      "metadata": {
        "id": "20bqwOSSCj5S"
      },
      "source": [
        "ใช้คำสั่งการคำนวณใน Euclidean แล้วเก็บข้อมูลที่ได้ทั้งหมดไว้ในตัวแปร dist_math1"
      ]
    },
    {
      "cell_type": "code",
      "metadata": {
        "id": "f1DRXOL4to2F",
        "colab": {
          "base_uri": "https://localhost:8080/",
          "height": 84
        },
        "outputId": "10715632-442e-423e-e64e-163c164c06c4"
      },
      "source": [
        "for i in range(4):\n",
        "    for j in range(4):\n",
        "        dist_math1[i,j] = Euclidean(np2[i,:],np2[j,:])\n",
        "dist_math1"
      ],
      "execution_count": null,
      "outputs": [
        {
          "output_type": "execute_result",
          "data": {
            "text/plain": [
              "array([[0.        , 3.60555128, 2.23606798, 4.24264069],\n",
              "       [3.60555128, 0.        , 5.09901951, 1.        ],\n",
              "       [2.23606798, 5.09901951, 0.        , 5.38516481],\n",
              "       [4.24264069, 1.        , 5.38516481, 0.        ]])"
            ]
          },
          "metadata": {
            "tags": []
          },
          "execution_count": 15
        }
      ]
    },
    {
      "cell_type": "markdown",
      "metadata": {
        "id": "SAzuyjXpsczD"
      },
      "source": [
        "#Distance of norminal or categorical features"
      ]
    },
    {
      "cell_type": "markdown",
      "metadata": {
        "id": "2txWUpiytZzY"
      },
      "source": [
        "### (extra) Phyton data structure (Dictoionary)\n"
      ]
    },
    {
      "cell_type": "code",
      "metadata": {
        "id": "kw4YrUu8t1M3"
      },
      "source": [
        "d_A = {'a':1,2:3,3:5,'cat':6}"
      ],
      "execution_count": null,
      "outputs": []
    },
    {
      "cell_type": "code",
      "metadata": {
        "id": "N5BxLXS-t_so",
        "colab": {
          "base_uri": "https://localhost:8080/"
        },
        "outputId": "2f2870c8-43a7-4889-a9f4-506d92f38caf"
      },
      "source": [
        "d_A"
      ],
      "execution_count": null,
      "outputs": [
        {
          "output_type": "execute_result",
          "data": {
            "text/plain": [
              "{2: 3, 3: 5, 'a': 1, 'cat': 6}"
            ]
          },
          "metadata": {
            "tags": []
          },
          "execution_count": 17
        }
      ]
    },
    {
      "cell_type": "code",
      "metadata": {
        "id": "rt2z-a8IuMLH",
        "colab": {
          "base_uri": "https://localhost:8080/"
        },
        "outputId": "1f0e9dac-585a-4405-c40c-8df600fa03e2"
      },
      "source": [
        "d_A['cat']"
      ],
      "execution_count": null,
      "outputs": [
        {
          "output_type": "execute_result",
          "data": {
            "text/plain": [
              "6"
            ]
          },
          "metadata": {
            "tags": []
          },
          "execution_count": 18
        }
      ]
    },
    {
      "cell_type": "code",
      "metadata": {
        "id": "5aKOg1_juZbF"
      },
      "source": [
        "d_A['dog'] = [1,2,3,4,5]"
      ],
      "execution_count": null,
      "outputs": []
    },
    {
      "cell_type": "code",
      "metadata": {
        "id": "BeSHq3ohu8Jt",
        "colab": {
          "base_uri": "https://localhost:8080/"
        },
        "outputId": "aaa364d6-e18d-4f7b-a1b0-d6701e56591f"
      },
      "source": [
        "d_A"
      ],
      "execution_count": null,
      "outputs": [
        {
          "output_type": "execute_result",
          "data": {
            "text/plain": [
              "{2: 3, 3: 5, 'a': 1, 'cat': 6, 'dog': [1, 2, 3, 4, 5]}"
            ]
          },
          "metadata": {
            "tags": []
          },
          "execution_count": 20
        }
      ]
    },
    {
      "cell_type": "code",
      "metadata": {
        "id": "mpnu2K1Ou9-d"
      },
      "source": [
        "import pandas as pd"
      ],
      "execution_count": null,
      "outputs": []
    },
    {
      "cell_type": "code",
      "metadata": {
        "id": "u_WX1MVUwv0A",
        "colab": {
          "base_uri": "https://localhost:8080/"
        },
        "outputId": "f582c511-52a1-4af7-d53e-60ac41e94f51"
      },
      "source": [
        "data_dict = {'color' :['red','red','green'],\n",
        "             'status':['single','married','single']}\n",
        "data_dict"
      ],
      "execution_count": null,
      "outputs": [
        {
          "output_type": "execute_result",
          "data": {
            "text/plain": [
              "{'color': ['red', 'red', 'green'], 'status': ['single', 'married', 'single']}"
            ]
          },
          "metadata": {
            "tags": []
          },
          "execution_count": 22
        }
      ]
    },
    {
      "cell_type": "markdown",
      "metadata": {
        "id": "OCSuTUd4DBUs"
      },
      "source": [
        "เก็บข้อมูลในตัวแปร data_pd ในรูปแบบของDataFrame "
      ]
    },
    {
      "cell_type": "code",
      "metadata": {
        "id": "LBGBW_tkxXWb",
        "colab": {
          "base_uri": "https://localhost:8080/"
        },
        "outputId": "6077f3d0-48c0-44d6-e4c8-9301289c1e87"
      },
      "source": [
        "data_pd = pd.DataFrame.from_dict(data_dict)\n",
        "data_pd"
      ],
      "execution_count": null,
      "outputs": [
        {
          "output_type": "execute_result",
          "data": {
            "text/html": [
              "<div>\n",
              "<style scoped>\n",
              "    .dataframe tbody tr th:only-of-type {\n",
              "        vertical-align: middle;\n",
              "    }\n",
              "\n",
              "    .dataframe tbody tr th {\n",
              "        vertical-align: top;\n",
              "    }\n",
              "\n",
              "    .dataframe thead th {\n",
              "        text-align: right;\n",
              "    }\n",
              "</style>\n",
              "<table border=\"1\" class=\"dataframe\">\n",
              "  <thead>\n",
              "    <tr style=\"text-align: right;\">\n",
              "      <th></th>\n",
              "      <th>color</th>\n",
              "      <th>status</th>\n",
              "    </tr>\n",
              "  </thead>\n",
              "  <tbody>\n",
              "    <tr>\n",
              "      <th>0</th>\n",
              "      <td>red</td>\n",
              "      <td>single</td>\n",
              "    </tr>\n",
              "    <tr>\n",
              "      <th>1</th>\n",
              "      <td>red</td>\n",
              "      <td>married</td>\n",
              "    </tr>\n",
              "    <tr>\n",
              "      <th>2</th>\n",
              "      <td>green</td>\n",
              "      <td>single</td>\n",
              "    </tr>\n",
              "  </tbody>\n",
              "</table>\n",
              "</div>"
            ],
            "text/plain": [
              "   color   status\n",
              "0    red   single\n",
              "1    red  married\n",
              "2  green   single"
            ]
          },
          "metadata": {
            "tags": []
          },
          "execution_count": 23
        }
      ]
    },
    {
      "cell_type": "markdown",
      "metadata": {
        "id": "u58Wrx2Gyk1-"
      },
      "source": [
        "#Categorical feature distance method#1"
      ]
    },
    {
      "cell_type": "markdown",
      "metadata": {
        "id": "4GT-ko4BDU7X"
      },
      "source": [
        "เก็บตัวแปรใน record ที่ 0 ในรูปแบบของlist"
      ]
    },
    {
      "cell_type": "code",
      "metadata": {
        "id": "0DbAk28EyLTs",
        "colab": {
          "base_uri": "https://localhost:8080/",
          "height": 34
        },
        "outputId": "f08d634b-90bf-4c9d-9aaa-cadf316e2da0"
      },
      "source": [
        "list(data_pd.iloc[0,:])"
      ],
      "execution_count": null,
      "outputs": [
        {
          "output_type": "execute_result",
          "data": {
            "text/plain": [
              "['red', 'single']"
            ]
          },
          "metadata": {
            "tags": []
          },
          "execution_count": 24
        }
      ]
    },
    {
      "cell_type": "code",
      "metadata": {
        "id": "YeOiCIogyzqf"
      },
      "source": [
        "def meth1_dist(data1,data2):\n",
        "    N = 0\n",
        "    print(f'data1 is {data1} and data2 is {data2}')\n",
        "    for i in range(len(data1)):\n",
        "      if data1[i] != data2[i]:\n",
        "          N = N+1\n",
        "    return N/len(data1)"
      ],
      "execution_count": null,
      "outputs": []
    },
    {
      "cell_type": "code",
      "metadata": {
        "id": "WgEU-NUS0pB1",
        "colab": {
          "base_uri": "https://localhost:8080/",
          "height": 50
        },
        "outputId": "4409649c-f4b6-4907-a967-a2f2fa920b8b"
      },
      "source": [
        "meth1_dist(list(data_pd.iloc[0,:]),list(data_pd.iloc[1,:]))"
      ],
      "execution_count": null,
      "outputs": [
        {
          "output_type": "stream",
          "text": [
            "data1 is ['red', 'single'] and data2 is ['red', 'married']\n"
          ],
          "name": "stdout"
        },
        {
          "output_type": "execute_result",
          "data": {
            "text/plain": [
              "0.5"
            ]
          },
          "metadata": {
            "tags": []
          },
          "execution_count": 26
        }
      ]
    },
    {
      "cell_type": "markdown",
      "metadata": {
        "id": "-eZbRXfN2qOh"
      },
      "source": [
        "#HW7 Calculate distance matrix of data_pd using meth1_dist()"
      ]
    },
    {
      "cell_type": "markdown",
      "metadata": {
        "id": "Is90QhrADvzN"
      },
      "source": [
        "สร้างตัวแปรที่มีมิติ 3*3"
      ]
    },
    {
      "cell_type": "code",
      "metadata": {
        "id": "ugFFUP8phNB3",
        "colab": {
          "base_uri": "https://localhost:8080/",
          "height": 67
        },
        "outputId": "d852c4f3-09e0-486d-9d90-e8ea46bb9661"
      },
      "source": [
        "dist_math2 = np.zeros((3,3))\n",
        "dist_math2 "
      ],
      "execution_count": null,
      "outputs": [
        {
          "output_type": "execute_result",
          "data": {
            "text/plain": [
              "array([[0., 0., 0.],\n",
              "       [0., 0., 0.],\n",
              "       [0., 0., 0.]])"
            ]
          },
          "metadata": {
            "tags": []
          },
          "execution_count": 27
        }
      ]
    },
    {
      "cell_type": "markdown",
      "metadata": {
        "id": "3FxAfyROD0t5"
      },
      "source": [
        "วนลูปคำนวนค่าโดยใช้สูตรที่กำหนดไว้ใน meth1_dist "
      ]
    },
    {
      "cell_type": "code",
      "metadata": {
        "id": "dj0-oF-XhRll",
        "colab": {
          "base_uri": "https://localhost:8080/",
          "height": 218
        },
        "outputId": "db87c682-8f6c-47b5-f75c-fc1e638b598e"
      },
      "source": [
        "for i in range(3):\n",
        "    for j in range(3):\n",
        "        dist_math2[i,j] = meth1_dist(list(data_pd.iloc[i,:]),list(data_pd.iloc[j,:]))\n",
        "dist_math2"
      ],
      "execution_count": null,
      "outputs": [
        {
          "output_type": "stream",
          "text": [
            "data1 is ['red', 'single'] and data2 is ['red', 'single']\n",
            "data1 is ['red', 'single'] and data2 is ['red', 'married']\n",
            "data1 is ['red', 'single'] and data2 is ['green', 'single']\n",
            "data1 is ['red', 'married'] and data2 is ['red', 'single']\n",
            "data1 is ['red', 'married'] and data2 is ['red', 'married']\n",
            "data1 is ['red', 'married'] and data2 is ['green', 'single']\n",
            "data1 is ['green', 'single'] and data2 is ['red', 'single']\n",
            "data1 is ['green', 'single'] and data2 is ['red', 'married']\n",
            "data1 is ['green', 'single'] and data2 is ['green', 'single']\n"
          ],
          "name": "stdout"
        },
        {
          "output_type": "execute_result",
          "data": {
            "text/plain": [
              "array([[0. , 0.5, 0.5],\n",
              "       [0.5, 0. , 1. ],\n",
              "       [0.5, 1. , 0. ]])"
            ]
          },
          "metadata": {
            "tags": []
          },
          "execution_count": 35
        }
      ]
    },
    {
      "cell_type": "markdown",
      "metadata": {
        "id": "0PMe6nmy4BpQ"
      },
      "source": [
        "## Categorical feature distance method#2"
      ]
    },
    {
      "cell_type": "markdown",
      "metadata": {
        "id": "LYMlI6BjEY5o"
      },
      "source": [
        "กำหนดให้ค่าที่อยู่ในตารางปรากฎเป็นลำดับตัวเลข"
      ]
    },
    {
      "cell_type": "code",
      "metadata": {
        "id": "0sJyrrj20w8f",
        "colab": {
          "base_uri": "https://localhost:8080/",
          "height": 136
        },
        "outputId": "b08cc7ab-2922-4c4c-8072-adfaa10bcd75"
      },
      "source": [
        "data_pd_binary = pd.get_dummies(data_pd)\n",
        "data_pd_binary"
      ],
      "execution_count": null,
      "outputs": [
        {
          "output_type": "execute_result",
          "data": {
            "text/html": [
              "<div>\n",
              "<style scoped>\n",
              "    .dataframe tbody tr th:only-of-type {\n",
              "        vertical-align: middle;\n",
              "    }\n",
              "\n",
              "    .dataframe tbody tr th {\n",
              "        vertical-align: top;\n",
              "    }\n",
              "\n",
              "    .dataframe thead th {\n",
              "        text-align: right;\n",
              "    }\n",
              "</style>\n",
              "<table border=\"1\" class=\"dataframe\">\n",
              "  <thead>\n",
              "    <tr style=\"text-align: right;\">\n",
              "      <th></th>\n",
              "      <th>color_green</th>\n",
              "      <th>color_red</th>\n",
              "      <th>status_married</th>\n",
              "      <th>status_single</th>\n",
              "    </tr>\n",
              "  </thead>\n",
              "  <tbody>\n",
              "    <tr>\n",
              "      <th>0</th>\n",
              "      <td>0</td>\n",
              "      <td>1</td>\n",
              "      <td>0</td>\n",
              "      <td>1</td>\n",
              "    </tr>\n",
              "    <tr>\n",
              "      <th>1</th>\n",
              "      <td>0</td>\n",
              "      <td>1</td>\n",
              "      <td>1</td>\n",
              "      <td>0</td>\n",
              "    </tr>\n",
              "    <tr>\n",
              "      <th>2</th>\n",
              "      <td>1</td>\n",
              "      <td>0</td>\n",
              "      <td>0</td>\n",
              "      <td>1</td>\n",
              "    </tr>\n",
              "  </tbody>\n",
              "</table>\n",
              "</div>"
            ],
            "text/plain": [
              "   color_green  color_red  status_married  status_single\n",
              "0            0          1               0              1\n",
              "1            0          1               1              0\n",
              "2            1          0               0              1"
            ]
          },
          "metadata": {
            "tags": []
          },
          "execution_count": 29
        }
      ]
    },
    {
      "cell_type": "markdown",
      "metadata": {
        "id": "Zes-LsVEEgoA"
      },
      "source": [
        "กำหนดสูตรโดยใช้ binary_sym_dist จากนั้นวนลูปเพื่อคำนวณค่า"
      ]
    },
    {
      "cell_type": "code",
      "metadata": {
        "id": "1hgbc9Kj4JZd"
      },
      "source": [
        "def binary_sym_dist(data1,data2):\n",
        "    q = 0\n",
        "    rs = 0\n",
        "    t = 0\n",
        "    for i in range(len(data1)):\n",
        "        if data1[i] == data2[i]:\n",
        "            if data1[i] == 1:\n",
        "               q = q + 1\n",
        "            else:\n",
        "                t = t + 1\n",
        "        if data1[i] != data2[i]:\n",
        "            rs = rs + 1    \n",
        "    return (rs)/(q+rs+t)"
      ],
      "execution_count": null,
      "outputs": []
    },
    {
      "cell_type": "markdown",
      "metadata": {
        "id": "61AncyGcErjx"
      },
      "source": [
        "แสดงค่าที่ได้จากการคำนวณ"
      ]
    },
    {
      "cell_type": "code",
      "metadata": {
        "id": "ay118tAY6D-8",
        "colab": {
          "base_uri": "https://localhost:8080/",
          "height": 34
        },
        "outputId": "a1fd9f5c-f0d0-4177-c064-44d7f4396d34"
      },
      "source": [
        "binary_sym_dist(list(data_pd_binary.iloc[i,:]),list(data_pd_binary.iloc[j,:]))"
      ],
      "execution_count": null,
      "outputs": [
        {
          "output_type": "execute_result",
          "data": {
            "text/plain": [
              "0.0"
            ]
          },
          "metadata": {
            "tags": []
          },
          "execution_count": 34
        }
      ]
    },
    {
      "cell_type": "markdown",
      "metadata": {
        "id": "kn0A9zcK8P0x"
      },
      "source": [
        "#HW8 calculate distance matrix of data_pd_binary using binary_sym_dist()"
      ]
    },
    {
      "cell_type": "markdown",
      "metadata": {
        "id": "Zm6R4Ko6EwtS"
      },
      "source": [
        "สร้างตัวแปรเก็บข้อมูลที่มีเมตริกแบบ 3*3"
      ]
    },
    {
      "cell_type": "code",
      "metadata": {
        "id": "7FLjltP365Wp",
        "colab": {
          "base_uri": "https://localhost:8080/",
          "height": 67
        },
        "outputId": "532de594-09ad-4fed-83d4-d64fa33b27f9"
      },
      "source": [
        "binary_sym_dist1 = np.zeros((3,3))\n",
        "binary_sym_dist1"
      ],
      "execution_count": null,
      "outputs": [
        {
          "output_type": "execute_result",
          "data": {
            "text/plain": [
              "array([[0., 0., 0.],\n",
              "       [0., 0., 0.],\n",
              "       [0., 0., 0.]])"
            ]
          },
          "metadata": {
            "tags": []
          },
          "execution_count": 32
        }
      ]
    },
    {
      "cell_type": "markdown",
      "metadata": {
        "id": "WPHUip6NE7ms"
      },
      "source": [
        "วนลูปเพื่อคำนวณตาามสูตร binary_sym_dist แล้วเก็บค่าใน binary_sym_dist1"
      ]
    },
    {
      "cell_type": "code",
      "metadata": {
        "id": "VuVLNZhzlG9t",
        "colab": {
          "base_uri": "https://localhost:8080/",
          "height": 67
        },
        "outputId": "cd15446c-957d-4c31-d9bf-5280a5316597"
      },
      "source": [
        "for i in range(3):\n",
        "    for j in range(3):\n",
        "        binary_sym_dist1[i,j] = binary_sym_dist(list(data_pd_binary.iloc[i,:]),list(data_pd_binary.iloc[j,:]))\n",
        "binary_sym_dist1"
      ],
      "execution_count": null,
      "outputs": [
        {
          "output_type": "execute_result",
          "data": {
            "text/plain": [
              "array([[0. , 0.5, 0.5],\n",
              "       [0.5, 0. , 1. ],\n",
              "       [0.5, 1. , 0. ]])"
            ]
          },
          "metadata": {
            "tags": []
          },
          "execution_count": 33
        }
      ]
    },
    {
      "cell_type": "code",
      "metadata": {
        "id": "sAPtYL4glnmq"
      },
      "source": [
        ""
      ],
      "execution_count": null,
      "outputs": []
    }
  ]
}