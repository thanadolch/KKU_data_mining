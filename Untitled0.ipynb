{
  "nbformat": 4,
  "nbformat_minor": 0,
  "metadata": {
    "colab": {
      "name": "Untitled0.ipynb",
      "provenance": [],
      "authorship_tag": "ABX9TyN9px7mugglWAxcL2MK1FcG",
      "include_colab_link": true
    },
    "kernelspec": {
      "name": "python3",
      "display_name": "Python 3"
    }
  },
  "cells": [
    {
      "cell_type": "markdown",
      "metadata": {
        "id": "view-in-github",
        "colab_type": "text"
      },
      "source": [
        "<a href=\"https://colab.research.google.com/github/thanadolch/KKU_data_mining/blob/master/Untitled0.ipynb\" target=\"_parent\"><img src=\"https://colab.research.google.com/assets/colab-badge.svg\" alt=\"Open In Colab\"/></a>"
      ]
    },
    {
      "cell_type": "code",
      "metadata": {
        "id": "uDYqBAwoJP_V",
        "colab_type": "code",
        "colab": {}
      },
      "source": [
        ""
      ],
      "execution_count": null,
      "outputs": []
    },
    {
      "cell_type": "markdown",
      "metadata": {
        "id": "P5d8DQeuJRhU",
        "colab_type": "text"
      },
      "source": [
        "\n",
        "Types of Data Set: Record Data\n",
        "Relational tables\n",
        "Data matrix\n",
        "Transaction data\n",
        "Types of Data Set: Graphs and Networks\n",
        "Transportation network\n",
        "World Wide Web\n",
        "Types of Data Set: Spatial, image and multimedia Data\n",
        "Spatial data: maps\n",
        "Image data\n",
        "Video data\n",
        "Attributes\n",
        "เป็นการบ่งบอกถึงคุณลักษณะของข้อมูล\n",
        "Types\n",
        "1.Nominal 2.Binary 3.Ordinal 4.Numeri"
      ]
    }
  ]
}